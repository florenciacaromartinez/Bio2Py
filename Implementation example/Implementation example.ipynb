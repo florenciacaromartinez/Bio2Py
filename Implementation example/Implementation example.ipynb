{
 "cells": [
  {
   "cell_type": "markdown",
   "metadata": {},
   "source": [
    "# Bio2Py: Implementation example"
   ]
  },
  {
   "cell_type": "markdown",
   "metadata": {},
   "source": [
    "Bio2Py automatices the process of loading influent data, changing parameters and running simulations in BioWin. It is necessary to set the system configuration layout, project options, unit system, report options, etc before using Bio2Py. \n",
    "\n",
    "In order to use Bio2Py, **BioWin simulation window must be fully visible**, as Bio2Py relies on image recognition to perform its tasks. Placing BioWin window on the left side of the screen is recomended. \n",
    "\n",
    "**Before using Bio2Py**:\n",
    "- Open BioWin simulation file.\n",
    "- Set the zoom to 100% on BioWin window.\n",
    "- Manually run a single flow balance and steady state/dynamic simulation. Check for any warning messages that could interrupt Bio2Py process. If necessary, the user may consider disabling BioWin alarms to prevent Bio2Py interruption.  \n",
    "- Choose locations (if applicable): \n",
    "    - For saving BioWin generated reports with simulation results (File -> Report to Excel (TM) -> Choose directory).\n",
    "    - From where variable influent data will be loaded (Influent icon -> Open file -> Choose directory)(***). Only necessary if running simulations with variable influent. Choose the same filepath arg .\n",
    "- Place BioWin simulation window on the left side of the screen. \n",
    "- Make sure influent icon is visible. "
   ]
  },
  {
   "cell_type": "markdown",
   "metadata": {},
   "source": [
    "**1. Loading the necessary packages and setting the environment**"
   ]
  },
  {
   "cell_type": "code",
   "execution_count": 6,
   "metadata": {},
   "outputs": [],
   "source": [
    "import pandas as pd\n",
    "import Bio2Py"
   ]
  },
  {
   "cell_type": "code",
   "execution_count": 7,
   "metadata": {},
   "outputs": [],
   "source": [
    "simulation_window,influen_window=Bio2Py.setting_the_environment()"
   ]
  },
  {
   "cell_type": "markdown",
   "metadata": {},
   "source": [
    "Filepath:  to save the .csv generated files with simulation results.\n",
    "\n",
    "Important: change to the chosen filepath."
   ]
  },
  {
   "cell_type": "code",
   "execution_count": 8,
   "metadata": {},
   "outputs": [],
   "source": [
    "filepath=r'C:\\Users\\Usuario\\OneDrive - Facultad de Ingeniería\\Maestría\\Biowin - python\\short communication\\Revisiones\\Implementation example' #change"
   ]
  },
  {
   "cell_type": "markdown",
   "metadata": {},
   "source": [
    "**2. Loading influent data**"
   ]
  },
  {
   "cell_type": "code",
   "execution_count": 9,
   "metadata": {},
   "outputs": [
    {
     "data": {
      "text/html": [
       "<div>\n",
       "<style scoped>\n",
       "    .dataframe tbody tr th:only-of-type {\n",
       "        vertical-align: middle;\n",
       "    }\n",
       "\n",
       "    .dataframe tbody tr th {\n",
       "        vertical-align: top;\n",
       "    }\n",
       "\n",
       "    .dataframe thead th {\n",
       "        text-align: right;\n",
       "    }\n",
       "</style>\n",
       "<table border=\"1\" class=\"dataframe\">\n",
       "  <thead>\n",
       "    <tr style=\"text-align: right;\">\n",
       "      <th></th>\n",
       "      <th>Flow</th>\n",
       "      <th>COD (mg-COD/L)</th>\n",
       "      <th>TKN (mg-N/L)</th>\n",
       "      <th>TP (mg-P/L)</th>\n",
       "      <th>TS (mg-S/L)</th>\n",
       "      <th>Nitrate (mg-N/L)</th>\n",
       "      <th>pH</th>\n",
       "      <th>Alkalinity (mmol/L)</th>\n",
       "      <th>ISS total (mg-ISS/L)</th>\n",
       "      <th>Metal soluble - Ca (mg/L)</th>\n",
       "      <th>Metal soluble - Mg (mg/L)</th>\n",
       "      <th>Gas - Dissolved O2 (mg/L)</th>\n",
       "    </tr>\n",
       "  </thead>\n",
       "  <tbody>\n",
       "    <tr>\n",
       "      <th>0</th>\n",
       "      <td>840.0</td>\n",
       "      <td>1040.0</td>\n",
       "      <td>32.0</td>\n",
       "      <td>36.0</td>\n",
       "      <td>10.0</td>\n",
       "      <td>0</td>\n",
       "      <td>5.1</td>\n",
       "      <td>6.0</td>\n",
       "      <td>45.0</td>\n",
       "      <td>80.0</td>\n",
       "      <td>15.0</td>\n",
       "      <td>0</td>\n",
       "    </tr>\n",
       "  </tbody>\n",
       "</table>\n",
       "</div>"
      ],
      "text/plain": [
       "    Flow  COD (mg-COD/L)  TKN (mg-N/L)  TP (mg-P/L)  TS (mg-S/L)  \\\n",
       "0  840.0          1040.0          32.0         36.0         10.0   \n",
       "\n",
       "   Nitrate (mg-N/L)   pH  Alkalinity (mmol/L)  ISS total (mg-ISS/L)  \\\n",
       "0                 0  5.1                  6.0                  45.0   \n",
       "\n",
       "   Metal soluble - Ca (mg/L)  Metal soluble - Mg (mg/L)  \\\n",
       "0                       80.0                       15.0   \n",
       "\n",
       "   Gas - Dissolved O2 (mg/L)  \n",
       "0                          0  "
      ]
     },
     "execution_count": 9,
     "metadata": {},
     "output_type": "execute_result"
    }
   ],
   "source": [
    "column_names= ['Flow','COD (mg-COD/L)','TKN (mg-N/L)','TP (mg-P/L)','TS (mg-S/L)','Nitrate (mg-N/L)','pH','Alkalinity (mmol/L)','ISS total (mg-ISS/L)','Metal soluble - Ca (mg/L)','Metal soluble - Mg (mg/L)', 'Gas - Dissolved O2 (mg/L)'] #in the same order of appearence as in BioWin\n",
    "influent= [[840.0,1040.0,32.0,36.0,10.0,0,5.1,6.0,45.0,80.0,15.0,0]] #seed value\n",
    "influent= pd.DataFrame(influent, columns=column_names)\n",
    "influent"
   ]
  },
  {
   "cell_type": "markdown",
   "metadata": {},
   "source": [
    "**3. Running the simulations**"
   ]
  },
  {
   "cell_type": "markdown",
   "metadata": {},
   "source": [
    "- Place BioWin simulation window on the left side of the screen. \n",
    "- Make sure the influent icon is visible. "
   ]
  },
  {
   "cell_type": "code",
   "execution_count": 10,
   "metadata": {},
   "outputs": [
    {
     "name": "stderr",
     "output_type": "stream",
     "text": [
      "21:01:42.390: Flow balance\n",
      "21:01:55.511: Steady State\n"
     ]
    },
    {
     "name": "stdout",
     "output_type": "stream",
     "text": [
      "Iteration 1:\n",
      "Influent TP: 36.0\n",
      "Effluent TP: 3.93\n"
     ]
    },
    {
     "name": "stderr",
     "output_type": "stream",
     "text": [
      "21:02:42.994: Flow balance\n",
      "21:02:55.819: Steady State\n"
     ]
    },
    {
     "name": "stdout",
     "output_type": "stream",
     "text": [
      "Iteration 2:\n",
      "Influent TP: 36.5\n",
      "Effluent TP: 4.25\n"
     ]
    },
    {
     "name": "stderr",
     "output_type": "stream",
     "text": [
      "21:03:43.103: Flow balance\n",
      "21:03:55.956: Steady State\n"
     ]
    },
    {
     "name": "stdout",
     "output_type": "stream",
     "text": [
      "Iteration 3:\n",
      "Influent TP: 37.0\n",
      "Effluent TP: 4.59\n"
     ]
    },
    {
     "name": "stderr",
     "output_type": "stream",
     "text": [
      "21:04:43.493: Flow balance\n",
      "21:04:56.490: Steady State\n"
     ]
    },
    {
     "name": "stdout",
     "output_type": "stream",
     "text": [
      "Iteration 4:\n",
      "Influent TP: 37.5\n",
      "Effluent TP: 4.95\n"
     ]
    },
    {
     "name": "stderr",
     "output_type": "stream",
     "text": [
      "21:05:43.987: Flow balance\n",
      "21:05:57.171: Steady State\n"
     ]
    },
    {
     "name": "stdout",
     "output_type": "stream",
     "text": [
      "Iteration 5:\n",
      "Influent TP: 38.0\n",
      "Effluent TP: 5.32\n"
     ]
    }
   ],
   "source": [
    "TP_efluent = 0\n",
    "iteration = 1\n",
    "it_step = 0.5\n",
    "results_list=[]\n",
    "\n",
    "while TP_efluent < 5.0:\n",
    "    TP_influent = influent.iloc[0,3]\n",
    "    Bio2Py.steady_state_simulations('constant',influent,'seed','current',200,'table',filepath) #Runs steady state simulation for the specified influent parameters\n",
    "    efluent = pd.read_csv('steady_state_c_0.csv')\n",
    "    TP_efluent = efluent.iloc[0, 6]\n",
    "\n",
    "    print(f'Iteration {iteration}:')\n",
    "    print(f'Influent TP: {TP_influent}')\n",
    "    print(f'Effluent TP: {TP_efluent}')\n",
    "\n",
    "    result_values = {'Iteration': iteration, 'Influent_TP': TP_influent}\n",
    "    result_values.update(dict(zip(efluent.columns, efluent.values.flatten())))\n",
    "    results_list.append(result_values)\n",
    "\n",
    "    # Convert the list of results into a DataFrame\n",
    "    results_columns = ['Iteration', 'Influent_TP'] + efluent.columns.tolist()\n",
    "    results = pd.DataFrame(results_list, columns=results_columns)\n",
    "\n",
    "    # Update influent values for the next iteration\n",
    "    influent.at[0, 'TP (mg-P/L)'] = influent.at[0, 'TP (mg-P/L)'] + it_step #Influent characteristics for the next iteration (only changes TP value)\n",
    "    iteration=iteration+1\n"
   ]
  },
  {
   "cell_type": "markdown",
   "metadata": {},
   "source": [
    "**4. Results**"
   ]
  },
  {
   "cell_type": "code",
   "execution_count": 11,
   "metadata": {},
   "outputs": [
    {
     "data": {
      "text/html": [
       "<div>\n",
       "<style scoped>\n",
       "    .dataframe tbody tr th:only-of-type {\n",
       "        vertical-align: middle;\n",
       "    }\n",
       "\n",
       "    .dataframe tbody tr th {\n",
       "        vertical-align: top;\n",
       "    }\n",
       "\n",
       "    .dataframe thead th {\n",
       "        text-align: right;\n",
       "    }\n",
       "</style>\n",
       "<table border=\"1\" class=\"dataframe\">\n",
       "  <thead>\n",
       "    <tr style=\"text-align: right;\">\n",
       "      <th></th>\n",
       "      <th>Iteration</th>\n",
       "      <th>Influent_TP</th>\n",
       "      <th>Elements</th>\n",
       "      <th>BOD - Total Carbonaceous [mg/L]</th>\n",
       "      <th>COD - Total [mg/L]</th>\n",
       "      <th>N - Ammonia [mgN/L]</th>\n",
       "      <th>N - Total Kjeldahl Nitrogen [mgN/L]</th>\n",
       "      <th>P - Soluble PO4-P [mgP/L]</th>\n",
       "      <th>P - Total P [mgP/L]</th>\n",
       "      <th>pH []</th>\n",
       "      <th>Total suspended solids [mg/L]</th>\n",
       "    </tr>\n",
       "  </thead>\n",
       "  <tbody>\n",
       "    <tr>\n",
       "      <th>0</th>\n",
       "      <td>1</td>\n",
       "      <td>36.0</td>\n",
       "      <td>Effluent</td>\n",
       "      <td>4.72</td>\n",
       "      <td>65.36</td>\n",
       "      <td>0.11</td>\n",
       "      <td>1.82</td>\n",
       "      <td>3.43</td>\n",
       "      <td>3.93</td>\n",
       "      <td>6.71</td>\n",
       "      <td>7.53</td>\n",
       "    </tr>\n",
       "    <tr>\n",
       "      <th>1</th>\n",
       "      <td>2</td>\n",
       "      <td>36.5</td>\n",
       "      <td>Effluent</td>\n",
       "      <td>4.72</td>\n",
       "      <td>65.36</td>\n",
       "      <td>0.11</td>\n",
       "      <td>1.82</td>\n",
       "      <td>3.75</td>\n",
       "      <td>4.25</td>\n",
       "      <td>6.70</td>\n",
       "      <td>7.54</td>\n",
       "    </tr>\n",
       "    <tr>\n",
       "      <th>2</th>\n",
       "      <td>3</td>\n",
       "      <td>37.0</td>\n",
       "      <td>Effluent</td>\n",
       "      <td>4.72</td>\n",
       "      <td>65.36</td>\n",
       "      <td>0.11</td>\n",
       "      <td>1.82</td>\n",
       "      <td>4.09</td>\n",
       "      <td>4.59</td>\n",
       "      <td>6.70</td>\n",
       "      <td>7.55</td>\n",
       "    </tr>\n",
       "    <tr>\n",
       "      <th>3</th>\n",
       "      <td>4</td>\n",
       "      <td>37.5</td>\n",
       "      <td>Effluent</td>\n",
       "      <td>4.72</td>\n",
       "      <td>65.36</td>\n",
       "      <td>0.11</td>\n",
       "      <td>1.82</td>\n",
       "      <td>4.44</td>\n",
       "      <td>4.95</td>\n",
       "      <td>6.70</td>\n",
       "      <td>7.55</td>\n",
       "    </tr>\n",
       "    <tr>\n",
       "      <th>4</th>\n",
       "      <td>5</td>\n",
       "      <td>38.0</td>\n",
       "      <td>Effluent</td>\n",
       "      <td>4.72</td>\n",
       "      <td>65.36</td>\n",
       "      <td>0.10</td>\n",
       "      <td>1.82</td>\n",
       "      <td>4.81</td>\n",
       "      <td>5.32</td>\n",
       "      <td>6.70</td>\n",
       "      <td>7.56</td>\n",
       "    </tr>\n",
       "  </tbody>\n",
       "</table>\n",
       "</div>"
      ],
      "text/plain": [
       "   Iteration  Influent_TP  Elements  BOD - Total Carbonaceous [mg/L]  \\\n",
       "0          1         36.0  Effluent                             4.72   \n",
       "1          2         36.5  Effluent                             4.72   \n",
       "2          3         37.0  Effluent                             4.72   \n",
       "3          4         37.5  Effluent                             4.72   \n",
       "4          5         38.0  Effluent                             4.72   \n",
       "\n",
       "   COD - Total [mg/L]  N - Ammonia [mgN/L]  \\\n",
       "0               65.36                 0.11   \n",
       "1               65.36                 0.11   \n",
       "2               65.36                 0.11   \n",
       "3               65.36                 0.11   \n",
       "4               65.36                 0.10   \n",
       "\n",
       "   N - Total Kjeldahl Nitrogen [mgN/L]  P - Soluble PO4-P [mgP/L]  \\\n",
       "0                                 1.82                       3.43   \n",
       "1                                 1.82                       3.75   \n",
       "2                                 1.82                       4.09   \n",
       "3                                 1.82                       4.44   \n",
       "4                                 1.82                       4.81   \n",
       "\n",
       "   P - Total P [mgP/L]  pH []  Total suspended solids [mg/L]  \n",
       "0                 3.93   6.71                           7.53  \n",
       "1                 4.25   6.70                           7.54  \n",
       "2                 4.59   6.70                           7.55  \n",
       "3                 4.95   6.70                           7.55  \n",
       "4                 5.32   6.70                           7.56  "
      ]
     },
     "execution_count": 11,
     "metadata": {},
     "output_type": "execute_result"
    }
   ],
   "source": [
    "results"
   ]
  }
 ],
 "metadata": {
  "kernelspec": {
   "display_name": "data2",
   "language": "python",
   "name": "python3"
  },
  "language_info": {
   "codemirror_mode": {
    "name": "ipython",
    "version": 3
   },
   "file_extension": ".py",
   "mimetype": "text/x-python",
   "name": "python",
   "nbconvert_exporter": "python",
   "pygments_lexer": "ipython3",
   "version": "3.12.0"
  }
 },
 "nbformat": 4,
 "nbformat_minor": 2
}
