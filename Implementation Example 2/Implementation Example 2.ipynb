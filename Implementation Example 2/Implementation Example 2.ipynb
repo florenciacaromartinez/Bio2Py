{
 "cells": [
  {
   "cell_type": "markdown",
   "metadata": {},
   "source": [
    "# Bio2Py: Implementation Example 2\n",
    "### Evaluation of Chemical Consumption for Physicochemical Phosphorus Removal"
   ]
  },
  {
   "cell_type": "markdown",
   "metadata": {},
   "source": [
    "The following simple example illustrates how the user can combine Bio2Py auxiliary functions to automate diffrent actions in BioWin that are not defined on first hand as main functions in Bio2Py. It also demonstrates how Bio2Py can enhance data acquisition processes. \n",
    "\n",
    "In this example, we explore a physicochemical phosphorus removal system using FeCl3, within a specified influent. NaOH is used for adjusting pH.\n",
    "The goal was to generate response surfaces for effluent TP and pH in relation to FeCl3 and NaOH consumption. This analysis could assist in determining the optimal combination of chemicals for influents with particular characteristics. \n",
    "\n",
    "***Steps***\n",
    "1. Define a range of FeCl3 and NaOH flow rates to test.\n",
    "2. Randomly select N (FeCl3, NaOH) pairs within these ranges.\n",
    "3. Run N simulations in BioWin for the correspondig (FeCl3, NaOH) pais. --> This can be automated using Bio2Py auxiliary functions!\n",
    "4. Save simulation results for each (FeCl3, NaOH) pair. --> This can be automated using Bio2Py auxiliary functions!\n",
    "5. Visualize the results to understand how P and pH vary with FeCl3 and NaOH.\n",
    "\n",
    "***Benefits of Bio2Py***\n",
    "\n",
    "Bio2Py simplifies the execution of numerous simulations. In this example, 300 simulations were conducted by the API, enabling the generation of response surfaces for effluent TP and pH regarding FeCl3 and NaOH consumption. Analysis of these surfaces shows that various combinations of FeCl3 and NaOH achieve comparable levels of P removal.  other criteria such as minimizing costs, could be considered to determine the most suitable chemical consumption for the effluent plant.\n",
    "Manually performing these simulations would be laborious and prone to data transfer errors.\n",
    "\n",
    "This example utilizes matplotlib and plotly to visualize BioWin simulation results. Users can install these libraries using pip:\n",
    "    \n",
    "    pip install set_matplotlib\n",
    "    pip install plotly\n",
    "    pip install nbformat"
   ]
  },
  {
   "cell_type": "markdown",
   "metadata": {},
   "source": [
    "**Remember**\n",
    "\n",
    "Bio2Py automatices the process of loading influent data, changing parameters and running simulations in BioWin. It is necessary to set the system configuration layout, project options, unit system, report options, etc before using Bio2Py.  \n",
    "\n",
    "In order to use Bio2Py, **BioWin simulation window must be fully visible**, as Bio2Py relies on image recognition to perform its tasks. \n",
    "\n",
    "Placing BioWin window on the left side of the screen is recomended. \n",
    "\n",
    "**Before using Bio2Py**:\n",
    "- Open BioWin simulation file --> Implementation Example 2 (in this case)\n",
    "- Set the zoom to 100% on BioWin window.\n",
    "- Manually run a single flow balance and steady state/dynamic simulation. Check for any warning messages that could interrupt Bio2Py process. If necessary, the user may consider disabling BioWin alarms to prevent Bio2Py interruption.  \n",
    "- Choose locations (if applicable): \n",
    "    - For saving BioWin generated reports with simulation results (File -> Report to Excel (TM) -> Choose directory).\n",
    "    - From where variable influent data will be loaded (Influent icon -> Open file -> Choose directory)(***). Only necessary if running simulations with variable influent. Choose the same filepath arg .\n",
    "- Place BioWin simulation window on the left side of the screen. \n",
    "- Make sure influent icon is visible. "
   ]
  },
  {
   "cell_type": "markdown",
   "metadata": {},
   "source": [
    "## Load libraries and set the environment"
   ]
  },
  {
   "cell_type": "code",
   "execution_count": 1,
   "metadata": {},
   "outputs": [],
   "source": [
    "import Bio2Py\n",
    "import pandas as pd\n",
    "import pyautogui\n",
    "import time\n",
    "import pyperclip\n",
    "import numpy as np\n",
    "import matplotlib.pyplot as plt"
   ]
  },
  {
   "cell_type": "code",
   "execution_count": 2,
   "metadata": {},
   "outputs": [],
   "source": [
    "filepath=r\"C:\\Users\\Usuario\\OneDrive - Facultad de Ingeniería\\Maestría\\Biowin - python\\Case study\\Implementation example 2\" #change"
   ]
  },
  {
   "cell_type": "code",
   "execution_count": 3,
   "metadata": {},
   "outputs": [],
   "source": [
    "simulation_window,influen_window=Bio2Py.setting_the_environment()"
   ]
  },
  {
   "cell_type": "markdown",
   "metadata": {},
   "source": [
    "## Define functions for changing FeCl3 flow and NaOH flow \n",
    "\n",
    "Use Bio2Py auxiliary functions\n",
    "\n",
    "**Important:**\n",
    "Make sure you have dowloaded all the images contained in the 'Implementation Example 2' and save them in the same folder as this notebook."
   ]
  },
  {
   "cell_type": "code",
   "execution_count": 3,
   "metadata": {},
   "outputs": [],
   "source": [
    "def load_FeCl3 (flow):\n",
    "    \n",
    "    decimal_separator=Bio2Py.get_decimal_separator()\n",
    "\n",
    "    pyautogui.doubleClick(pyautogui.locateCenterOnScreen('FeCl3.PNG',confidence=0.7, grayscale=True))\n",
    "    time.sleep(2)\n",
    "    pyautogui.click(pyautogui.locateCenterOnScreen('edit.PNG',confidence=0.7, grayscale=True))\n",
    "    time.sleep(2)\n",
    "    pyautogui.press('\\t')\n",
    "    pyautogui.press('\\t')\n",
    "    pyautogui.press('enter')\n",
    "    \n",
    "    if decimal_separator == ',':\n",
    "        formatted_value = str(flow).replace('.', ',') \n",
    "        pyautogui.write(str(formatted_value), interval=0.05)\n",
    "    elif decimal_separator == '.':\n",
    "        pyautogui.write(str(flow), interval=0.05)\n",
    "    else: \n",
    "        print('Error while getting decimal separator')    \n",
    "    \n",
    "    pyautogui.press('\\t')\n",
    "    pyautogui.press('\\t')\n",
    "    pyautogui.press('\\t')\n",
    "    pyautogui.press('enter')\n",
    "    time.sleep(1)\n",
    "    pyautogui.press('\\t')\n",
    "    pyautogui.press('enter')\n",
    "\n",
    "def load_influent_state_variable(flow):\n",
    "    \n",
    "    decimal_separator=Bio2Py.get_decimal_separator()\n",
    "\n",
    "    pyautogui.doubleClick(pyautogui.locateCenterOnScreen('NaOH_5N.PNG',confidence=0.7, grayscale=True))\n",
    "    time.sleep(2.5)\n",
    "    pyautogui.click(pyautogui.locateCenterOnScreen('edit.PNG',confidence=0.65, grayscale=True))\n",
    "    time.sleep(2)\n",
    "    pyautogui.press('\\t')\n",
    "    pyautogui.press('\\t')\n",
    "    pyautogui.press('enter')\n",
    "    \n",
    "    if decimal_separator == ',':\n",
    "        formatted_value = str(flow).replace('.', ',') \n",
    "        pyautogui.write(str(formatted_value), interval=0.05)\n",
    "    elif decimal_separator == '.':\n",
    "        pyautogui.write(str(flow), interval=0.05)\n",
    "    else: \n",
    "        print('Error while getting decimal separator')    \n",
    "\n",
    "    pyautogui.press('\\t')\n",
    "    pyautogui.press('\\t')\n",
    "    pyautogui.press('\\t')\n",
    "    pyautogui.press('enter')\n",
    "    time.sleep(1)\n",
    "    pyautogui.press('\\t')\n",
    "    pyautogui.press('enter')"
   ]
  },
  {
   "cell_type": "markdown",
   "metadata": {},
   "source": [
    "## Generating Random FeCl3 and NaOH Pairs\n",
    "\n",
    "1. Define a range of FeCl3 and NaOH flow rates to test \n",
    "2. Randomly select N (FeCl3, NaOH) pairs within these ranges."
   ]
  },
  {
   "cell_type": "code",
   "execution_count": 4,
   "metadata": {},
   "outputs": [],
   "source": [
    "random_state=55\n",
    "n_points= 370\n",
    "x=np.random.randint(400, 1200, n_points)\n",
    "y=np.random.randint(0, 1750, n_points)"
   ]
  },
  {
   "cell_type": "markdown",
   "metadata": {},
   "source": [
    "## Run simulations in BioWin and save results using Bio2Py"
   ]
  },
  {
   "cell_type": "code",
   "execution_count": null,
   "metadata": {},
   "outputs": [],
   "source": [
    "results=pd.DataFrame([])\n",
    "\n",
    "for n in range(n_points):\n",
    "    #Load chemical flows \n",
    "    load_FeCl3(x[n])\n",
    "    time.sleep(0.5)\n",
    "    load_influent_state_variable(y[n])\n",
    "    time.sleep(1)\n",
    "    \n",
    "    #Run steady state simulation\n",
    "    Bio2Py.steady_state('None', 'current',60) \n",
    "    \n",
    "    #Save results\n",
    "    time.sleep(1)\n",
    "    Bio2Py.save_results('table','P',0,filepath)\n",
    "    effluent=pd.read_csv('P_0.csv')\n",
    "    TP_effluent=effluent.iloc[0,1]\n",
    "    pH_effluent=effluent.iloc[0,3]\n",
    "    results_iteration=effluent\n",
    "    results_iteration['FeCl3(L/d)']=x[n]\n",
    "    results_iteration['NaOH(L/d)']=y[n]\n",
    "    results = pd.concat([results, results_iteration], axis=0)\n",
    "    \n",
    "    time.sleep(1)"
   ]
  },
  {
   "cell_type": "code",
   "execution_count": null,
   "metadata": {},
   "outputs": [],
   "source": [
    "#results.to_csv('results_1.csv', index=False)"
   ]
  },
  {
   "cell_type": "markdown",
   "metadata": {},
   "source": [
    "## If the user prefers not to execute all iterations, they have the option to load our results instead:"
   ]
  },
  {
   "cell_type": "code",
   "execution_count": 11,
   "metadata": {},
   "outputs": [
    {
     "data": {
      "text/html": [
       "<div>\n",
       "<style scoped>\n",
       "    .dataframe tbody tr th:only-of-type {\n",
       "        vertical-align: middle;\n",
       "    }\n",
       "\n",
       "    .dataframe tbody tr th {\n",
       "        vertical-align: top;\n",
       "    }\n",
       "\n",
       "    .dataframe thead th {\n",
       "        text-align: right;\n",
       "    }\n",
       "</style>\n",
       "<table border=\"1\" class=\"dataframe\">\n",
       "  <thead>\n",
       "    <tr style=\"text-align: right;\">\n",
       "      <th></th>\n",
       "      <th>Elements</th>\n",
       "      <th>P - Total P [mgP/L]</th>\n",
       "      <th>P - Soluble PO4-P [mgP/L]</th>\n",
       "      <th>pH []</th>\n",
       "      <th>COD - Total [mg/L]</th>\n",
       "      <th>N - Total Kjeldahl Nitrogen [mgN/L]</th>\n",
       "      <th>Total suspended solids [mg/L]</th>\n",
       "      <th>FeCl3(L/d)</th>\n",
       "      <th>NaOH(L/d)</th>\n",
       "    </tr>\n",
       "  </thead>\n",
       "  <tbody>\n",
       "    <tr>\n",
       "      <th>0</th>\n",
       "      <td>Effluent</td>\n",
       "      <td>4.96</td>\n",
       "      <td>2.14</td>\n",
       "      <td>6.96</td>\n",
       "      <td>56.33</td>\n",
       "      <td>3.07</td>\n",
       "      <td>54.82</td>\n",
       "      <td>944</td>\n",
       "      <td>1600</td>\n",
       "    </tr>\n",
       "    <tr>\n",
       "      <th>1</th>\n",
       "      <td>Effluent</td>\n",
       "      <td>4.58</td>\n",
       "      <td>1.72</td>\n",
       "      <td>5.72</td>\n",
       "      <td>56.33</td>\n",
       "      <td>3.07</td>\n",
       "      <td>44.98</td>\n",
       "      <td>680</td>\n",
       "      <td>589</td>\n",
       "    </tr>\n",
       "    <tr>\n",
       "      <th>2</th>\n",
       "      <td>Effluent</td>\n",
       "      <td>6.23</td>\n",
       "      <td>3.56</td>\n",
       "      <td>3.30</td>\n",
       "      <td>56.33</td>\n",
       "      <td>3.07</td>\n",
       "      <td>55.79</td>\n",
       "      <td>979</td>\n",
       "      <td>1006</td>\n",
       "    </tr>\n",
       "    <tr>\n",
       "      <th>3</th>\n",
       "      <td>Effluent</td>\n",
       "      <td>14.96</td>\n",
       "      <td>13.28</td>\n",
       "      <td>2.64</td>\n",
       "      <td>56.33</td>\n",
       "      <td>3.07</td>\n",
       "      <td>47.62</td>\n",
       "      <td>841</td>\n",
       "      <td>357</td>\n",
       "    </tr>\n",
       "    <tr>\n",
       "      <th>4</th>\n",
       "      <td>Effluent</td>\n",
       "      <td>24.56</td>\n",
       "      <td>23.96</td>\n",
       "      <td>9.62</td>\n",
       "      <td>56.33</td>\n",
       "      <td>3.07</td>\n",
       "      <td>35.91</td>\n",
       "      <td>626</td>\n",
       "      <td>1616</td>\n",
       "    </tr>\n",
       "    <tr>\n",
       "      <th>...</th>\n",
       "      <td>...</td>\n",
       "      <td>...</td>\n",
       "      <td>...</td>\n",
       "      <td>...</td>\n",
       "      <td>...</td>\n",
       "      <td>...</td>\n",
       "      <td>...</td>\n",
       "      <td>...</td>\n",
       "      <td>...</td>\n",
       "    </tr>\n",
       "    <tr>\n",
       "      <th>365</th>\n",
       "      <td>Effluent</td>\n",
       "      <td>5.84</td>\n",
       "      <td>3.12</td>\n",
       "      <td>7.01</td>\n",
       "      <td>56.33</td>\n",
       "      <td>3.07</td>\n",
       "      <td>44.54</td>\n",
       "      <td>680</td>\n",
       "      <td>1072</td>\n",
       "    </tr>\n",
       "    <tr>\n",
       "      <th>366</th>\n",
       "      <td>Effluent</td>\n",
       "      <td>11.55</td>\n",
       "      <td>9.48</td>\n",
       "      <td>2.78</td>\n",
       "      <td>56.33</td>\n",
       "      <td>3.07</td>\n",
       "      <td>60.03</td>\n",
       "      <td>1137</td>\n",
       "      <td>1101</td>\n",
       "    </tr>\n",
       "    <tr>\n",
       "      <th>367</th>\n",
       "      <td>Effluent</td>\n",
       "      <td>4.09</td>\n",
       "      <td>1.18</td>\n",
       "      <td>5.98</td>\n",
       "      <td>56.33</td>\n",
       "      <td>3.07</td>\n",
       "      <td>55.31</td>\n",
       "      <td>949</td>\n",
       "      <td>1218</td>\n",
       "    </tr>\n",
       "    <tr>\n",
       "      <th>368</th>\n",
       "      <td>Effluent</td>\n",
       "      <td>19.61</td>\n",
       "      <td>18.45</td>\n",
       "      <td>2.41</td>\n",
       "      <td>56.33</td>\n",
       "      <td>3.07</td>\n",
       "      <td>46.18</td>\n",
       "      <td>845</td>\n",
       "      <td>32</td>\n",
       "    </tr>\n",
       "    <tr>\n",
       "      <th>369</th>\n",
       "      <td>Effluent</td>\n",
       "      <td>4.57</td>\n",
       "      <td>1.71</td>\n",
       "      <td>3.85</td>\n",
       "      <td>56.33</td>\n",
       "      <td>3.07</td>\n",
       "      <td>57.23</td>\n",
       "      <td>1003</td>\n",
       "      <td>1130</td>\n",
       "    </tr>\n",
       "  </tbody>\n",
       "</table>\n",
       "<p>370 rows × 9 columns</p>\n",
       "</div>"
      ],
      "text/plain": [
       "     Elements  P - Total P [mgP/L]  P - Soluble PO4-P [mgP/L]  pH []  \\\n",
       "0    Effluent                 4.96                       2.14   6.96   \n",
       "1    Effluent                 4.58                       1.72   5.72   \n",
       "2    Effluent                 6.23                       3.56   3.30   \n",
       "3    Effluent                14.96                      13.28   2.64   \n",
       "4    Effluent                24.56                      23.96   9.62   \n",
       "..        ...                  ...                        ...    ...   \n",
       "365  Effluent                 5.84                       3.12   7.01   \n",
       "366  Effluent                11.55                       9.48   2.78   \n",
       "367  Effluent                 4.09                       1.18   5.98   \n",
       "368  Effluent                19.61                      18.45   2.41   \n",
       "369  Effluent                 4.57                       1.71   3.85   \n",
       "\n",
       "     COD - Total [mg/L]  N - Total Kjeldahl Nitrogen [mgN/L]  \\\n",
       "0                 56.33                                 3.07   \n",
       "1                 56.33                                 3.07   \n",
       "2                 56.33                                 3.07   \n",
       "3                 56.33                                 3.07   \n",
       "4                 56.33                                 3.07   \n",
       "..                  ...                                  ...   \n",
       "365               56.33                                 3.07   \n",
       "366               56.33                                 3.07   \n",
       "367               56.33                                 3.07   \n",
       "368               56.33                                 3.07   \n",
       "369               56.33                                 3.07   \n",
       "\n",
       "     Total suspended solids [mg/L]  FeCl3(L/d)  NaOH(L/d)  \n",
       "0                            54.82         944       1600  \n",
       "1                            44.98         680        589  \n",
       "2                            55.79         979       1006  \n",
       "3                            47.62         841        357  \n",
       "4                            35.91         626       1616  \n",
       "..                             ...         ...        ...  \n",
       "365                          44.54         680       1072  \n",
       "366                          60.03        1137       1101  \n",
       "367                          55.31         949       1218  \n",
       "368                          46.18         845         32  \n",
       "369                          57.23        1003       1130  \n",
       "\n",
       "[370 rows x 9 columns]"
      ]
     },
     "execution_count": 11,
     "metadata": {},
     "output_type": "execute_result"
    }
   ],
   "source": [
    "results=pd.read_csv('results_1.csv')\n",
    "results"
   ]
  },
  {
   "cell_type": "markdown",
   "metadata": {},
   "source": [
    "## Plotting the results"
   ]
  },
  {
   "cell_type": "code",
   "execution_count": 14,
   "metadata": {},
   "outputs": [
    {
     "data": {
      "application/vnd.plotly.v1+json": {
       "config": {
        "plotlyServerURL": "https://plot.ly"
       },
       "data": [
        {
         "marker": {
          "size": 5
         },
         "mode": "markers",
         "type": "scatter3d",
         "x": [
          944,
          680,
          979,
          841,
          626,
          447,
          978,
          1087,
          406,
          849,
          714,
          876,
          603,
          850,
          664,
          1141,
          965,
          1174,
          852,
          814,
          691,
          798,
          1084,
          845,
          705,
          1162,
          848,
          749,
          1164,
          1097,
          672,
          444,
          606,
          1000,
          959,
          706,
          977,
          407,
          925,
          709,
          1080,
          481,
          585,
          1132,
          802,
          512,
          991,
          606,
          1006,
          899,
          781,
          427,
          786,
          1167,
          998,
          1195,
          1112,
          715,
          476,
          573,
          1105,
          810,
          477,
          1070,
          849,
          781,
          553,
          585,
          865,
          1192,
          753,
          1166,
          1148,
          1164,
          546,
          630,
          973,
          1172,
          450,
          602,
          1003,
          721,
          608,
          481,
          857,
          611,
          761,
          1087,
          1189,
          501,
          878,
          1063,
          1005,
          664,
          927,
          1145,
          491,
          1057,
          593,
          559,
          426,
          898,
          1115,
          840,
          517,
          411,
          959,
          797,
          848,
          463,
          484,
          670,
          1151,
          886,
          1158,
          559,
          822,
          647,
          526,
          684,
          754,
          501,
          500,
          480,
          828,
          719,
          873,
          943,
          806,
          1017,
          461,
          640,
          912,
          825,
          452,
          1094,
          944,
          890,
          401,
          1043,
          646,
          725,
          952,
          647,
          782,
          1102,
          491,
          400,
          863,
          976,
          794,
          609,
          737,
          749,
          936,
          1170,
          603,
          834,
          698,
          599,
          558,
          603,
          1019,
          707,
          715,
          1121,
          419,
          901,
          937,
          934,
          402,
          466,
          1197,
          560,
          1105,
          808,
          661,
          859,
          1149,
          468,
          1161,
          502,
          431,
          1072,
          775,
          672,
          682,
          716,
          469,
          716,
          1097,
          638,
          733,
          622,
          604,
          1000,
          980,
          951,
          697,
          778,
          623,
          897,
          892,
          854,
          747,
          550,
          777,
          946,
          1072,
          730,
          905,
          1196,
          729,
          1033,
          1146,
          495,
          883,
          1074,
          851,
          486,
          902,
          468,
          832,
          1090,
          420,
          927,
          1011,
          747,
          933,
          839,
          619,
          1182,
          491,
          1160,
          787,
          937,
          896,
          975,
          929,
          705,
          500,
          792,
          407,
          680,
          1172,
          728,
          909,
          443,
          993,
          652,
          576,
          867,
          739,
          814,
          1110,
          940,
          549,
          1169,
          964,
          1038,
          700,
          1071,
          577,
          802,
          741,
          753,
          609,
          455,
          1187,
          952,
          724,
          789,
          1079,
          1126,
          816,
          627,
          419,
          1007,
          752,
          747,
          761,
          747,
          829,
          586,
          980,
          1156,
          1070,
          465,
          565,
          997,
          543,
          629,
          496,
          583,
          510,
          1174,
          575,
          694,
          660,
          553,
          410,
          808,
          443,
          931,
          1042,
          1133,
          751,
          552,
          762,
          1149,
          638,
          662,
          1141,
          487,
          1038,
          683,
          830,
          981,
          777,
          794,
          771,
          1159,
          974,
          612,
          621,
          788,
          837,
          1089,
          1093,
          486,
          826,
          1002,
          769,
          517,
          925,
          932,
          498,
          942,
          766,
          442,
          1129,
          726,
          966,
          605,
          711,
          1124,
          992,
          780,
          1150,
          918,
          915,
          732,
          499,
          961,
          546,
          1172,
          939,
          951,
          826,
          579,
          1111,
          1056,
          1067,
          1001,
          1081,
          680,
          1137,
          949,
          845,
          1003
         ],
         "y": [
          1600,
          589,
          1006,
          357,
          1616,
          759,
          1143,
          7,
          661,
          1553,
          482,
          341,
          842,
          249,
          1002,
          1119,
          1467,
          367,
          1537,
          1748,
          1644,
          537,
          1014,
          586,
          645,
          1524,
          763,
          959,
          1425,
          523,
          1154,
          1540,
          580,
          542,
          740,
          475,
          1638,
          777,
          1158,
          1273,
          1347,
          1376,
          1632,
          600,
          1000,
          1056,
          1331,
          23,
          1133,
          1728,
          112,
          1193,
          1349,
          1195,
          1098,
          730,
          384,
          57,
          946,
          1051,
          280,
          958,
          772,
          46,
          861,
          33,
          700,
          1562,
          1059,
          1720,
          344,
          661,
          1387,
          1640,
          272,
          888,
          889,
          72,
          335,
          792,
          266,
          97,
          125,
          1728,
          101,
          1388,
          357,
          1504,
          346,
          148,
          304,
          1093,
          1564,
          1160,
          44,
          593,
          468,
          1717,
          497,
          1216,
          1437,
          648,
          833,
          1060,
          405,
          455,
          605,
          654,
          1463,
          392,
          320,
          842,
          1024,
          1192,
          448,
          915,
          1383,
          1669,
          1006,
          754,
          207,
          1532,
          718,
          1505,
          918,
          496,
          856,
          482,
          223,
          632,
          1444,
          207,
          590,
          688,
          267,
          668,
          583,
          794,
          190,
          1435,
          1273,
          200,
          1067,
          221,
          1558,
          723,
          692,
          172,
          1394,
          656,
          1299,
          949,
          1208,
          161,
          1640,
          981,
          707,
          1071,
          219,
          1721,
          1361,
          763,
          737,
          1170,
          1236,
          839,
          534,
          1727,
          284,
          230,
          1017,
          756,
          311,
          1500,
          414,
          328,
          188,
          292,
          1085,
          1464,
          1427,
          1436,
          1602,
          736,
          1637,
          893,
          750,
          165,
          805,
          746,
          1614,
          677,
          744,
          153,
          1621,
          425,
          1608,
          1724,
          1097,
          129,
          479,
          1190,
          304,
          1161,
          1420,
          422,
          886,
          780,
          377,
          390,
          1616,
          1019,
          986,
          1241,
          1036,
          1718,
          258,
          1728,
          1413,
          442,
          1252,
          387,
          977,
          587,
          1022,
          978,
          420,
          1521,
          997,
          477,
          815,
          1339,
          801,
          827,
          458,
          1569,
          1342,
          489,
          638,
          1290,
          718,
          1095,
          932,
          176,
          243,
          1139,
          366,
          1165,
          1241,
          546,
          1320,
          597,
          1265,
          138,
          297,
          204,
          635,
          1596,
          1570,
          1166,
          497,
          585,
          1232,
          342,
          47,
          1124,
          1092,
          699,
          856,
          1126,
          1012,
          399,
          289,
          1112,
          99,
          682,
          1725,
          1522,
          945,
          1267,
          648,
          8,
          1681,
          1412,
          1228,
          359,
          1509,
          1580,
          393,
          1336,
          196,
          856,
          1093,
          1558,
          952,
          1025,
          1436,
          1407,
          1062,
          1605,
          1187,
          85,
          563,
          712,
          440,
          977,
          1247,
          1667,
          1031,
          1644,
          1188,
          1361,
          1072,
          177,
          543,
          1672,
          673,
          586,
          643,
          873,
          1702,
          504,
          618,
          746,
          347,
          635,
          163,
          702,
          1529,
          1075,
          1551,
          1274,
          1026,
          1244,
          1242,
          1240,
          994,
          1690,
          1197,
          1670,
          1018,
          924,
          1653,
          933,
          391,
          1354,
          119,
          889,
          885,
          310,
          967,
          1418,
          812,
          43,
          1398,
          243,
          113,
          1308,
          488,
          1320,
          452,
          113,
          83,
          1605,
          468,
          1072,
          1101,
          1218,
          32,
          1130
         ],
         "z": [
          4.96,
          4.58,
          6.23,
          14.96,
          24.56,
          9.96,
          4,
          23.06,
          10.08,
          6.95,
          6.47,
          16.33,
          5.78,
          16.98,
          5.66,
          11.33,
          4.33,
          22.13,
          6.51,
          18.66,
          24.36,
          9.3,
          11.16,
          10.33,
          4.5,
          3.85,
          5.86,
          4.64,
          5.12,
          19.57,
          6.99,
          24.6,
          5.03,
          16.9,
          11.84,
          6.25,
          4.74,
          13.53,
          4.11,
          7.65,
          3.92,
          24.58,
          24.59,
          19.48,
          4.41,
          15.87,
          4.06,
          13.14,
          4.62,
          8.83,
          17.09,
          24.56,
          5.98,
          10.77,
          4.99,
          19.41,
          21.16,
          16.07,
          14.29,
          9.96,
          21.82,
          4.33,
          8.65,
          22.75,
          4.21,
          18.17,
          5.91,
          24.58,
          4.22,
          3.87,
          11.94,
          19.54,
          5.24,
          3.88,
          5.18,
          5.59,
          8.94,
          23.41,
          6.36,
          5.57,
          20.32,
          15.59,
          10.9,
          24.6,
          19.1,
          22.21,
          11.99,
          3.95,
          22.42,
          5.56,
          16.96,
          8.25,
          4.31,
          7.43,
          20.99,
          19.82,
          6.06,
          4.34,
          5.02,
          19,
          24.6,
          11.26,
          15.85,
          4.31,
          5.59,
          7.58,
          14.55,
          6.11,
          5.64,
          6.29,
          5.85,
          4.99,
          13.71,
          4.28,
          21.36,
          7.55,
          5.48,
          24.57,
          12.15,
          4.73,
          14.74,
          24.59,
          7.13,
          24.6,
          4.23,
          6.34,
          4.86,
          16.13,
          16.11,
          16.01,
          24.59,
          10.27,
          13.1,
          6.64,
          6.2,
          17.71,
          14.43,
          7.18,
          6.92,
          4,
          12.47,
          13.87,
          4.1,
          10.23,
          12.22,
          17.15,
          7.15,
          6.9,
          4.92,
          14.22,
          5.37,
          6.39,
          5.76,
          15.38,
          5.38,
          15.17,
          5.3,
          4.35,
          12.47,
          24.59,
          24.34,
          5.46,
          14.26,
          6.1,
          6.69,
          15.94,
          7.88,
          8.64,
          18.74,
          19.31,
          24.21,
          8.88,
          22.67,
          24.57,
          20.79,
          14.36,
          11.66,
          16.59,
          12.4,
          24.59,
          4.96,
          24.59,
          24.6,
          16.06,
          17.09,
          5.1,
          4.73,
          14.22,
          9.77,
          4.54,
          4.01,
          4.93,
          4.46,
          10.82,
          24.58,
          18.5,
          4.59,
          5.97,
          5.69,
          16.75,
          4.8,
          4.23,
          17.34,
          4.38,
          9.53,
          5.28,
          4.4,
          10.34,
          20.54,
          9.8,
          5.9,
          15.4,
          4.84,
          3.99,
          13.28,
          24.6,
          17.74,
          4.27,
          5.19,
          6.07,
          4.29,
          6.2,
          4.26,
          18.67,
          23.61,
          4.58,
          18.83,
          14.07,
          4.46,
          12.56,
          5.44,
          8.02,
          8.53,
          17.29,
          10.77,
          4.88,
          4.47,
          16.97,
          12.79,
          8.31,
          7.13,
          4.62,
          20.96,
          12.69,
          22.76,
          5.43,
          16.91,
          24.5,
          3.99,
          4.69,
          22.47,
          11.07,
          6.31,
          17.6,
          21.77,
          19.72,
          5.73,
          3.85,
          4.6,
          5.24,
          5.39,
          18.22,
          17.83,
          13.89,
          16.95,
          5.03,
          8.77,
          8.42,
          17.63,
          4.03,
          4.95,
          12.21,
          21.4,
          10.82,
          18.17,
          5.02,
          24.6,
          4.22,
          4.6,
          6.1,
          4.68,
          17.66,
          13.36,
          24.29,
          4.02,
          21.96,
          3.99,
          24.6,
          5.12,
          4.05,
          5.74,
          5.46,
          19.55,
          24.58,
          11.41,
          14.53,
          24.49,
          14,
          6.2,
          24.59,
          24.57,
          18.16,
          7.43,
          11.25,
          19.3,
          13.93,
          5.79,
          24.6,
          4.69,
          3.91,
          9.73,
          15.13,
          12.35,
          5.64,
          17.93,
          24.51,
          7.3,
          15.62,
          5.43,
          4.32,
          21.06,
          20.93,
          14.84,
          5.3,
          5.46,
          6.16,
          17.85,
          17.09,
          3.95,
          19.72,
          8.18,
          3.99,
          4.63,
          24.01,
          4.18,
          4.16,
          14.31,
          5.78,
          5.19,
          24.6,
          12.97,
          4.73,
          4.96,
          6.35,
          8.84,
          4.92,
          21.4,
          4.39,
          16.12,
          17.95,
          4.38,
          10.72,
          8.36,
          21.52,
          24.53,
          22.76,
          20.6,
          4.16,
          11.78,
          22.18,
          20.56,
          22.27,
          22.54,
          4.42,
          19.82,
          5.84,
          11.55,
          4.09,
          19.61,
          4.57
         ]
        }
       ],
       "layout": {
        "height": 600,
        "scene": {
         "xaxis": {
          "title": {
           "text": "FeCl3 (L/d)"
          }
         },
         "yaxis": {
          "title": {
           "text": "NaOH 5N (L/d)"
          }
         },
         "zaxis": {
          "title": {
           "text": "TP (mg-P/L)"
          }
         }
        },
        "template": {
         "data": {
          "bar": [
           {
            "error_x": {
             "color": "#2a3f5f"
            },
            "error_y": {
             "color": "#2a3f5f"
            },
            "marker": {
             "line": {
              "color": "#E5ECF6",
              "width": 0.5
             },
             "pattern": {
              "fillmode": "overlay",
              "size": 10,
              "solidity": 0.2
             }
            },
            "type": "bar"
           }
          ],
          "barpolar": [
           {
            "marker": {
             "line": {
              "color": "#E5ECF6",
              "width": 0.5
             },
             "pattern": {
              "fillmode": "overlay",
              "size": 10,
              "solidity": 0.2
             }
            },
            "type": "barpolar"
           }
          ],
          "carpet": [
           {
            "aaxis": {
             "endlinecolor": "#2a3f5f",
             "gridcolor": "white",
             "linecolor": "white",
             "minorgridcolor": "white",
             "startlinecolor": "#2a3f5f"
            },
            "baxis": {
             "endlinecolor": "#2a3f5f",
             "gridcolor": "white",
             "linecolor": "white",
             "minorgridcolor": "white",
             "startlinecolor": "#2a3f5f"
            },
            "type": "carpet"
           }
          ],
          "choropleth": [
           {
            "colorbar": {
             "outlinewidth": 0,
             "ticks": ""
            },
            "type": "choropleth"
           }
          ],
          "contour": [
           {
            "colorbar": {
             "outlinewidth": 0,
             "ticks": ""
            },
            "colorscale": [
             [
              0,
              "#0d0887"
             ],
             [
              0.1111111111111111,
              "#46039f"
             ],
             [
              0.2222222222222222,
              "#7201a8"
             ],
             [
              0.3333333333333333,
              "#9c179e"
             ],
             [
              0.4444444444444444,
              "#bd3786"
             ],
             [
              0.5555555555555556,
              "#d8576b"
             ],
             [
              0.6666666666666666,
              "#ed7953"
             ],
             [
              0.7777777777777778,
              "#fb9f3a"
             ],
             [
              0.8888888888888888,
              "#fdca26"
             ],
             [
              1,
              "#f0f921"
             ]
            ],
            "type": "contour"
           }
          ],
          "contourcarpet": [
           {
            "colorbar": {
             "outlinewidth": 0,
             "ticks": ""
            },
            "type": "contourcarpet"
           }
          ],
          "heatmap": [
           {
            "colorbar": {
             "outlinewidth": 0,
             "ticks": ""
            },
            "colorscale": [
             [
              0,
              "#0d0887"
             ],
             [
              0.1111111111111111,
              "#46039f"
             ],
             [
              0.2222222222222222,
              "#7201a8"
             ],
             [
              0.3333333333333333,
              "#9c179e"
             ],
             [
              0.4444444444444444,
              "#bd3786"
             ],
             [
              0.5555555555555556,
              "#d8576b"
             ],
             [
              0.6666666666666666,
              "#ed7953"
             ],
             [
              0.7777777777777778,
              "#fb9f3a"
             ],
             [
              0.8888888888888888,
              "#fdca26"
             ],
             [
              1,
              "#f0f921"
             ]
            ],
            "type": "heatmap"
           }
          ],
          "heatmapgl": [
           {
            "colorbar": {
             "outlinewidth": 0,
             "ticks": ""
            },
            "colorscale": [
             [
              0,
              "#0d0887"
             ],
             [
              0.1111111111111111,
              "#46039f"
             ],
             [
              0.2222222222222222,
              "#7201a8"
             ],
             [
              0.3333333333333333,
              "#9c179e"
             ],
             [
              0.4444444444444444,
              "#bd3786"
             ],
             [
              0.5555555555555556,
              "#d8576b"
             ],
             [
              0.6666666666666666,
              "#ed7953"
             ],
             [
              0.7777777777777778,
              "#fb9f3a"
             ],
             [
              0.8888888888888888,
              "#fdca26"
             ],
             [
              1,
              "#f0f921"
             ]
            ],
            "type": "heatmapgl"
           }
          ],
          "histogram": [
           {
            "marker": {
             "pattern": {
              "fillmode": "overlay",
              "size": 10,
              "solidity": 0.2
             }
            },
            "type": "histogram"
           }
          ],
          "histogram2d": [
           {
            "colorbar": {
             "outlinewidth": 0,
             "ticks": ""
            },
            "colorscale": [
             [
              0,
              "#0d0887"
             ],
             [
              0.1111111111111111,
              "#46039f"
             ],
             [
              0.2222222222222222,
              "#7201a8"
             ],
             [
              0.3333333333333333,
              "#9c179e"
             ],
             [
              0.4444444444444444,
              "#bd3786"
             ],
             [
              0.5555555555555556,
              "#d8576b"
             ],
             [
              0.6666666666666666,
              "#ed7953"
             ],
             [
              0.7777777777777778,
              "#fb9f3a"
             ],
             [
              0.8888888888888888,
              "#fdca26"
             ],
             [
              1,
              "#f0f921"
             ]
            ],
            "type": "histogram2d"
           }
          ],
          "histogram2dcontour": [
           {
            "colorbar": {
             "outlinewidth": 0,
             "ticks": ""
            },
            "colorscale": [
             [
              0,
              "#0d0887"
             ],
             [
              0.1111111111111111,
              "#46039f"
             ],
             [
              0.2222222222222222,
              "#7201a8"
             ],
             [
              0.3333333333333333,
              "#9c179e"
             ],
             [
              0.4444444444444444,
              "#bd3786"
             ],
             [
              0.5555555555555556,
              "#d8576b"
             ],
             [
              0.6666666666666666,
              "#ed7953"
             ],
             [
              0.7777777777777778,
              "#fb9f3a"
             ],
             [
              0.8888888888888888,
              "#fdca26"
             ],
             [
              1,
              "#f0f921"
             ]
            ],
            "type": "histogram2dcontour"
           }
          ],
          "mesh3d": [
           {
            "colorbar": {
             "outlinewidth": 0,
             "ticks": ""
            },
            "type": "mesh3d"
           }
          ],
          "parcoords": [
           {
            "line": {
             "colorbar": {
              "outlinewidth": 0,
              "ticks": ""
             }
            },
            "type": "parcoords"
           }
          ],
          "pie": [
           {
            "automargin": true,
            "type": "pie"
           }
          ],
          "scatter": [
           {
            "fillpattern": {
             "fillmode": "overlay",
             "size": 10,
             "solidity": 0.2
            },
            "type": "scatter"
           }
          ],
          "scatter3d": [
           {
            "line": {
             "colorbar": {
              "outlinewidth": 0,
              "ticks": ""
             }
            },
            "marker": {
             "colorbar": {
              "outlinewidth": 0,
              "ticks": ""
             }
            },
            "type": "scatter3d"
           }
          ],
          "scattercarpet": [
           {
            "marker": {
             "colorbar": {
              "outlinewidth": 0,
              "ticks": ""
             }
            },
            "type": "scattercarpet"
           }
          ],
          "scattergeo": [
           {
            "marker": {
             "colorbar": {
              "outlinewidth": 0,
              "ticks": ""
             }
            },
            "type": "scattergeo"
           }
          ],
          "scattergl": [
           {
            "marker": {
             "colorbar": {
              "outlinewidth": 0,
              "ticks": ""
             }
            },
            "type": "scattergl"
           }
          ],
          "scattermapbox": [
           {
            "marker": {
             "colorbar": {
              "outlinewidth": 0,
              "ticks": ""
             }
            },
            "type": "scattermapbox"
           }
          ],
          "scatterpolar": [
           {
            "marker": {
             "colorbar": {
              "outlinewidth": 0,
              "ticks": ""
             }
            },
            "type": "scatterpolar"
           }
          ],
          "scatterpolargl": [
           {
            "marker": {
             "colorbar": {
              "outlinewidth": 0,
              "ticks": ""
             }
            },
            "type": "scatterpolargl"
           }
          ],
          "scatterternary": [
           {
            "marker": {
             "colorbar": {
              "outlinewidth": 0,
              "ticks": ""
             }
            },
            "type": "scatterternary"
           }
          ],
          "surface": [
           {
            "colorbar": {
             "outlinewidth": 0,
             "ticks": ""
            },
            "colorscale": [
             [
              0,
              "#0d0887"
             ],
             [
              0.1111111111111111,
              "#46039f"
             ],
             [
              0.2222222222222222,
              "#7201a8"
             ],
             [
              0.3333333333333333,
              "#9c179e"
             ],
             [
              0.4444444444444444,
              "#bd3786"
             ],
             [
              0.5555555555555556,
              "#d8576b"
             ],
             [
              0.6666666666666666,
              "#ed7953"
             ],
             [
              0.7777777777777778,
              "#fb9f3a"
             ],
             [
              0.8888888888888888,
              "#fdca26"
             ],
             [
              1,
              "#f0f921"
             ]
            ],
            "type": "surface"
           }
          ],
          "table": [
           {
            "cells": {
             "fill": {
              "color": "#EBF0F8"
             },
             "line": {
              "color": "white"
             }
            },
            "header": {
             "fill": {
              "color": "#C8D4E3"
             },
             "line": {
              "color": "white"
             }
            },
            "type": "table"
           }
          ]
         },
         "layout": {
          "annotationdefaults": {
           "arrowcolor": "#2a3f5f",
           "arrowhead": 0,
           "arrowwidth": 1
          },
          "autotypenumbers": "strict",
          "coloraxis": {
           "colorbar": {
            "outlinewidth": 0,
            "ticks": ""
           }
          },
          "colorscale": {
           "diverging": [
            [
             0,
             "#8e0152"
            ],
            [
             0.1,
             "#c51b7d"
            ],
            [
             0.2,
             "#de77ae"
            ],
            [
             0.3,
             "#f1b6da"
            ],
            [
             0.4,
             "#fde0ef"
            ],
            [
             0.5,
             "#f7f7f7"
            ],
            [
             0.6,
             "#e6f5d0"
            ],
            [
             0.7,
             "#b8e186"
            ],
            [
             0.8,
             "#7fbc41"
            ],
            [
             0.9,
             "#4d9221"
            ],
            [
             1,
             "#276419"
            ]
           ],
           "sequential": [
            [
             0,
             "#0d0887"
            ],
            [
             0.1111111111111111,
             "#46039f"
            ],
            [
             0.2222222222222222,
             "#7201a8"
            ],
            [
             0.3333333333333333,
             "#9c179e"
            ],
            [
             0.4444444444444444,
             "#bd3786"
            ],
            [
             0.5555555555555556,
             "#d8576b"
            ],
            [
             0.6666666666666666,
             "#ed7953"
            ],
            [
             0.7777777777777778,
             "#fb9f3a"
            ],
            [
             0.8888888888888888,
             "#fdca26"
            ],
            [
             1,
             "#f0f921"
            ]
           ],
           "sequentialminus": [
            [
             0,
             "#0d0887"
            ],
            [
             0.1111111111111111,
             "#46039f"
            ],
            [
             0.2222222222222222,
             "#7201a8"
            ],
            [
             0.3333333333333333,
             "#9c179e"
            ],
            [
             0.4444444444444444,
             "#bd3786"
            ],
            [
             0.5555555555555556,
             "#d8576b"
            ],
            [
             0.6666666666666666,
             "#ed7953"
            ],
            [
             0.7777777777777778,
             "#fb9f3a"
            ],
            [
             0.8888888888888888,
             "#fdca26"
            ],
            [
             1,
             "#f0f921"
            ]
           ]
          },
          "colorway": [
           "#636efa",
           "#EF553B",
           "#00cc96",
           "#ab63fa",
           "#FFA15A",
           "#19d3f3",
           "#FF6692",
           "#B6E880",
           "#FF97FF",
           "#FECB52"
          ],
          "font": {
           "color": "#2a3f5f"
          },
          "geo": {
           "bgcolor": "white",
           "lakecolor": "white",
           "landcolor": "#E5ECF6",
           "showlakes": true,
           "showland": true,
           "subunitcolor": "white"
          },
          "hoverlabel": {
           "align": "left"
          },
          "hovermode": "closest",
          "mapbox": {
           "style": "light"
          },
          "paper_bgcolor": "white",
          "plot_bgcolor": "#E5ECF6",
          "polar": {
           "angularaxis": {
            "gridcolor": "white",
            "linecolor": "white",
            "ticks": ""
           },
           "bgcolor": "#E5ECF6",
           "radialaxis": {
            "gridcolor": "white",
            "linecolor": "white",
            "ticks": ""
           }
          },
          "scene": {
           "xaxis": {
            "backgroundcolor": "#E5ECF6",
            "gridcolor": "white",
            "gridwidth": 2,
            "linecolor": "white",
            "showbackground": true,
            "ticks": "",
            "zerolinecolor": "white"
           },
           "yaxis": {
            "backgroundcolor": "#E5ECF6",
            "gridcolor": "white",
            "gridwidth": 2,
            "linecolor": "white",
            "showbackground": true,
            "ticks": "",
            "zerolinecolor": "white"
           },
           "zaxis": {
            "backgroundcolor": "#E5ECF6",
            "gridcolor": "white",
            "gridwidth": 2,
            "linecolor": "white",
            "showbackground": true,
            "ticks": "",
            "zerolinecolor": "white"
           }
          },
          "shapedefaults": {
           "line": {
            "color": "#2a3f5f"
           }
          },
          "ternary": {
           "aaxis": {
            "gridcolor": "white",
            "linecolor": "white",
            "ticks": ""
           },
           "baxis": {
            "gridcolor": "white",
            "linecolor": "white",
            "ticks": ""
           },
           "bgcolor": "#E5ECF6",
           "caxis": {
            "gridcolor": "white",
            "linecolor": "white",
            "ticks": ""
           }
          },
          "title": {
           "x": 0.05
          },
          "xaxis": {
           "automargin": true,
           "gridcolor": "white",
           "linecolor": "white",
           "ticks": "",
           "title": {
            "standoff": 15
           },
           "zerolinecolor": "white",
           "zerolinewidth": 2
          },
          "yaxis": {
           "automargin": true,
           "gridcolor": "white",
           "linecolor": "white",
           "ticks": "",
           "title": {
            "standoff": 15
           },
           "zerolinecolor": "white",
           "zerolinewidth": 2
          }
         }
        },
        "title": {
         "text": "Effluent TP as a function of FeCl3 and NaOH consumption"
        },
        "width": 800
       }
      }
     },
     "metadata": {},
     "output_type": "display_data"
    }
   ],
   "source": [
    "import plotly.graph_objs as go\n",
    "import numpy as np\n",
    "\n",
    "x = results['FeCl3(L/d)']\n",
    "y = results['NaOH(L/d)']\n",
    "z = results['P - Total P [mgP/L]']\n",
    "\n",
    "fig = go.Figure(data=[go.Scatter3d(x=x, y=y, z=z, mode='markers',\n",
    "                                   marker=dict(size=5))])\n",
    "\n",
    "fig.update_layout(title='Effluent TP as a function of FeCl3 and NaOH consumption',\n",
    "                  scene=dict(\n",
    "                      xaxis_title='FeCl3 (L/d)',\n",
    "                      yaxis_title='NaOH 5N (L/d)',\n",
    "                      zaxis_title='TP (mg-P/L)'\n",
    "                  ))\n",
    "\n",
    "fig.update_layout(width=800, height=600)\n",
    "\n",
    "fig.show()\n"
   ]
  },
  {
   "cell_type": "code",
   "execution_count": 13,
   "metadata": {},
   "outputs": [
    {
     "data": {
      "application/vnd.plotly.v1+json": {
       "config": {
        "plotlyServerURL": "https://plot.ly"
       },
       "data": [
        {
         "marker": {
          "size": 5
         },
         "mode": "markers",
         "type": "scatter3d",
         "x": [
          944,
          680,
          979,
          841,
          626,
          447,
          978,
          1087,
          406,
          849,
          714,
          876,
          603,
          850,
          664,
          1141,
          965,
          1174,
          852,
          814,
          691,
          798,
          1084,
          845,
          705,
          1162,
          848,
          749,
          1164,
          1097,
          672,
          444,
          606,
          1000,
          959,
          706,
          977,
          407,
          925,
          709,
          1080,
          481,
          585,
          1132,
          802,
          512,
          991,
          606,
          1006,
          899,
          781,
          427,
          786,
          1167,
          998,
          1195,
          1112,
          715,
          476,
          573,
          1105,
          810,
          477,
          1070,
          849,
          781,
          553,
          585,
          865,
          1192,
          753,
          1166,
          1148,
          1164,
          546,
          630,
          973,
          1172,
          450,
          602,
          1003,
          721,
          608,
          481,
          857,
          611,
          761,
          1087,
          1189,
          501,
          878,
          1063,
          1005,
          664,
          927,
          1145,
          491,
          1057,
          593,
          559,
          426,
          898,
          1115,
          840,
          517,
          411,
          959,
          797,
          848,
          463,
          484,
          670,
          1151,
          886,
          1158,
          559,
          822,
          647,
          526,
          684,
          754,
          501,
          500,
          480,
          828,
          719,
          873,
          943,
          806,
          1017,
          461,
          640,
          912,
          825,
          452,
          1094,
          944,
          890,
          401,
          1043,
          646,
          725,
          952,
          647,
          782,
          1102,
          491,
          400,
          863,
          976,
          794,
          609,
          737,
          749,
          936,
          1170,
          603,
          834,
          698,
          599,
          558,
          603,
          1019,
          707,
          715,
          1121,
          419,
          901,
          937,
          934,
          402,
          466,
          1197,
          560,
          1105,
          808,
          661,
          859,
          1149,
          468,
          1161,
          502,
          431,
          1072,
          775,
          672,
          682,
          716,
          469,
          716,
          1097,
          638,
          733,
          622,
          604,
          1000,
          980,
          951,
          697,
          778,
          623,
          897,
          892,
          854,
          747,
          550,
          777,
          946,
          1072,
          730,
          905,
          1196,
          729,
          1033,
          1146,
          495,
          883,
          1074,
          851,
          486,
          902,
          468,
          832,
          1090,
          420,
          927,
          1011,
          747,
          933,
          839,
          619,
          1182,
          491,
          1160,
          787,
          937,
          896,
          975,
          929,
          705,
          500,
          792,
          407,
          680,
          1172,
          728,
          909,
          443,
          993,
          652,
          576,
          867,
          739,
          814,
          1110,
          940,
          549,
          1169,
          964,
          1038,
          700,
          1071,
          577,
          802,
          741,
          753,
          609,
          455,
          1187,
          952,
          724,
          789,
          1079,
          1126,
          816,
          627,
          419,
          1007,
          752,
          747,
          761,
          747,
          829,
          586,
          980,
          1156,
          1070,
          465,
          565,
          997,
          543,
          629,
          496,
          583,
          510,
          1174,
          575,
          694,
          660,
          553,
          410,
          808,
          443,
          931,
          1042,
          1133,
          751,
          552,
          762,
          1149,
          638,
          662,
          1141,
          487,
          1038,
          683,
          830,
          981,
          777,
          794,
          771,
          1159,
          974,
          612,
          621,
          788,
          837,
          1089,
          1093,
          486,
          826,
          1002,
          769,
          517,
          925,
          932,
          498,
          942,
          766,
          442,
          1129,
          726,
          966,
          605,
          711,
          1124,
          992,
          780,
          1150,
          918,
          915,
          732,
          499,
          961,
          546,
          1172,
          939,
          951,
          826,
          579,
          1111,
          1056,
          1067,
          1001,
          1081,
          680,
          1137,
          949,
          845,
          1003
         ],
         "y": [
          1600,
          589,
          1006,
          357,
          1616,
          759,
          1143,
          7,
          661,
          1553,
          482,
          341,
          842,
          249,
          1002,
          1119,
          1467,
          367,
          1537,
          1748,
          1644,
          537,
          1014,
          586,
          645,
          1524,
          763,
          959,
          1425,
          523,
          1154,
          1540,
          580,
          542,
          740,
          475,
          1638,
          777,
          1158,
          1273,
          1347,
          1376,
          1632,
          600,
          1000,
          1056,
          1331,
          23,
          1133,
          1728,
          112,
          1193,
          1349,
          1195,
          1098,
          730,
          384,
          57,
          946,
          1051,
          280,
          958,
          772,
          46,
          861,
          33,
          700,
          1562,
          1059,
          1720,
          344,
          661,
          1387,
          1640,
          272,
          888,
          889,
          72,
          335,
          792,
          266,
          97,
          125,
          1728,
          101,
          1388,
          357,
          1504,
          346,
          148,
          304,
          1093,
          1564,
          1160,
          44,
          593,
          468,
          1717,
          497,
          1216,
          1437,
          648,
          833,
          1060,
          405,
          455,
          605,
          654,
          1463,
          392,
          320,
          842,
          1024,
          1192,
          448,
          915,
          1383,
          1669,
          1006,
          754,
          207,
          1532,
          718,
          1505,
          918,
          496,
          856,
          482,
          223,
          632,
          1444,
          207,
          590,
          688,
          267,
          668,
          583,
          794,
          190,
          1435,
          1273,
          200,
          1067,
          221,
          1558,
          723,
          692,
          172,
          1394,
          656,
          1299,
          949,
          1208,
          161,
          1640,
          981,
          707,
          1071,
          219,
          1721,
          1361,
          763,
          737,
          1170,
          1236,
          839,
          534,
          1727,
          284,
          230,
          1017,
          756,
          311,
          1500,
          414,
          328,
          188,
          292,
          1085,
          1464,
          1427,
          1436,
          1602,
          736,
          1637,
          893,
          750,
          165,
          805,
          746,
          1614,
          677,
          744,
          153,
          1621,
          425,
          1608,
          1724,
          1097,
          129,
          479,
          1190,
          304,
          1161,
          1420,
          422,
          886,
          780,
          377,
          390,
          1616,
          1019,
          986,
          1241,
          1036,
          1718,
          258,
          1728,
          1413,
          442,
          1252,
          387,
          977,
          587,
          1022,
          978,
          420,
          1521,
          997,
          477,
          815,
          1339,
          801,
          827,
          458,
          1569,
          1342,
          489,
          638,
          1290,
          718,
          1095,
          932,
          176,
          243,
          1139,
          366,
          1165,
          1241,
          546,
          1320,
          597,
          1265,
          138,
          297,
          204,
          635,
          1596,
          1570,
          1166,
          497,
          585,
          1232,
          342,
          47,
          1124,
          1092,
          699,
          856,
          1126,
          1012,
          399,
          289,
          1112,
          99,
          682,
          1725,
          1522,
          945,
          1267,
          648,
          8,
          1681,
          1412,
          1228,
          359,
          1509,
          1580,
          393,
          1336,
          196,
          856,
          1093,
          1558,
          952,
          1025,
          1436,
          1407,
          1062,
          1605,
          1187,
          85,
          563,
          712,
          440,
          977,
          1247,
          1667,
          1031,
          1644,
          1188,
          1361,
          1072,
          177,
          543,
          1672,
          673,
          586,
          643,
          873,
          1702,
          504,
          618,
          746,
          347,
          635,
          163,
          702,
          1529,
          1075,
          1551,
          1274,
          1026,
          1244,
          1242,
          1240,
          994,
          1690,
          1197,
          1670,
          1018,
          924,
          1653,
          933,
          391,
          1354,
          119,
          889,
          885,
          310,
          967,
          1418,
          812,
          43,
          1398,
          243,
          113,
          1308,
          488,
          1320,
          452,
          113,
          83,
          1605,
          468,
          1072,
          1101,
          1218,
          32,
          1130
         ],
         "z": [
          6.96,
          5.72,
          3.3,
          2.64,
          9.62,
          7.54,
          5.2,
          2.21,
          7.46,
          7.46,
          3.43,
          2.56,
          6.83,
          2.54,
          6.92,
          2.79,
          6.53,
          2.27,
          7.37,
          8.54,
          9.2,
          3.01,
          2.81,
          2.91,
          5.73,
          5.15,
          3.45,
          6.41,
          3.47,
          2.4,
          7.32,
          10.3,
          6.21,
          2.53,
          2.79,
          3.49,
          6.88,
          7.97,
          5.95,
          7.49,
          5.07,
          9.8,
          9.89,
          2.4,
          6.24,
          8.29,
          6.06,
          2.8,
          3.81,
          7.78,
          2.54,
          9.62,
          7.19,
          2.82,
          3.61,
          2.4,
          2.32,
          2.6,
          8.13,
          7.72,
          2.29,
          6.08,
          7.36,
          2.23,
          5.03,
          2.49,
          6.74,
          9.71,
          6.04,
          5.96,
          2.83,
          2.4,
          3.44,
          5.88,
          5.48,
          6.81,
          2.98,
          2.17,
          6.39,
          6.72,
          2.37,
          2.63,
          2.96,
          10.51,
          2.44,
          8.74,
          2.82,
          5.97,
          2.25,
          5.15,
          2.53,
          3.02,
          6.56,
          7.41,
          2.34,
          2.38,
          6.5,
          6.66,
          6.05,
          8.53,
          10.18,
          2.83,
          2.56,
          6.19,
          6.23,
          6.83,
          2.64,
          3.43,
          7.14,
          6.46,
          6.18,
          6.51,
          2.66,
          6.28,
          2.31,
          7.29,
          7.06,
          9.65,
          7.95,
          6.24,
          2.66,
          10.05,
          7.05,
          10.09,
          5.81,
          3.45,
          3.81,
          2.57,
          2.58,
          2.56,
          10.05,
          3,
          2.72,
          3.3,
          6.21,
          2.48,
          2.65,
          3.19,
          6.28,
          6.05,
          8.07,
          2.72,
          4.85,
          2.99,
          8.1,
          2.51,
          7.03,
          6.24,
          6.86,
          2.66,
          6.99,
          7.08,
          7.07,
          2.63,
          7.12,
          2.59,
          6.52,
          6.25,
          2.81,
          10.01,
          9.18,
          6.65,
          2.65,
          7.14,
          7.3,
          2.56,
          6.99,
          7.76,
          2.45,
          2.42,
          9.1,
          7.38,
          2.23,
          9.69,
          2.34,
          2.67,
          2.88,
          2.55,
          2.73,
          10.06,
          3.53,
          9.84,
          10.47,
          2.56,
          8.45,
          6.62,
          6.24,
          2.7,
          7.55,
          6.03,
          6.23,
          6.29,
          5.9,
          2.96,
          9.76,
          2.45,
          6.79,
          7.3,
          6.99,
          2.56,
          5.76,
          6.22,
          2.52,
          6.37,
          7.8,
          6.09,
          6.07,
          2.89,
          2.35,
          2.99,
          7.26,
          2.58,
          6.56,
          4.94,
          2.68,
          10.43,
          2.5,
          6.61,
          6.98,
          6.47,
          6.34,
          6.42,
          6,
          2.44,
          8.91,
          3.95,
          2.44,
          8.24,
          4.07,
          2.77,
          6.69,
          3.02,
          7.37,
          2.5,
          2.9,
          6.92,
          6.58,
          2.52,
          2.74,
          7.6,
          7.05,
          6.51,
          8.63,
          2.8,
          2.23,
          6.93,
          2.53,
          9.4,
          5.71,
          5.79,
          8.76,
          2.85,
          7.23,
          2.51,
          2.29,
          2.4,
          6.61,
          5.63,
          6.78,
          3.5,
          3.81,
          2.46,
          8.46,
          2.7,
          2.55,
          6.76,
          7.59,
          7.26,
          2.48,
          5.54,
          6.64,
          2.8,
          2.31,
          2.82,
          2.48,
          6.35,
          10.75,
          6.46,
          6.36,
          7.18,
          4.3,
          2.52,
          8.21,
          9.14,
          5.77,
          2.28,
          6.1,
          10.29,
          5.9,
          6.04,
          4.26,
          6.74,
          8.55,
          9.72,
          7.84,
          2.62,
          9.37,
          8.22,
          7.1,
          9.98,
          9.7,
          2.49,
          6.94,
          2.83,
          2.41,
          2.65,
          7.1,
          10.11,
          6.51,
          6,
          7.75,
          8.3,
          2.73,
          5.64,
          2.48,
          9.4,
          3.2,
          2.59,
          3.66,
          5.91,
          8.67,
          2.33,
          2.62,
          6.57,
          4.03,
          3.43,
          2.5,
          2.51,
          6.01,
          8.56,
          7.66,
          5.77,
          6.46,
          9.01,
          6.2,
          6.15,
          8.15,
          7.25,
          6.87,
          10.56,
          2.7,
          6.44,
          6.98,
          7.06,
          3.09,
          3.56,
          2.31,
          6.06,
          2.55,
          2.48,
          4.25,
          7.93,
          7.35,
          2.31,
          9.46,
          2.23,
          2.36,
          6.23,
          2.82,
          8.74,
          2.35,
          2.26,
          2.24,
          6.68,
          2.39,
          7.01,
          2.78,
          5.98,
          2.41,
          3.85
         ]
        }
       ],
       "layout": {
        "height": 600,
        "scene": {
         "xaxis": {
          "title": {
           "text": "FeCl3 (L/d)"
          }
         },
         "yaxis": {
          "title": {
           "text": "NaOH 5N (L/d)"
          }
         },
         "zaxis": {
          "title": {
           "text": "pH"
          }
         }
        },
        "template": {
         "data": {
          "bar": [
           {
            "error_x": {
             "color": "#2a3f5f"
            },
            "error_y": {
             "color": "#2a3f5f"
            },
            "marker": {
             "line": {
              "color": "#E5ECF6",
              "width": 0.5
             },
             "pattern": {
              "fillmode": "overlay",
              "size": 10,
              "solidity": 0.2
             }
            },
            "type": "bar"
           }
          ],
          "barpolar": [
           {
            "marker": {
             "line": {
              "color": "#E5ECF6",
              "width": 0.5
             },
             "pattern": {
              "fillmode": "overlay",
              "size": 10,
              "solidity": 0.2
             }
            },
            "type": "barpolar"
           }
          ],
          "carpet": [
           {
            "aaxis": {
             "endlinecolor": "#2a3f5f",
             "gridcolor": "white",
             "linecolor": "white",
             "minorgridcolor": "white",
             "startlinecolor": "#2a3f5f"
            },
            "baxis": {
             "endlinecolor": "#2a3f5f",
             "gridcolor": "white",
             "linecolor": "white",
             "minorgridcolor": "white",
             "startlinecolor": "#2a3f5f"
            },
            "type": "carpet"
           }
          ],
          "choropleth": [
           {
            "colorbar": {
             "outlinewidth": 0,
             "ticks": ""
            },
            "type": "choropleth"
           }
          ],
          "contour": [
           {
            "colorbar": {
             "outlinewidth": 0,
             "ticks": ""
            },
            "colorscale": [
             [
              0,
              "#0d0887"
             ],
             [
              0.1111111111111111,
              "#46039f"
             ],
             [
              0.2222222222222222,
              "#7201a8"
             ],
             [
              0.3333333333333333,
              "#9c179e"
             ],
             [
              0.4444444444444444,
              "#bd3786"
             ],
             [
              0.5555555555555556,
              "#d8576b"
             ],
             [
              0.6666666666666666,
              "#ed7953"
             ],
             [
              0.7777777777777778,
              "#fb9f3a"
             ],
             [
              0.8888888888888888,
              "#fdca26"
             ],
             [
              1,
              "#f0f921"
             ]
            ],
            "type": "contour"
           }
          ],
          "contourcarpet": [
           {
            "colorbar": {
             "outlinewidth": 0,
             "ticks": ""
            },
            "type": "contourcarpet"
           }
          ],
          "heatmap": [
           {
            "colorbar": {
             "outlinewidth": 0,
             "ticks": ""
            },
            "colorscale": [
             [
              0,
              "#0d0887"
             ],
             [
              0.1111111111111111,
              "#46039f"
             ],
             [
              0.2222222222222222,
              "#7201a8"
             ],
             [
              0.3333333333333333,
              "#9c179e"
             ],
             [
              0.4444444444444444,
              "#bd3786"
             ],
             [
              0.5555555555555556,
              "#d8576b"
             ],
             [
              0.6666666666666666,
              "#ed7953"
             ],
             [
              0.7777777777777778,
              "#fb9f3a"
             ],
             [
              0.8888888888888888,
              "#fdca26"
             ],
             [
              1,
              "#f0f921"
             ]
            ],
            "type": "heatmap"
           }
          ],
          "heatmapgl": [
           {
            "colorbar": {
             "outlinewidth": 0,
             "ticks": ""
            },
            "colorscale": [
             [
              0,
              "#0d0887"
             ],
             [
              0.1111111111111111,
              "#46039f"
             ],
             [
              0.2222222222222222,
              "#7201a8"
             ],
             [
              0.3333333333333333,
              "#9c179e"
             ],
             [
              0.4444444444444444,
              "#bd3786"
             ],
             [
              0.5555555555555556,
              "#d8576b"
             ],
             [
              0.6666666666666666,
              "#ed7953"
             ],
             [
              0.7777777777777778,
              "#fb9f3a"
             ],
             [
              0.8888888888888888,
              "#fdca26"
             ],
             [
              1,
              "#f0f921"
             ]
            ],
            "type": "heatmapgl"
           }
          ],
          "histogram": [
           {
            "marker": {
             "pattern": {
              "fillmode": "overlay",
              "size": 10,
              "solidity": 0.2
             }
            },
            "type": "histogram"
           }
          ],
          "histogram2d": [
           {
            "colorbar": {
             "outlinewidth": 0,
             "ticks": ""
            },
            "colorscale": [
             [
              0,
              "#0d0887"
             ],
             [
              0.1111111111111111,
              "#46039f"
             ],
             [
              0.2222222222222222,
              "#7201a8"
             ],
             [
              0.3333333333333333,
              "#9c179e"
             ],
             [
              0.4444444444444444,
              "#bd3786"
             ],
             [
              0.5555555555555556,
              "#d8576b"
             ],
             [
              0.6666666666666666,
              "#ed7953"
             ],
             [
              0.7777777777777778,
              "#fb9f3a"
             ],
             [
              0.8888888888888888,
              "#fdca26"
             ],
             [
              1,
              "#f0f921"
             ]
            ],
            "type": "histogram2d"
           }
          ],
          "histogram2dcontour": [
           {
            "colorbar": {
             "outlinewidth": 0,
             "ticks": ""
            },
            "colorscale": [
             [
              0,
              "#0d0887"
             ],
             [
              0.1111111111111111,
              "#46039f"
             ],
             [
              0.2222222222222222,
              "#7201a8"
             ],
             [
              0.3333333333333333,
              "#9c179e"
             ],
             [
              0.4444444444444444,
              "#bd3786"
             ],
             [
              0.5555555555555556,
              "#d8576b"
             ],
             [
              0.6666666666666666,
              "#ed7953"
             ],
             [
              0.7777777777777778,
              "#fb9f3a"
             ],
             [
              0.8888888888888888,
              "#fdca26"
             ],
             [
              1,
              "#f0f921"
             ]
            ],
            "type": "histogram2dcontour"
           }
          ],
          "mesh3d": [
           {
            "colorbar": {
             "outlinewidth": 0,
             "ticks": ""
            },
            "type": "mesh3d"
           }
          ],
          "parcoords": [
           {
            "line": {
             "colorbar": {
              "outlinewidth": 0,
              "ticks": ""
             }
            },
            "type": "parcoords"
           }
          ],
          "pie": [
           {
            "automargin": true,
            "type": "pie"
           }
          ],
          "scatter": [
           {
            "fillpattern": {
             "fillmode": "overlay",
             "size": 10,
             "solidity": 0.2
            },
            "type": "scatter"
           }
          ],
          "scatter3d": [
           {
            "line": {
             "colorbar": {
              "outlinewidth": 0,
              "ticks": ""
             }
            },
            "marker": {
             "colorbar": {
              "outlinewidth": 0,
              "ticks": ""
             }
            },
            "type": "scatter3d"
           }
          ],
          "scattercarpet": [
           {
            "marker": {
             "colorbar": {
              "outlinewidth": 0,
              "ticks": ""
             }
            },
            "type": "scattercarpet"
           }
          ],
          "scattergeo": [
           {
            "marker": {
             "colorbar": {
              "outlinewidth": 0,
              "ticks": ""
             }
            },
            "type": "scattergeo"
           }
          ],
          "scattergl": [
           {
            "marker": {
             "colorbar": {
              "outlinewidth": 0,
              "ticks": ""
             }
            },
            "type": "scattergl"
           }
          ],
          "scattermapbox": [
           {
            "marker": {
             "colorbar": {
              "outlinewidth": 0,
              "ticks": ""
             }
            },
            "type": "scattermapbox"
           }
          ],
          "scatterpolar": [
           {
            "marker": {
             "colorbar": {
              "outlinewidth": 0,
              "ticks": ""
             }
            },
            "type": "scatterpolar"
           }
          ],
          "scatterpolargl": [
           {
            "marker": {
             "colorbar": {
              "outlinewidth": 0,
              "ticks": ""
             }
            },
            "type": "scatterpolargl"
           }
          ],
          "scatterternary": [
           {
            "marker": {
             "colorbar": {
              "outlinewidth": 0,
              "ticks": ""
             }
            },
            "type": "scatterternary"
           }
          ],
          "surface": [
           {
            "colorbar": {
             "outlinewidth": 0,
             "ticks": ""
            },
            "colorscale": [
             [
              0,
              "#0d0887"
             ],
             [
              0.1111111111111111,
              "#46039f"
             ],
             [
              0.2222222222222222,
              "#7201a8"
             ],
             [
              0.3333333333333333,
              "#9c179e"
             ],
             [
              0.4444444444444444,
              "#bd3786"
             ],
             [
              0.5555555555555556,
              "#d8576b"
             ],
             [
              0.6666666666666666,
              "#ed7953"
             ],
             [
              0.7777777777777778,
              "#fb9f3a"
             ],
             [
              0.8888888888888888,
              "#fdca26"
             ],
             [
              1,
              "#f0f921"
             ]
            ],
            "type": "surface"
           }
          ],
          "table": [
           {
            "cells": {
             "fill": {
              "color": "#EBF0F8"
             },
             "line": {
              "color": "white"
             }
            },
            "header": {
             "fill": {
              "color": "#C8D4E3"
             },
             "line": {
              "color": "white"
             }
            },
            "type": "table"
           }
          ]
         },
         "layout": {
          "annotationdefaults": {
           "arrowcolor": "#2a3f5f",
           "arrowhead": 0,
           "arrowwidth": 1
          },
          "autotypenumbers": "strict",
          "coloraxis": {
           "colorbar": {
            "outlinewidth": 0,
            "ticks": ""
           }
          },
          "colorscale": {
           "diverging": [
            [
             0,
             "#8e0152"
            ],
            [
             0.1,
             "#c51b7d"
            ],
            [
             0.2,
             "#de77ae"
            ],
            [
             0.3,
             "#f1b6da"
            ],
            [
             0.4,
             "#fde0ef"
            ],
            [
             0.5,
             "#f7f7f7"
            ],
            [
             0.6,
             "#e6f5d0"
            ],
            [
             0.7,
             "#b8e186"
            ],
            [
             0.8,
             "#7fbc41"
            ],
            [
             0.9,
             "#4d9221"
            ],
            [
             1,
             "#276419"
            ]
           ],
           "sequential": [
            [
             0,
             "#0d0887"
            ],
            [
             0.1111111111111111,
             "#46039f"
            ],
            [
             0.2222222222222222,
             "#7201a8"
            ],
            [
             0.3333333333333333,
             "#9c179e"
            ],
            [
             0.4444444444444444,
             "#bd3786"
            ],
            [
             0.5555555555555556,
             "#d8576b"
            ],
            [
             0.6666666666666666,
             "#ed7953"
            ],
            [
             0.7777777777777778,
             "#fb9f3a"
            ],
            [
             0.8888888888888888,
             "#fdca26"
            ],
            [
             1,
             "#f0f921"
            ]
           ],
           "sequentialminus": [
            [
             0,
             "#0d0887"
            ],
            [
             0.1111111111111111,
             "#46039f"
            ],
            [
             0.2222222222222222,
             "#7201a8"
            ],
            [
             0.3333333333333333,
             "#9c179e"
            ],
            [
             0.4444444444444444,
             "#bd3786"
            ],
            [
             0.5555555555555556,
             "#d8576b"
            ],
            [
             0.6666666666666666,
             "#ed7953"
            ],
            [
             0.7777777777777778,
             "#fb9f3a"
            ],
            [
             0.8888888888888888,
             "#fdca26"
            ],
            [
             1,
             "#f0f921"
            ]
           ]
          },
          "colorway": [
           "#636efa",
           "#EF553B",
           "#00cc96",
           "#ab63fa",
           "#FFA15A",
           "#19d3f3",
           "#FF6692",
           "#B6E880",
           "#FF97FF",
           "#FECB52"
          ],
          "font": {
           "color": "#2a3f5f"
          },
          "geo": {
           "bgcolor": "white",
           "lakecolor": "white",
           "landcolor": "#E5ECF6",
           "showlakes": true,
           "showland": true,
           "subunitcolor": "white"
          },
          "hoverlabel": {
           "align": "left"
          },
          "hovermode": "closest",
          "mapbox": {
           "style": "light"
          },
          "paper_bgcolor": "white",
          "plot_bgcolor": "#E5ECF6",
          "polar": {
           "angularaxis": {
            "gridcolor": "white",
            "linecolor": "white",
            "ticks": ""
           },
           "bgcolor": "#E5ECF6",
           "radialaxis": {
            "gridcolor": "white",
            "linecolor": "white",
            "ticks": ""
           }
          },
          "scene": {
           "xaxis": {
            "backgroundcolor": "#E5ECF6",
            "gridcolor": "white",
            "gridwidth": 2,
            "linecolor": "white",
            "showbackground": true,
            "ticks": "",
            "zerolinecolor": "white"
           },
           "yaxis": {
            "backgroundcolor": "#E5ECF6",
            "gridcolor": "white",
            "gridwidth": 2,
            "linecolor": "white",
            "showbackground": true,
            "ticks": "",
            "zerolinecolor": "white"
           },
           "zaxis": {
            "backgroundcolor": "#E5ECF6",
            "gridcolor": "white",
            "gridwidth": 2,
            "linecolor": "white",
            "showbackground": true,
            "ticks": "",
            "zerolinecolor": "white"
           }
          },
          "shapedefaults": {
           "line": {
            "color": "#2a3f5f"
           }
          },
          "ternary": {
           "aaxis": {
            "gridcolor": "white",
            "linecolor": "white",
            "ticks": ""
           },
           "baxis": {
            "gridcolor": "white",
            "linecolor": "white",
            "ticks": ""
           },
           "bgcolor": "#E5ECF6",
           "caxis": {
            "gridcolor": "white",
            "linecolor": "white",
            "ticks": ""
           }
          },
          "title": {
           "x": 0.05
          },
          "xaxis": {
           "automargin": true,
           "gridcolor": "white",
           "linecolor": "white",
           "ticks": "",
           "title": {
            "standoff": 15
           },
           "zerolinecolor": "white",
           "zerolinewidth": 2
          },
          "yaxis": {
           "automargin": true,
           "gridcolor": "white",
           "linecolor": "white",
           "ticks": "",
           "title": {
            "standoff": 15
           },
           "zerolinecolor": "white",
           "zerolinewidth": 2
          }
         }
        },
        "title": {
         "text": "Effluent pH as a function of FeCl3 and NaOH consumption"
        },
        "width": 800
       }
      }
     },
     "metadata": {},
     "output_type": "display_data"
    }
   ],
   "source": [
    "x = results['FeCl3(L/d)']\n",
    "y = results['NaOH(L/d)']\n",
    "z = results['pH []']\n",
    "\n",
    "# Create the interactive 3D scatter plot\n",
    "fig = go.Figure(data=[go.Scatter3d(x=x, y=y, z=z, mode='markers',\n",
    "                                   marker=dict(size=5))])\n",
    "\n",
    "# Update the layout of the plot with axis titles\n",
    "fig.update_layout(title='Effluent pH as a function of FeCl3 and NaOH consumption',\n",
    "                  scene=dict(\n",
    "                      xaxis_title='FeCl3 (L/d)',\n",
    "                      yaxis_title='NaOH 5N (L/d)',\n",
    "                      zaxis_title='pH'\n",
    "                  ))\n",
    "\n",
    "# Adjust the size of the plot\n",
    "fig.update_layout(width=800, height=600)\n",
    "\n",
    "# Show the plot\n",
    "fig.show()\n"
   ]
  },
  {
   "cell_type": "markdown",
   "metadata": {},
   "source": [
    "## Identify the FeCl3 and NaOH combinations that ensure compliance with local regulatory standards for effluent quality: \n",
    "\n",
    "- Filter rows where the 'TP' (Total Phosphorus) is less than 5 and the 'pH' is greater than or equal to 6. \n",
    "- Note that other parameters such as NTK and DQO already meet the local regulatory constraints (*).\n",
    "\n",
    "(*) Decreto 253/979. Uruguay, 1979."
   ]
  },
  {
   "cell_type": "code",
   "execution_count": 16,
   "metadata": {},
   "outputs": [],
   "source": [
    "compliant_effluent_df =results[(results['P - Total P [mgP/L]'] < 5) & (results['pH []'] >= 6)]"
   ]
  },
  {
   "cell_type": "code",
   "execution_count": 18,
   "metadata": {},
   "outputs": [
    {
     "data": {
      "application/vnd.plotly.v1+json": {
       "config": {
        "plotlyServerURL": "https://plot.ly"
       },
       "data": [
        {
         "marker": {
          "size": 5
         },
         "mode": "markers",
         "name": "Effluent",
         "type": "scatter3d",
         "x": [
          944,
          680,
          979,
          841,
          626,
          447,
          978,
          1087,
          406,
          849,
          714,
          876,
          603,
          850,
          664,
          1141,
          965,
          1174,
          852,
          814,
          691,
          798,
          1084,
          845,
          705,
          1162,
          848,
          749,
          1164,
          1097,
          672,
          444,
          606,
          1000,
          959,
          706,
          977,
          407,
          925,
          709,
          1080,
          481,
          585,
          1132,
          802,
          512,
          991,
          606,
          1006,
          899,
          781,
          427,
          786,
          1167,
          998,
          1195,
          1112,
          715,
          476,
          573,
          1105,
          810,
          477,
          1070,
          849,
          781,
          553,
          585,
          865,
          1192,
          753,
          1166,
          1148,
          1164,
          546,
          630,
          973,
          1172,
          450,
          602,
          1003,
          721,
          608,
          481,
          857,
          611,
          761,
          1087,
          1189,
          501,
          878,
          1063,
          1005,
          664,
          927,
          1145,
          491,
          1057,
          593,
          559,
          426,
          898,
          1115,
          840,
          517,
          411,
          959,
          797,
          848,
          463,
          484,
          670,
          1151,
          886,
          1158,
          559,
          822,
          647,
          526,
          684,
          754,
          501,
          500,
          480,
          828,
          719,
          873,
          943,
          806,
          1017,
          461,
          640,
          912,
          825,
          452,
          1094,
          944,
          890,
          401,
          1043,
          646,
          725,
          952,
          647,
          782,
          1102,
          491,
          400,
          863,
          976,
          794,
          609,
          737,
          749,
          936,
          1170,
          603,
          834,
          698,
          599,
          558,
          603,
          1019,
          707,
          715,
          1121,
          419,
          901,
          937,
          934,
          402,
          466,
          1197,
          560,
          1105,
          808,
          661,
          859,
          1149,
          468,
          1161,
          502,
          431,
          1072,
          775,
          672,
          682,
          716,
          469,
          716,
          1097,
          638,
          733,
          622,
          604,
          1000,
          980,
          951,
          697,
          778,
          623,
          897,
          892,
          854,
          747,
          550,
          777,
          946,
          1072,
          730,
          905,
          1196,
          729,
          1033,
          1146,
          495,
          883,
          1074,
          851,
          486,
          902,
          468,
          832,
          1090,
          420,
          927,
          1011,
          747,
          933,
          839,
          619,
          1182,
          491,
          1160,
          787,
          937,
          896,
          975,
          929,
          705,
          500,
          792,
          407,
          680,
          1172,
          728,
          909,
          443,
          993,
          652,
          576,
          867,
          739,
          814,
          1110,
          940,
          549,
          1169,
          964,
          1038,
          700,
          1071,
          577,
          802,
          741,
          753,
          609,
          455,
          1187,
          952,
          724,
          789,
          1079,
          1126,
          816,
          627,
          419,
          1007,
          752,
          747,
          761,
          747,
          829,
          586,
          980,
          1156,
          1070,
          465,
          565,
          997,
          543,
          629,
          496,
          583,
          510,
          1174,
          575,
          694,
          660,
          553,
          410,
          808,
          443,
          931,
          1042,
          1133,
          751,
          552,
          762,
          1149,
          638,
          662,
          1141,
          487,
          1038,
          683,
          830,
          981,
          777,
          794,
          771,
          1159,
          974,
          612,
          621,
          788,
          837,
          1089,
          1093,
          486,
          826,
          1002,
          769,
          517,
          925,
          932,
          498,
          942,
          766,
          442,
          1129,
          726,
          966,
          605,
          711,
          1124,
          992,
          780,
          1150,
          918,
          915,
          732,
          499,
          961,
          546,
          1172,
          939,
          951,
          826,
          579,
          1111,
          1056,
          1067,
          1001,
          1081,
          680,
          1137,
          949,
          845,
          1003
         ],
         "y": [
          1600,
          589,
          1006,
          357,
          1616,
          759,
          1143,
          7,
          661,
          1553,
          482,
          341,
          842,
          249,
          1002,
          1119,
          1467,
          367,
          1537,
          1748,
          1644,
          537,
          1014,
          586,
          645,
          1524,
          763,
          959,
          1425,
          523,
          1154,
          1540,
          580,
          542,
          740,
          475,
          1638,
          777,
          1158,
          1273,
          1347,
          1376,
          1632,
          600,
          1000,
          1056,
          1331,
          23,
          1133,
          1728,
          112,
          1193,
          1349,
          1195,
          1098,
          730,
          384,
          57,
          946,
          1051,
          280,
          958,
          772,
          46,
          861,
          33,
          700,
          1562,
          1059,
          1720,
          344,
          661,
          1387,
          1640,
          272,
          888,
          889,
          72,
          335,
          792,
          266,
          97,
          125,
          1728,
          101,
          1388,
          357,
          1504,
          346,
          148,
          304,
          1093,
          1564,
          1160,
          44,
          593,
          468,
          1717,
          497,
          1216,
          1437,
          648,
          833,
          1060,
          405,
          455,
          605,
          654,
          1463,
          392,
          320,
          842,
          1024,
          1192,
          448,
          915,
          1383,
          1669,
          1006,
          754,
          207,
          1532,
          718,
          1505,
          918,
          496,
          856,
          482,
          223,
          632,
          1444,
          207,
          590,
          688,
          267,
          668,
          583,
          794,
          190,
          1435,
          1273,
          200,
          1067,
          221,
          1558,
          723,
          692,
          172,
          1394,
          656,
          1299,
          949,
          1208,
          161,
          1640,
          981,
          707,
          1071,
          219,
          1721,
          1361,
          763,
          737,
          1170,
          1236,
          839,
          534,
          1727,
          284,
          230,
          1017,
          756,
          311,
          1500,
          414,
          328,
          188,
          292,
          1085,
          1464,
          1427,
          1436,
          1602,
          736,
          1637,
          893,
          750,
          165,
          805,
          746,
          1614,
          677,
          744,
          153,
          1621,
          425,
          1608,
          1724,
          1097,
          129,
          479,
          1190,
          304,
          1161,
          1420,
          422,
          886,
          780,
          377,
          390,
          1616,
          1019,
          986,
          1241,
          1036,
          1718,
          258,
          1728,
          1413,
          442,
          1252,
          387,
          977,
          587,
          1022,
          978,
          420,
          1521,
          997,
          477,
          815,
          1339,
          801,
          827,
          458,
          1569,
          1342,
          489,
          638,
          1290,
          718,
          1095,
          932,
          176,
          243,
          1139,
          366,
          1165,
          1241,
          546,
          1320,
          597,
          1265,
          138,
          297,
          204,
          635,
          1596,
          1570,
          1166,
          497,
          585,
          1232,
          342,
          47,
          1124,
          1092,
          699,
          856,
          1126,
          1012,
          399,
          289,
          1112,
          99,
          682,
          1725,
          1522,
          945,
          1267,
          648,
          8,
          1681,
          1412,
          1228,
          359,
          1509,
          1580,
          393,
          1336,
          196,
          856,
          1093,
          1558,
          952,
          1025,
          1436,
          1407,
          1062,
          1605,
          1187,
          85,
          563,
          712,
          440,
          977,
          1247,
          1667,
          1031,
          1644,
          1188,
          1361,
          1072,
          177,
          543,
          1672,
          673,
          586,
          643,
          873,
          1702,
          504,
          618,
          746,
          347,
          635,
          163,
          702,
          1529,
          1075,
          1551,
          1274,
          1026,
          1244,
          1242,
          1240,
          994,
          1690,
          1197,
          1670,
          1018,
          924,
          1653,
          933,
          391,
          1354,
          119,
          889,
          885,
          310,
          967,
          1418,
          812,
          43,
          1398,
          243,
          113,
          1308,
          488,
          1320,
          452,
          113,
          83,
          1605,
          468,
          1072,
          1101,
          1218,
          32,
          1130
         ],
         "z": [
          4.96,
          4.58,
          6.23,
          14.96,
          24.56,
          9.96,
          4,
          23.06,
          10.08,
          6.95,
          6.47,
          16.33,
          5.78,
          16.98,
          5.66,
          11.33,
          4.33,
          22.13,
          6.51,
          18.66,
          24.36,
          9.3,
          11.16,
          10.33,
          4.5,
          3.85,
          5.86,
          4.64,
          5.12,
          19.57,
          6.99,
          24.6,
          5.03,
          16.9,
          11.84,
          6.25,
          4.74,
          13.53,
          4.11,
          7.65,
          3.92,
          24.58,
          24.59,
          19.48,
          4.41,
          15.87,
          4.06,
          13.14,
          4.62,
          8.83,
          17.09,
          24.56,
          5.98,
          10.77,
          4.99,
          19.41,
          21.16,
          16.07,
          14.29,
          9.96,
          21.82,
          4.33,
          8.65,
          22.75,
          4.21,
          18.17,
          5.91,
          24.58,
          4.22,
          3.87,
          11.94,
          19.54,
          5.24,
          3.88,
          5.18,
          5.59,
          8.94,
          23.41,
          6.36,
          5.57,
          20.32,
          15.59,
          10.9,
          24.6,
          19.1,
          22.21,
          11.99,
          3.95,
          22.42,
          5.56,
          16.96,
          8.25,
          4.31,
          7.43,
          20.99,
          19.82,
          6.06,
          4.34,
          5.02,
          19,
          24.6,
          11.26,
          15.85,
          4.31,
          5.59,
          7.58,
          14.55,
          6.11,
          5.64,
          6.29,
          5.85,
          4.99,
          13.71,
          4.28,
          21.36,
          7.55,
          5.48,
          24.57,
          12.15,
          4.73,
          14.74,
          24.59,
          7.13,
          24.6,
          4.23,
          6.34,
          4.86,
          16.13,
          16.11,
          16.01,
          24.59,
          10.27,
          13.1,
          6.64,
          6.2,
          17.71,
          14.43,
          7.18,
          6.92,
          4,
          12.47,
          13.87,
          4.1,
          10.23,
          12.22,
          17.15,
          7.15,
          6.9,
          4.92,
          14.22,
          5.37,
          6.39,
          5.76,
          15.38,
          5.38,
          15.17,
          5.3,
          4.35,
          12.47,
          24.59,
          24.34,
          5.46,
          14.26,
          6.1,
          6.69,
          15.94,
          7.88,
          8.64,
          18.74,
          19.31,
          24.21,
          8.88,
          22.67,
          24.57,
          20.79,
          14.36,
          11.66,
          16.59,
          12.4,
          24.59,
          4.96,
          24.59,
          24.6,
          16.06,
          17.09,
          5.1,
          4.73,
          14.22,
          9.77,
          4.54,
          4.01,
          4.93,
          4.46,
          10.82,
          24.58,
          18.5,
          4.59,
          5.97,
          5.69,
          16.75,
          4.8,
          4.23,
          17.34,
          4.38,
          9.53,
          5.28,
          4.4,
          10.34,
          20.54,
          9.8,
          5.9,
          15.4,
          4.84,
          3.99,
          13.28,
          24.6,
          17.74,
          4.27,
          5.19,
          6.07,
          4.29,
          6.2,
          4.26,
          18.67,
          23.61,
          4.58,
          18.83,
          14.07,
          4.46,
          12.56,
          5.44,
          8.02,
          8.53,
          17.29,
          10.77,
          4.88,
          4.47,
          16.97,
          12.79,
          8.31,
          7.13,
          4.62,
          20.96,
          12.69,
          22.76,
          5.43,
          16.91,
          24.5,
          3.99,
          4.69,
          22.47,
          11.07,
          6.31,
          17.6,
          21.77,
          19.72,
          5.73,
          3.85,
          4.6,
          5.24,
          5.39,
          18.22,
          17.83,
          13.89,
          16.95,
          5.03,
          8.77,
          8.42,
          17.63,
          4.03,
          4.95,
          12.21,
          21.4,
          10.82,
          18.17,
          5.02,
          24.6,
          4.22,
          4.6,
          6.1,
          4.68,
          17.66,
          13.36,
          24.29,
          4.02,
          21.96,
          3.99,
          24.6,
          5.12,
          4.05,
          5.74,
          5.46,
          19.55,
          24.58,
          11.41,
          14.53,
          24.49,
          14,
          6.2,
          24.59,
          24.57,
          18.16,
          7.43,
          11.25,
          19.3,
          13.93,
          5.79,
          24.6,
          4.69,
          3.91,
          9.73,
          15.13,
          12.35,
          5.64,
          17.93,
          24.51,
          7.3,
          15.62,
          5.43,
          4.32,
          21.06,
          20.93,
          14.84,
          5.3,
          5.46,
          6.16,
          17.85,
          17.09,
          3.95,
          19.72,
          8.18,
          3.99,
          4.63,
          24.01,
          4.18,
          4.16,
          14.31,
          5.78,
          5.19,
          24.6,
          12.97,
          4.73,
          4.96,
          6.35,
          8.84,
          4.92,
          21.4,
          4.39,
          16.12,
          17.95,
          4.38,
          10.72,
          8.36,
          21.52,
          24.53,
          22.76,
          20.6,
          4.16,
          11.78,
          22.18,
          20.56,
          22.27,
          22.54,
          4.42,
          19.82,
          5.84,
          11.55,
          4.09,
          19.61,
          4.57
         ]
        },
        {
         "marker": {
          "size": 5
         },
         "mode": "markers",
         "name": "Compliant effluent",
         "type": "scatter3d",
         "x": [
          944,
          965,
          749,
          977,
          802,
          991,
          810,
          865,
          1005,
          1057,
          840,
          670,
          886,
          684,
          1043,
          863,
          834,
          682,
          716,
          1097,
          638,
          980,
          897,
          854,
          777,
          729,
          1074,
          902,
          832,
          937,
          896,
          792,
          964,
          724,
          1007,
          752,
          1070,
          997,
          762,
          1149,
          1093,
          769,
          925,
          932,
          726,
          966,
          780,
          951,
          1001
         ],
         "y": [
          1600,
          1467,
          959,
          1638,
          1000,
          1331,
          958,
          1059,
          1564,
          1717,
          1060,
          842,
          1192,
          754,
          1435,
          1394,
          1071,
          750,
          746,
          1614,
          677,
          1608,
          1190,
          1161,
          886,
          986,
          1728,
          1252,
          977,
          1569,
          1342,
          1095,
          1570,
          1012,
          1522,
          945,
          1509,
          1336,
          1031,
          1644,
          1529,
          1026,
          1242,
          1240,
          924,
          1653,
          889,
          1308,
          1605
         ],
         "z": [
          4.96,
          4.33,
          4.64,
          4.74,
          4.41,
          4.06,
          4.33,
          4.22,
          4.31,
          4.34,
          4.31,
          4.99,
          4.28,
          4.73,
          4,
          4.92,
          4.35,
          4.73,
          4.54,
          4.01,
          4.93,
          4.59,
          4.23,
          4.38,
          4.4,
          4.84,
          4.27,
          4.29,
          4.26,
          4.88,
          4.47,
          4.62,
          4.6,
          4.95,
          4.22,
          4.6,
          3.99,
          4.05,
          4.69,
          3.91,
          3.95,
          4.63,
          4.18,
          4.16,
          4.73,
          4.96,
          4.39,
          4.16,
          4.42
         ]
        }
       ],
       "layout": {
        "height": 600,
        "scene": {
         "xaxis": {
          "title": {
           "text": "FeCl3 (L/d)"
          }
         },
         "yaxis": {
          "title": {
           "text": "NaOH (L/d)"
          }
         },
         "zaxis": {
          "title": {
           "text": "TP (mg-P/L)"
          }
         }
        },
        "template": {
         "data": {
          "bar": [
           {
            "error_x": {
             "color": "#2a3f5f"
            },
            "error_y": {
             "color": "#2a3f5f"
            },
            "marker": {
             "line": {
              "color": "#E5ECF6",
              "width": 0.5
             },
             "pattern": {
              "fillmode": "overlay",
              "size": 10,
              "solidity": 0.2
             }
            },
            "type": "bar"
           }
          ],
          "barpolar": [
           {
            "marker": {
             "line": {
              "color": "#E5ECF6",
              "width": 0.5
             },
             "pattern": {
              "fillmode": "overlay",
              "size": 10,
              "solidity": 0.2
             }
            },
            "type": "barpolar"
           }
          ],
          "carpet": [
           {
            "aaxis": {
             "endlinecolor": "#2a3f5f",
             "gridcolor": "white",
             "linecolor": "white",
             "minorgridcolor": "white",
             "startlinecolor": "#2a3f5f"
            },
            "baxis": {
             "endlinecolor": "#2a3f5f",
             "gridcolor": "white",
             "linecolor": "white",
             "minorgridcolor": "white",
             "startlinecolor": "#2a3f5f"
            },
            "type": "carpet"
           }
          ],
          "choropleth": [
           {
            "colorbar": {
             "outlinewidth": 0,
             "ticks": ""
            },
            "type": "choropleth"
           }
          ],
          "contour": [
           {
            "colorbar": {
             "outlinewidth": 0,
             "ticks": ""
            },
            "colorscale": [
             [
              0,
              "#0d0887"
             ],
             [
              0.1111111111111111,
              "#46039f"
             ],
             [
              0.2222222222222222,
              "#7201a8"
             ],
             [
              0.3333333333333333,
              "#9c179e"
             ],
             [
              0.4444444444444444,
              "#bd3786"
             ],
             [
              0.5555555555555556,
              "#d8576b"
             ],
             [
              0.6666666666666666,
              "#ed7953"
             ],
             [
              0.7777777777777778,
              "#fb9f3a"
             ],
             [
              0.8888888888888888,
              "#fdca26"
             ],
             [
              1,
              "#f0f921"
             ]
            ],
            "type": "contour"
           }
          ],
          "contourcarpet": [
           {
            "colorbar": {
             "outlinewidth": 0,
             "ticks": ""
            },
            "type": "contourcarpet"
           }
          ],
          "heatmap": [
           {
            "colorbar": {
             "outlinewidth": 0,
             "ticks": ""
            },
            "colorscale": [
             [
              0,
              "#0d0887"
             ],
             [
              0.1111111111111111,
              "#46039f"
             ],
             [
              0.2222222222222222,
              "#7201a8"
             ],
             [
              0.3333333333333333,
              "#9c179e"
             ],
             [
              0.4444444444444444,
              "#bd3786"
             ],
             [
              0.5555555555555556,
              "#d8576b"
             ],
             [
              0.6666666666666666,
              "#ed7953"
             ],
             [
              0.7777777777777778,
              "#fb9f3a"
             ],
             [
              0.8888888888888888,
              "#fdca26"
             ],
             [
              1,
              "#f0f921"
             ]
            ],
            "type": "heatmap"
           }
          ],
          "heatmapgl": [
           {
            "colorbar": {
             "outlinewidth": 0,
             "ticks": ""
            },
            "colorscale": [
             [
              0,
              "#0d0887"
             ],
             [
              0.1111111111111111,
              "#46039f"
             ],
             [
              0.2222222222222222,
              "#7201a8"
             ],
             [
              0.3333333333333333,
              "#9c179e"
             ],
             [
              0.4444444444444444,
              "#bd3786"
             ],
             [
              0.5555555555555556,
              "#d8576b"
             ],
             [
              0.6666666666666666,
              "#ed7953"
             ],
             [
              0.7777777777777778,
              "#fb9f3a"
             ],
             [
              0.8888888888888888,
              "#fdca26"
             ],
             [
              1,
              "#f0f921"
             ]
            ],
            "type": "heatmapgl"
           }
          ],
          "histogram": [
           {
            "marker": {
             "pattern": {
              "fillmode": "overlay",
              "size": 10,
              "solidity": 0.2
             }
            },
            "type": "histogram"
           }
          ],
          "histogram2d": [
           {
            "colorbar": {
             "outlinewidth": 0,
             "ticks": ""
            },
            "colorscale": [
             [
              0,
              "#0d0887"
             ],
             [
              0.1111111111111111,
              "#46039f"
             ],
             [
              0.2222222222222222,
              "#7201a8"
             ],
             [
              0.3333333333333333,
              "#9c179e"
             ],
             [
              0.4444444444444444,
              "#bd3786"
             ],
             [
              0.5555555555555556,
              "#d8576b"
             ],
             [
              0.6666666666666666,
              "#ed7953"
             ],
             [
              0.7777777777777778,
              "#fb9f3a"
             ],
             [
              0.8888888888888888,
              "#fdca26"
             ],
             [
              1,
              "#f0f921"
             ]
            ],
            "type": "histogram2d"
           }
          ],
          "histogram2dcontour": [
           {
            "colorbar": {
             "outlinewidth": 0,
             "ticks": ""
            },
            "colorscale": [
             [
              0,
              "#0d0887"
             ],
             [
              0.1111111111111111,
              "#46039f"
             ],
             [
              0.2222222222222222,
              "#7201a8"
             ],
             [
              0.3333333333333333,
              "#9c179e"
             ],
             [
              0.4444444444444444,
              "#bd3786"
             ],
             [
              0.5555555555555556,
              "#d8576b"
             ],
             [
              0.6666666666666666,
              "#ed7953"
             ],
             [
              0.7777777777777778,
              "#fb9f3a"
             ],
             [
              0.8888888888888888,
              "#fdca26"
             ],
             [
              1,
              "#f0f921"
             ]
            ],
            "type": "histogram2dcontour"
           }
          ],
          "mesh3d": [
           {
            "colorbar": {
             "outlinewidth": 0,
             "ticks": ""
            },
            "type": "mesh3d"
           }
          ],
          "parcoords": [
           {
            "line": {
             "colorbar": {
              "outlinewidth": 0,
              "ticks": ""
             }
            },
            "type": "parcoords"
           }
          ],
          "pie": [
           {
            "automargin": true,
            "type": "pie"
           }
          ],
          "scatter": [
           {
            "fillpattern": {
             "fillmode": "overlay",
             "size": 10,
             "solidity": 0.2
            },
            "type": "scatter"
           }
          ],
          "scatter3d": [
           {
            "line": {
             "colorbar": {
              "outlinewidth": 0,
              "ticks": ""
             }
            },
            "marker": {
             "colorbar": {
              "outlinewidth": 0,
              "ticks": ""
             }
            },
            "type": "scatter3d"
           }
          ],
          "scattercarpet": [
           {
            "marker": {
             "colorbar": {
              "outlinewidth": 0,
              "ticks": ""
             }
            },
            "type": "scattercarpet"
           }
          ],
          "scattergeo": [
           {
            "marker": {
             "colorbar": {
              "outlinewidth": 0,
              "ticks": ""
             }
            },
            "type": "scattergeo"
           }
          ],
          "scattergl": [
           {
            "marker": {
             "colorbar": {
              "outlinewidth": 0,
              "ticks": ""
             }
            },
            "type": "scattergl"
           }
          ],
          "scattermapbox": [
           {
            "marker": {
             "colorbar": {
              "outlinewidth": 0,
              "ticks": ""
             }
            },
            "type": "scattermapbox"
           }
          ],
          "scatterpolar": [
           {
            "marker": {
             "colorbar": {
              "outlinewidth": 0,
              "ticks": ""
             }
            },
            "type": "scatterpolar"
           }
          ],
          "scatterpolargl": [
           {
            "marker": {
             "colorbar": {
              "outlinewidth": 0,
              "ticks": ""
             }
            },
            "type": "scatterpolargl"
           }
          ],
          "scatterternary": [
           {
            "marker": {
             "colorbar": {
              "outlinewidth": 0,
              "ticks": ""
             }
            },
            "type": "scatterternary"
           }
          ],
          "surface": [
           {
            "colorbar": {
             "outlinewidth": 0,
             "ticks": ""
            },
            "colorscale": [
             [
              0,
              "#0d0887"
             ],
             [
              0.1111111111111111,
              "#46039f"
             ],
             [
              0.2222222222222222,
              "#7201a8"
             ],
             [
              0.3333333333333333,
              "#9c179e"
             ],
             [
              0.4444444444444444,
              "#bd3786"
             ],
             [
              0.5555555555555556,
              "#d8576b"
             ],
             [
              0.6666666666666666,
              "#ed7953"
             ],
             [
              0.7777777777777778,
              "#fb9f3a"
             ],
             [
              0.8888888888888888,
              "#fdca26"
             ],
             [
              1,
              "#f0f921"
             ]
            ],
            "type": "surface"
           }
          ],
          "table": [
           {
            "cells": {
             "fill": {
              "color": "#EBF0F8"
             },
             "line": {
              "color": "white"
             }
            },
            "header": {
             "fill": {
              "color": "#C8D4E3"
             },
             "line": {
              "color": "white"
             }
            },
            "type": "table"
           }
          ]
         },
         "layout": {
          "annotationdefaults": {
           "arrowcolor": "#2a3f5f",
           "arrowhead": 0,
           "arrowwidth": 1
          },
          "autotypenumbers": "strict",
          "coloraxis": {
           "colorbar": {
            "outlinewidth": 0,
            "ticks": ""
           }
          },
          "colorscale": {
           "diverging": [
            [
             0,
             "#8e0152"
            ],
            [
             0.1,
             "#c51b7d"
            ],
            [
             0.2,
             "#de77ae"
            ],
            [
             0.3,
             "#f1b6da"
            ],
            [
             0.4,
             "#fde0ef"
            ],
            [
             0.5,
             "#f7f7f7"
            ],
            [
             0.6,
             "#e6f5d0"
            ],
            [
             0.7,
             "#b8e186"
            ],
            [
             0.8,
             "#7fbc41"
            ],
            [
             0.9,
             "#4d9221"
            ],
            [
             1,
             "#276419"
            ]
           ],
           "sequential": [
            [
             0,
             "#0d0887"
            ],
            [
             0.1111111111111111,
             "#46039f"
            ],
            [
             0.2222222222222222,
             "#7201a8"
            ],
            [
             0.3333333333333333,
             "#9c179e"
            ],
            [
             0.4444444444444444,
             "#bd3786"
            ],
            [
             0.5555555555555556,
             "#d8576b"
            ],
            [
             0.6666666666666666,
             "#ed7953"
            ],
            [
             0.7777777777777778,
             "#fb9f3a"
            ],
            [
             0.8888888888888888,
             "#fdca26"
            ],
            [
             1,
             "#f0f921"
            ]
           ],
           "sequentialminus": [
            [
             0,
             "#0d0887"
            ],
            [
             0.1111111111111111,
             "#46039f"
            ],
            [
             0.2222222222222222,
             "#7201a8"
            ],
            [
             0.3333333333333333,
             "#9c179e"
            ],
            [
             0.4444444444444444,
             "#bd3786"
            ],
            [
             0.5555555555555556,
             "#d8576b"
            ],
            [
             0.6666666666666666,
             "#ed7953"
            ],
            [
             0.7777777777777778,
             "#fb9f3a"
            ],
            [
             0.8888888888888888,
             "#fdca26"
            ],
            [
             1,
             "#f0f921"
            ]
           ]
          },
          "colorway": [
           "#636efa",
           "#EF553B",
           "#00cc96",
           "#ab63fa",
           "#FFA15A",
           "#19d3f3",
           "#FF6692",
           "#B6E880",
           "#FF97FF",
           "#FECB52"
          ],
          "font": {
           "color": "#2a3f5f"
          },
          "geo": {
           "bgcolor": "white",
           "lakecolor": "white",
           "landcolor": "#E5ECF6",
           "showlakes": true,
           "showland": true,
           "subunitcolor": "white"
          },
          "hoverlabel": {
           "align": "left"
          },
          "hovermode": "closest",
          "mapbox": {
           "style": "light"
          },
          "paper_bgcolor": "white",
          "plot_bgcolor": "#E5ECF6",
          "polar": {
           "angularaxis": {
            "gridcolor": "white",
            "linecolor": "white",
            "ticks": ""
           },
           "bgcolor": "#E5ECF6",
           "radialaxis": {
            "gridcolor": "white",
            "linecolor": "white",
            "ticks": ""
           }
          },
          "scene": {
           "xaxis": {
            "backgroundcolor": "#E5ECF6",
            "gridcolor": "white",
            "gridwidth": 2,
            "linecolor": "white",
            "showbackground": true,
            "ticks": "",
            "zerolinecolor": "white"
           },
           "yaxis": {
            "backgroundcolor": "#E5ECF6",
            "gridcolor": "white",
            "gridwidth": 2,
            "linecolor": "white",
            "showbackground": true,
            "ticks": "",
            "zerolinecolor": "white"
           },
           "zaxis": {
            "backgroundcolor": "#E5ECF6",
            "gridcolor": "white",
            "gridwidth": 2,
            "linecolor": "white",
            "showbackground": true,
            "ticks": "",
            "zerolinecolor": "white"
           }
          },
          "shapedefaults": {
           "line": {
            "color": "#2a3f5f"
           }
          },
          "ternary": {
           "aaxis": {
            "gridcolor": "white",
            "linecolor": "white",
            "ticks": ""
           },
           "baxis": {
            "gridcolor": "white",
            "linecolor": "white",
            "ticks": ""
           },
           "bgcolor": "#E5ECF6",
           "caxis": {
            "gridcolor": "white",
            "linecolor": "white",
            "ticks": ""
           }
          },
          "title": {
           "x": 0.05
          },
          "xaxis": {
           "automargin": true,
           "gridcolor": "white",
           "linecolor": "white",
           "ticks": "",
           "title": {
            "standoff": 15
           },
           "zerolinecolor": "white",
           "zerolinewidth": 2
          },
          "yaxis": {
           "automargin": true,
           "gridcolor": "white",
           "linecolor": "white",
           "ticks": "",
           "title": {
            "standoff": 15
           },
           "zerolinecolor": "white",
           "zerolinewidth": 2
          }
         }
        },
        "title": {
         "text": "Effluent TP as a function of FeCl3 and NaOH consumption"
        },
        "width": 800
       }
      }
     },
     "metadata": {},
     "output_type": "display_data"
    }
   ],
   "source": [
    "x = results['FeCl3(L/d)']\n",
    "y = results['NaOH(L/d)']\n",
    "z = results['P - Total P [mgP/L]']\n",
    "\n",
    "a = compliant_effluent_df['FeCl3(L/d)']\n",
    "b = compliant_effluent_df['NaOH(L/d)']\n",
    "c = compliant_effluent_df['P - Total P [mgP/L]']\n",
    "\n",
    "\n",
    "fig=go.Figure()\n",
    "fig.add_trace(go.Scatter3d(x=x, y=y, z=z, mode='markers',\n",
    "                                   marker=dict(size=5),name='Effluent'))\n",
    "\n",
    "fig.add_trace(go.Scatter3d(x=a, y=b, z=c, mode='markers',\n",
    "                                   marker=dict(size=5),name='Compliant effluent'))\n",
    "\n",
    "fig.update_layout(title='Effluent TP as a function of FeCl3 and NaOH consumption',\n",
    "                  scene=dict(\n",
    "                      xaxis_title='FeCl3 (L/d)',\n",
    "                      yaxis_title='NaOH (L/d)',\n",
    "                      zaxis_title='TP (mg-P/L)'\n",
    "                  ))\n",
    "fig.update_layout(width=800, height=600)\n",
    "\n",
    "fig.show()\n",
    "\n"
   ]
  },
  {
   "cell_type": "markdown",
   "metadata": {},
   "source": [
    "\n",
    "With the presented plot we can observe that different combinations of FeCl3 and NaOH can render the effluent compliant with local regulations. Additionally, other criteria, such as minimizing costs, could be considered to determine the most suitable chemical consumption for the effluent plant.\n",
    "\n",
    "Performing 370 simulations manually may seem daunting, but it can be easily achieved with Bio2Py."
   ]
  }
 ],
 "metadata": {
  "kernelspec": {
   "display_name": "biowin",
   "language": "python",
   "name": "python3"
  },
  "language_info": {
   "codemirror_mode": {
    "name": "ipython",
    "version": 3
   },
   "file_extension": ".py",
   "mimetype": "text/x-python",
   "name": "python",
   "nbconvert_exporter": "python",
   "pygments_lexer": "ipython3",
   "version": "3.12.0"
  }
 },
 "nbformat": 4,
 "nbformat_minor": 2
}
