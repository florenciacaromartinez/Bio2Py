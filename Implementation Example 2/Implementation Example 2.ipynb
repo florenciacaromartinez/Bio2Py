{
 "cells": [
  {
   "cell_type": "markdown",
   "metadata": {},
   "source": [
    "# Bio2Py: Implementation Example 2\n",
    "### Evaluation of Chemical Consumption for Physicochemical Phosphorus Removal"
   ]
  },
  {
   "cell_type": "markdown",
   "metadata": {},
   "source": [
    "The following simple example illustrates how the user can combine Bio2Py auxiliary functions to automate diffrent actions in BioWin that are not defined on first hand as main functions in Bio2Py. It also demonstrates how Bio2Py can enhance data acquisition processes. \n",
    "\n",
    "In this example, we explore a physicochemical phosphorus removal system using FeCl3, within a specified influent. NaOH is used for adjusting pH.\n",
    "The goal was to generate response surfaces for effluent TP and pH in relation to FeCl3 and NaOH consumption. This analysis could assist in determining the optimal combination of chemicals for influents with particular characteristics. \n",
    "\n",
    "***Steps***\n",
    "1. Define a range of FeCl3 and NaOH flow rates to test.\n",
    "2. Randomly select N (FeCl3, NaOH) pairs within these ranges.\n",
    "3. Run N simulations in BioWin for the correspondig (FeCl3, NaOH) pais. --> This can be automated using Bio2Py auxiliary functions!\n",
    "4. Save simulation results for each (FeCl3, NaOH) pair. --> This can be automated using Bio2Py auxiliary functions!\n",
    "5. Visualize the results to understand how P and pH vary with FeCl3 and NaOH.\n",
    "\n",
    "***Benefits of Bio2Py***\n",
    "\n",
    "Bio2Py simplifies the execution of numerous simulations. In this example, 300 simulations were conducted by the API, enabling the generation of response surfaces for effluent TP and pH regarding FeCl3 and NaOH consumption. Analysis of these surfaces shows that various combinations of FeCl3 and NaOH achieve comparable levels of P removal.  other criteria such as minimizing costs, could be considered to determine the most suitable chemical consumption for the effluent plant.\n",
    "Manually performing these simulations would be laborious and prone to data transfer errors.\n",
    "\n",
    "This example utilizes matplotlib and plotly to visualize BioWin simulation results. Users can install these libraries using pip:\n",
    "    \n",
    "    pip install set_matplotlib\n",
    "    pip install plotly\n",
    "    pip install nbformat"
   ]
  },
  {
   "cell_type": "markdown",
   "metadata": {},
   "source": [
    "**Remember**\n",
    "\n",
    "Bio2Py automatices the process of loading influent data, changing parameters and running simulations in BioWin. It is necessary to set the system configuration layout, project options, unit system, report options, etc before using Bio2Py.  \n",
    "\n",
    "In order to use Bio2Py, **BioWin simulation window must be fully visible**, as Bio2Py relies on image recognition to perform its tasks. \n",
    "\n",
    "Placing BioWin window on the left side of the screen is recomended. \n",
    "\n",
    "**Before using Bio2Py**:\n",
    "- Open BioWin simulation file --> Implementation Example 2 (in this case)\n",
    "- Set the zoom to 100% on BioWin window.\n",
    "- Manually run a single flow balance and steady state/dynamic simulation. Check for any warning messages that could interrupt Bio2Py process. If necessary, the user may consider disabling BioWin alarms to prevent Bio2Py interruption.  \n",
    "- Choose locations (if applicable): \n",
    "    - For saving BioWin generated reports with simulation results (File -> Report to Excel (TM) -> Choose directory).\n",
    "    - From where variable influent data will be loaded (Influent icon -> Open file -> Choose directory)(***). Only necessary if running simulations with variable influent. Choose the same filepath arg .\n",
    "- Place BioWin simulation window on the left side of the screen. \n",
    "- Make sure influent icon is visible. "
   ]
  },
  {
   "cell_type": "markdown",
   "metadata": {},
   "source": [
    "## Load libraries and set the environment"
   ]
  },
  {
   "cell_type": "code",
   "execution_count": 1,
   "metadata": {},
   "outputs": [],
   "source": [
    "import Bio2Py\n",
    "import pandas as pd\n",
    "import pyautogui\n",
    "import time\n",
    "import pyperclip\n",
    "import numpy as np\n",
    "import matplotlib.pyplot as plt"
   ]
  },
  {
   "cell_type": "code",
   "execution_count": 2,
   "metadata": {},
   "outputs": [],
   "source": [
    "filepath=r\"C:\\Users\\Usuario\\OneDrive - Facultad de Ingeniería\\Maestría\\Biowin - python\\Case study\\Implementation example 2\" #change"
   ]
  },
  {
   "cell_type": "code",
   "execution_count": 3,
   "metadata": {},
   "outputs": [],
   "source": [
    "simulation_window,influen_window=Bio2Py.setting_the_environment()"
   ]
  },
  {
   "cell_type": "markdown",
   "metadata": {},
   "source": [
    "## Define functions for changing FeCl3 flow and NaOH flow \n",
    "\n",
    "Use Bio2Py auxiliary functions\n",
    "\n",
    "**Important:**\n",
    "Make sure you have dowloaded all the images contained in the 'Implementation Example 2' and save them in the same folder as this notebook."
   ]
  },
  {
   "cell_type": "code",
   "execution_count": 3,
   "metadata": {},
   "outputs": [],
   "source": [
    "def load_FeCl3 (flow):\n",
    "    \n",
    "    decimal_separator=Bio2Py.get_decimal_separator()\n",
    "\n",
    "    pyautogui.doubleClick(pyautogui.locateCenterOnScreen('FeCl3.PNG',confidence=0.7, grayscale=True))\n",
    "    time.sleep(2)\n",
    "    pyautogui.click(pyautogui.locateCenterOnScreen('edit.PNG',confidence=0.7, grayscale=True))\n",
    "    time.sleep(2)\n",
    "    pyautogui.press('\\t')\n",
    "    pyautogui.press('\\t')\n",
    "    pyautogui.press('enter')\n",
    "    \n",
    "    if decimal_separator == ',':\n",
    "        formatted_value = str(flow).replace('.', ',') \n",
    "        pyautogui.write(str(formatted_value), interval=0.05)\n",
    "    elif decimal_separator == '.':\n",
    "        pyautogui.write(str(flow), interval=0.05)\n",
    "    else: \n",
    "        print('Error while getting decimal separator')    \n",
    "    \n",
    "    pyautogui.press('\\t')\n",
    "    pyautogui.press('\\t')\n",
    "    pyautogui.press('\\t')\n",
    "    pyautogui.press('enter')\n",
    "    time.sleep(1)\n",
    "    pyautogui.press('\\t')\n",
    "    pyautogui.press('enter')\n",
    "\n",
    "def load_influent_state_variable(flow):\n",
    "    \n",
    "    decimal_separator=Bio2Py.get_decimal_separator()\n",
    "\n",
    "    pyautogui.doubleClick(pyautogui.locateCenterOnScreen('NaOH_5N.PNG',confidence=0.7, grayscale=True))\n",
    "    time.sleep(2.5)\n",
    "    pyautogui.click(pyautogui.locateCenterOnScreen('edit.PNG',confidence=0.65, grayscale=True))\n",
    "    time.sleep(2)\n",
    "    pyautogui.press('\\t')\n",
    "    pyautogui.press('\\t')\n",
    "    pyautogui.press('enter')\n",
    "    \n",
    "    if decimal_separator == ',':\n",
    "        formatted_value = str(flow).replace('.', ',') \n",
    "        pyautogui.write(str(formatted_value), interval=0.05)\n",
    "    elif decimal_separator == '.':\n",
    "        pyautogui.write(str(flow), interval=0.05)\n",
    "    else: \n",
    "        print('Error while getting decimal separator')    \n",
    "\n",
    "    pyautogui.press('\\t')\n",
    "    pyautogui.press('\\t')\n",
    "    pyautogui.press('\\t')\n",
    "    pyautogui.press('enter')\n",
    "    time.sleep(1)\n",
    "    pyautogui.press('\\t')\n",
    "    pyautogui.press('enter')"
   ]
  },
  {
   "cell_type": "markdown",
   "metadata": {},
   "source": [
    "## Generating Random FeCl3 and NaOH Pairs\n",
    "\n",
    "1. Define a range of FeCl3 and NaOH flow rates to test \n",
    "2. Randomly select N (FeCl3, NaOH) pairs within these ranges."
   ]
  },
  {
   "cell_type": "code",
   "execution_count": 4,
   "metadata": {},
   "outputs": [],
   "source": [
    "random_state=55\n",
    "n_points= 370\n",
    "x=np.random.randint(400, 1200, n_points)\n",
    "y=np.random.randint(0, 1750, n_points)"
   ]
  },
  {
   "cell_type": "markdown",
   "metadata": {},
   "source": [
    "## Run simulations in BioWin and save results using Bio2Py"
   ]
  },
  {
   "cell_type": "code",
   "execution_count": 8,
   "metadata": {},
   "outputs": [
    {
     "name": "stderr",
     "output_type": "stream",
     "text": [
      "00:02:13.062: Steady State\n"
     ]
    },
    {
     "name": "stdout",
     "output_type": "stream",
     "text": [
      "FeCl3 (L/d): 799:\n",
      "NaOH (L/d): 1200\n",
      "TP (mg-P/L): 4.03\n",
      "pH: 6.73\n"
     ]
    },
    {
     "name": "stderr",
     "output_type": "stream",
     "text": [
      "00:02:44.415: Steady State\n"
     ]
    },
    {
     "name": "stdout",
     "output_type": "stream",
     "text": [
      "FeCl3 (L/d): 919:\n",
      "NaOH (L/d): 1042\n",
      "TP (mg-P/L): 3.57\n",
      "pH: 5.46\n"
     ]
    },
    {
     "name": "stderr",
     "output_type": "stream",
     "text": [
      "00:03:15.578: Steady State\n"
     ]
    },
    {
     "name": "stdout",
     "output_type": "stream",
     "text": [
      "FeCl3 (L/d): 1040:\n",
      "NaOH (L/d): 574\n",
      "TP (mg-P/L): 23.74\n",
      "pH: 2.47\n"
     ]
    },
    {
     "name": "stderr",
     "output_type": "stream",
     "text": [
      "00:03:46.752: Steady State\n"
     ]
    },
    {
     "name": "stdout",
     "output_type": "stream",
     "text": [
      "FeCl3 (L/d): 1010:\n",
      "NaOH (L/d): 111\n",
      "TP (mg-P/L): 24.49\n",
      "pH: 2.29\n"
     ]
    },
    {
     "name": "stderr",
     "output_type": "stream",
     "text": [
      "00:04:17.971: Steady State\n"
     ]
    },
    {
     "name": "stdout",
     "output_type": "stream",
     "text": [
      "FeCl3 (L/d): 565:\n",
      "NaOH (L/d): 1283\n",
      "TP (mg-P/L): 20.69\n",
      "pH: 8.88\n"
     ]
    },
    {
     "name": "stderr",
     "output_type": "stream",
     "text": [
      "00:04:49.208: Steady State\n"
     ]
    },
    {
     "name": "stdout",
     "output_type": "stream",
     "text": [
      "FeCl3 (L/d): 777:\n",
      "NaOH (L/d): 524\n",
      "TP (mg-P/L): 13.94\n",
      "pH: 3.01\n"
     ]
    },
    {
     "name": "stderr",
     "output_type": "stream",
     "text": [
      "00:05:20.806: Steady State\n"
     ]
    },
    {
     "name": "stdout",
     "output_type": "stream",
     "text": [
      "FeCl3 (L/d): 1033:\n",
      "NaOH (L/d): 1354\n",
      "TP (mg-P/L): 3.5\n",
      "pH: 5.85\n"
     ]
    },
    {
     "name": "stderr",
     "output_type": "stream",
     "text": [
      "00:05:52.222: Steady State\n"
     ]
    },
    {
     "name": "stdout",
     "output_type": "stream",
     "text": [
      "FeCl3 (L/d): 1177:\n",
      "NaOH (L/d): 1405\n",
      "TP (mg-P/L): 9.83\n",
      "pH: 3.17\n"
     ]
    },
    {
     "name": "stderr",
     "output_type": "stream",
     "text": [
      "00:06:23.396: Steady State\n"
     ]
    },
    {
     "name": "stdout",
     "output_type": "stream",
     "text": [
      "FeCl3 (L/d): 903:\n",
      "NaOH (L/d): 593\n",
      "TP (mg-P/L): 20.15\n",
      "pH: 2.7\n"
     ]
    },
    {
     "name": "stderr",
     "output_type": "stream",
     "text": [
      "00:06:54.542: Steady State\n"
     ]
    },
    {
     "name": "stdout",
     "output_type": "stream",
     "text": [
      "FeCl3 (L/d): 515:\n",
      "NaOH (L/d): 487\n",
      "TP (mg-P/L): 4.75\n",
      "pH: 6.45\n"
     ]
    },
    {
     "name": "stderr",
     "output_type": "stream",
     "text": [
      "00:07:25.793: Steady State\n"
     ]
    },
    {
     "name": "stdout",
     "output_type": "stream",
     "text": [
      "FeCl3 (L/d): 829:\n",
      "NaOH (L/d): 268\n",
      "TP (mg-P/L): 22.98\n",
      "pH: 2.56\n"
     ]
    },
    {
     "name": "stderr",
     "output_type": "stream",
     "text": [
      "00:07:57.004: Steady State\n"
     ]
    },
    {
     "name": "stdout",
     "output_type": "stream",
     "text": [
      "FeCl3 (L/d): 928:\n",
      "NaOH (L/d): 28\n",
      "TP (mg-P/L): 24.45\n",
      "pH: 2.33\n"
     ]
    },
    {
     "name": "stderr",
     "output_type": "stream",
     "text": [
      "00:08:28.109: Steady State\n"
     ]
    },
    {
     "name": "stdout",
     "output_type": "stream",
     "text": [
      "FeCl3 (L/d): 901:\n",
      "NaOH (L/d): 925\n",
      "TP (mg-P/L): 4.74\n",
      "pH: 3.96\n"
     ]
    },
    {
     "name": "stderr",
     "output_type": "stream",
     "text": [
      "00:09:01.358: Steady State\n"
     ]
    },
    {
     "name": "stdout",
     "output_type": "stream",
     "text": [
      "FeCl3 (L/d): 422:\n",
      "NaOH (L/d): 1399\n",
      "TP (mg-P/L): 24.59\n",
      "pH: 10.12\n"
     ]
    },
    {
     "name": "stderr",
     "output_type": "stream",
     "text": [
      "00:09:34.435: Steady State\n"
     ]
    },
    {
     "name": "stdout",
     "output_type": "stream",
     "text": [
      "FeCl3 (L/d): 994:\n",
      "NaOH (L/d): 1649\n",
      "TP (mg-P/L): 3.86\n",
      "pH: 6.83\n"
     ]
    },
    {
     "name": "stderr",
     "output_type": "stream",
     "text": [
      "00:10:07.416: Steady State\n"
     ]
    },
    {
     "name": "stdout",
     "output_type": "stream",
     "text": [
      "FeCl3 (L/d): 486:\n",
      "NaOH (L/d): 132\n",
      "TP (mg-P/L): 4.71\n",
      "pH: 5.39\n"
     ]
    },
    {
     "name": "stderr",
     "output_type": "stream",
     "text": [
      "00:10:40.878: Steady State\n"
     ]
    },
    {
     "name": "stdout",
     "output_type": "stream",
     "text": [
      "FeCl3 (L/d): 896:\n",
      "NaOH (L/d): 886\n",
      "TP (mg-P/L): 6.59\n",
      "pH: 3.55\n"
     ]
    },
    {
     "name": "stderr",
     "output_type": "stream",
     "text": [
      "00:11:13.860: Steady State\n"
     ]
    },
    {
     "name": "stdout",
     "output_type": "stream",
     "text": [
      "FeCl3 (L/d): 706:\n",
      "NaOH (L/d): 743\n",
      "TP (mg-P/L): 3.89\n",
      "pH: 6.1\n"
     ]
    },
    {
     "name": "stderr",
     "output_type": "stream",
     "text": [
      "00:11:46.858: Steady State\n"
     ]
    },
    {
     "name": "stdout",
     "output_type": "stream",
     "text": [
      "FeCl3 (L/d): 855:\n",
      "NaOH (L/d): 1425\n",
      "TP (mg-P/L): 4.26\n",
      "pH: 7.01\n"
     ]
    },
    {
     "name": "stderr",
     "output_type": "stream",
     "text": [
      "00:12:19.723: Steady State\n"
     ]
    },
    {
     "name": "stdout",
     "output_type": "stream",
     "text": [
      "FeCl3 (L/d): 907:\n",
      "NaOH (L/d): 105\n",
      "TP (mg-P/L): 24.33\n",
      "pH: 2.38\n"
     ]
    },
    {
     "name": "stderr",
     "output_type": "stream",
     "text": [
      "00:12:52.711: Steady State\n"
     ]
    },
    {
     "name": "stdout",
     "output_type": "stream",
     "text": [
      "FeCl3 (L/d): 615:\n",
      "NaOH (L/d): 176\n",
      "TP (mg-P/L): 15.42\n",
      "pH: 2.97\n"
     ]
    },
    {
     "name": "stderr",
     "output_type": "stream",
     "text": [
      "00:13:25.762: Steady State\n"
     ]
    },
    {
     "name": "stdout",
     "output_type": "stream",
     "text": [
      "FeCl3 (L/d): 1099:\n",
      "NaOH (L/d): 1717\n",
      "TP (mg-P/L): 3.57\n",
      "pH: 6.47\n"
     ]
    },
    {
     "name": "stderr",
     "output_type": "stream",
     "text": [
      "00:13:58.772: Steady State\n"
     ]
    },
    {
     "name": "stdout",
     "output_type": "stream",
     "text": [
      "FeCl3 (L/d): 668:\n",
      "NaOH (L/d): 1710\n",
      "TP (mg-P/L): 24.48\n",
      "pH: 9.64\n"
     ]
    },
    {
     "name": "stderr",
     "output_type": "stream",
     "text": [
      "00:14:33.668: Steady State\n"
     ]
    },
    {
     "name": "stdout",
     "output_type": "stream",
     "text": [
      "FeCl3 (L/d): 561:\n",
      "NaOH (L/d): 97\n",
      "TP (mg-P/L): 14.38\n",
      "pH: 3.05\n"
     ]
    },
    {
     "name": "stderr",
     "output_type": "stream",
     "text": [
      "00:15:06.699: Steady State\n"
     ]
    },
    {
     "name": "stdout",
     "output_type": "stream",
     "text": [
      "FeCl3 (L/d): 411:\n",
      "NaOH (L/d): 965\n",
      "TP (mg-P/L): 21.07\n",
      "pH: 8.89\n"
     ]
    },
    {
     "name": "stderr",
     "output_type": "stream",
     "text": [
      "00:15:39.703: Steady State\n"
     ]
    },
    {
     "name": "stdout",
     "output_type": "stream",
     "text": [
      "FeCl3 (L/d): 1034:\n",
      "NaOH (L/d): 1183\n",
      "TP (mg-P/L): 5.57\n",
      "pH: 3.66\n"
     ]
    },
    {
     "name": "stderr",
     "output_type": "stream",
     "text": [
      "00:16:12.581: Steady State\n"
     ]
    },
    {
     "name": "stdout",
     "output_type": "stream",
     "text": [
      "FeCl3 (L/d): 554:\n",
      "NaOH (L/d): 638\n",
      "TP (mg-P/L): 4.66\n",
      "pH: 6.61\n"
     ]
    },
    {
     "name": "stderr",
     "output_type": "stream",
     "text": [
      "00:16:45.531: Steady State\n"
     ]
    },
    {
     "name": "stdout",
     "output_type": "stream",
     "text": [
      "FeCl3 (L/d): 817:\n",
      "NaOH (L/d): 338\n",
      "TP (mg-P/L): 21.81\n",
      "pH: 2.63\n"
     ]
    },
    {
     "name": "stderr",
     "output_type": "stream",
     "text": [
      "00:17:18.509: Steady State\n"
     ]
    },
    {
     "name": "stdout",
     "output_type": "stream",
     "text": [
      "FeCl3 (L/d): 544:\n",
      "NaOH (L/d): 1677\n",
      "TP (mg-P/L): 24.59\n",
      "pH: 10.16\n"
     ]
    },
    {
     "name": "stderr",
     "output_type": "stream",
     "text": [
      "00:17:53.304: Steady State\n"
     ]
    },
    {
     "name": "stdout",
     "output_type": "stream",
     "text": [
      "FeCl3 (L/d): 1150:\n",
      "NaOH (L/d): 1564\n",
      "TP (mg-P/L): 3.43\n",
      "pH: 5.69\n"
     ]
    },
    {
     "name": "stderr",
     "output_type": "stream",
     "text": [
      "00:18:28.111: Steady State\n"
     ]
    },
    {
     "name": "stdout",
     "output_type": "stream",
     "text": [
      "FeCl3 (L/d): 414:\n",
      "NaOH (L/d): 1372\n",
      "TP (mg-P/L): 24.59\n",
      "pH: 10.1\n"
     ]
    },
    {
     "name": "stderr",
     "output_type": "stream",
     "text": [
      "00:19:03.232: Steady State\n"
     ]
    },
    {
     "name": "stdout",
     "output_type": "stream",
     "text": [
      "FeCl3 (L/d): 812:\n",
      "NaOH (L/d): 86\n",
      "TP (mg-P/L): 23.92\n",
      "pH: 2.47\n"
     ]
    },
    {
     "name": "stderr",
     "output_type": "stream",
     "text": [
      "00:19:38.230: Steady State\n"
     ]
    },
    {
     "name": "stdout",
     "output_type": "stream",
     "text": [
      "FeCl3 (L/d): 760:\n",
      "NaOH (L/d): 23\n",
      "TP (mg-P/L): 23.74\n",
      "pH: 2.49\n"
     ]
    },
    {
     "name": "stderr",
     "output_type": "stream",
     "text": [
      "00:20:13.231: Steady State\n"
     ]
    },
    {
     "name": "stdout",
     "output_type": "stream",
     "text": [
      "FeCl3 (L/d): 1163:\n",
      "NaOH (L/d): 1422\n",
      "TP (mg-P/L): 7.13\n",
      "pH: 3.4\n"
     ]
    },
    {
     "name": "stderr",
     "output_type": "stream",
     "text": [
      "00:20:48.188: Steady State\n"
     ]
    },
    {
     "name": "stdout",
     "output_type": "stream",
     "text": [
      "FeCl3 (L/d): 1036:\n",
      "NaOH (L/d): 1370\n",
      "TP (mg-P/L): 3.5\n",
      "pH: 5.89\n"
     ]
    },
    {
     "name": "stderr",
     "output_type": "stream",
     "text": [
      "00:21:22.980: Steady State\n"
     ]
    },
    {
     "name": "stdout",
     "output_type": "stream",
     "text": [
      "FeCl3 (L/d): 448:\n",
      "NaOH (L/d): 469\n",
      "TP (mg-P/L): 5.59\n",
      "pH: 6.72\n"
     ]
    },
    {
     "name": "stderr",
     "output_type": "stream",
     "text": [
      "00:21:57.760: Steady State\n"
     ]
    },
    {
     "name": "stdout",
     "output_type": "stream",
     "text": [
      "FeCl3 (L/d): 422:\n",
      "NaOH (L/d): 846\n",
      "TP (mg-P/L): 14.13\n",
      "pH: 8.35\n"
     ]
    },
    {
     "name": "stderr",
     "output_type": "stream",
     "text": [
      "00:22:32.627: Steady State\n"
     ]
    },
    {
     "name": "stdout",
     "output_type": "stream",
     "text": [
      "FeCl3 (L/d): 453:\n",
      "NaOH (L/d): 1409\n",
      "TP (mg-P/L): 24.58\n",
      "pH: 10.01\n"
     ]
    },
    {
     "name": "stderr",
     "output_type": "stream",
     "text": [
      "00:23:09.375: Steady State\n"
     ]
    },
    {
     "name": "stdout",
     "output_type": "stream",
     "text": [
      "FeCl3 (L/d): 1036:\n",
      "NaOH (L/d): 33\n",
      "TP (mg-P/L): 24.54\n",
      "pH: 2.25\n"
     ]
    },
    {
     "name": "stderr",
     "output_type": "stream",
     "text": [
      "00:23:44.212: Steady State\n"
     ]
    },
    {
     "name": "stdout",
     "output_type": "stream",
     "text": [
      "FeCl3 (L/d): 998:\n",
      "NaOH (L/d): 945\n",
      "TP (mg-P/L): 14.75\n",
      "pH: 2.93\n"
     ]
    },
    {
     "name": "stderr",
     "output_type": "stream",
     "text": [
      "00:24:19.157: Steady State\n"
     ]
    },
    {
     "name": "stdout",
     "output_type": "stream",
     "text": [
      "FeCl3 (L/d): 1180:\n",
      "NaOH (L/d): 1153\n",
      "TP (mg-P/L): 20.01\n",
      "pH: 2.69\n"
     ]
    },
    {
     "name": "stderr",
     "output_type": "stream",
     "text": [
      "00:24:54.093: Steady State\n"
     ]
    },
    {
     "name": "stdout",
     "output_type": "stream",
     "text": [
      "FeCl3 (L/d): 1171:\n",
      "NaOH (L/d): 1445\n",
      "TP (mg-P/L): 6.73\n",
      "pH: 3.44\n"
     ]
    },
    {
     "name": "stderr",
     "output_type": "stream",
     "text": [
      "00:25:29.036: Steady State\n"
     ]
    },
    {
     "name": "stdout",
     "output_type": "stream",
     "text": [
      "FeCl3 (L/d): 494:\n",
      "NaOH (L/d): 1286\n",
      "TP (mg-P/L): 24.32\n",
      "pH: 9.46\n"
     ]
    },
    {
     "name": "stderr",
     "output_type": "stream",
     "text": [
      "00:26:05.907: Steady State\n"
     ]
    },
    {
     "name": "stdout",
     "output_type": "stream",
     "text": [
      "FeCl3 (L/d): 1075:\n",
      "NaOH (L/d): 437\n",
      "TP (mg-P/L): 24.32\n",
      "pH: 2.37\n"
     ]
    },
    {
     "name": "stderr",
     "output_type": "stream",
     "text": [
      "00:26:42.655: Steady State\n"
     ]
    },
    {
     "name": "stdout",
     "output_type": "stream",
     "text": [
      "FeCl3 (L/d): 902:\n",
      "NaOH (L/d): 1566\n",
      "TP (mg-P/L): 4.42\n",
      "pH: 7.15\n"
     ]
    },
    {
     "name": "stderr",
     "output_type": "stream",
     "text": [
      "00:27:17.539: Steady State\n"
     ]
    },
    {
     "name": "stdout",
     "output_type": "stream",
     "text": [
      "FeCl3 (L/d): 937:\n",
      "NaOH (L/d): 896\n",
      "TP (mg-P/L): 11.17\n",
      "pH: 3.13\n"
     ]
    },
    {
     "name": "stderr",
     "output_type": "stream",
     "text": [
      "00:27:52.294: Steady State\n"
     ]
    },
    {
     "name": "stdout",
     "output_type": "stream",
     "text": [
      "FeCl3 (L/d): 819:\n",
      "NaOH (L/d): 826\n",
      "TP (mg-P/L): 3.67\n",
      "pH: 5.4\n"
     ]
    },
    {
     "name": "stderr",
     "output_type": "stream",
     "text": [
      "00:28:27.110: Steady State\n"
     ]
    },
    {
     "name": "stdout",
     "output_type": "stream",
     "text": [
      "FeCl3 (L/d): 839:\n",
      "NaOH (L/d): 1467\n",
      "TP (mg-P/L): 4.8\n",
      "pH: 7.26\n"
     ]
    },
    {
     "name": "stderr",
     "output_type": "stream",
     "text": [
      "00:29:03.780: Steady State\n"
     ]
    },
    {
     "name": "stdout",
     "output_type": "stream",
     "text": [
      "FeCl3 (L/d): 1081:\n",
      "NaOH (L/d): 139\n",
      "TP (mg-P/L): 24.53\n",
      "pH: 2.25\n"
     ]
    },
    {
     "name": "stderr",
     "output_type": "stream",
     "text": [
      "00:29:40.646: Steady State\n"
     ]
    },
    {
     "name": "stdout",
     "output_type": "stream",
     "text": [
      "FeCl3 (L/d): 458:\n",
      "NaOH (L/d): 1340\n",
      "TP (mg-P/L): 24.55\n",
      "pH: 9.83\n"
     ]
    },
    {
     "name": "stderr",
     "output_type": "stream",
     "text": [
      "00:30:17.340: Steady State\n"
     ]
    },
    {
     "name": "stdout",
     "output_type": "stream",
     "text": [
      "FeCl3 (L/d): 691:\n",
      "NaOH (L/d): 263\n",
      "TP (mg-P/L): 17.66\n",
      "pH: 2.84\n"
     ]
    },
    {
     "name": "stderr",
     "output_type": "stream",
     "text": [
      "00:30:54.003: Steady State\n"
     ]
    },
    {
     "name": "stdout",
     "output_type": "stream",
     "text": [
      "FeCl3 (L/d): 805:\n",
      "NaOH (L/d): 1204\n",
      "TP (mg-P/L): 4.0\n",
      "pH: 6.71\n"
     ]
    },
    {
     "name": "stderr",
     "output_type": "stream",
     "text": [
      "00:31:30.555: Steady State\n"
     ]
    },
    {
     "name": "stdout",
     "output_type": "stream",
     "text": [
      "FeCl3 (L/d): 638:\n",
      "NaOH (L/d): 83\n",
      "TP (mg-P/L): 19.9\n",
      "pH: 2.75\n"
     ]
    },
    {
     "name": "stderr",
     "output_type": "stream",
     "text": [
      "00:32:07.345: Steady State\n"
     ]
    },
    {
     "name": "stdout",
     "output_type": "stream",
     "text": [
      "FeCl3 (L/d): 1196:\n",
      "NaOH (L/d): 1089\n",
      "TP (mg-P/L): 21.88\n",
      "pH: 2.6\n"
     ]
    },
    {
     "name": "stderr",
     "output_type": "stream",
     "text": [
      "00:32:43.958: Steady State\n"
     ]
    },
    {
     "name": "stdout",
     "output_type": "stream",
     "text": [
      "FeCl3 (L/d): 434:\n",
      "NaOH (L/d): 1700\n",
      "TP (mg-P/L): 24.6\n",
      "pH: 10.64\n"
     ]
    },
    {
     "name": "stderr",
     "output_type": "stream",
     "text": [
      "00:33:20.649: Steady State\n"
     ]
    },
    {
     "name": "stdout",
     "output_type": "stream",
     "text": [
      "FeCl3 (L/d): 450:\n",
      "NaOH (L/d): 849\n",
      "TP (mg-P/L): 11.47\n",
      "pH: 8.08\n"
     ]
    },
    {
     "name": "stderr",
     "output_type": "stream",
     "text": [
      "00:33:57.366: Steady State\n"
     ]
    },
    {
     "name": "stdout",
     "output_type": "stream",
     "text": [
      "FeCl3 (L/d): 1152:\n",
      "NaOH (L/d): 795\n",
      "TP (mg-P/L): 23.75\n",
      "pH: 2.47\n"
     ]
    },
    {
     "name": "stderr",
     "output_type": "stream",
     "text": [
      "00:34:34.070: Steady State\n"
     ]
    },
    {
     "name": "stdout",
     "output_type": "stream",
     "text": [
      "FeCl3 (L/d): 840:\n",
      "NaOH (L/d): 672\n",
      "TP (mg-P/L): 12.79\n",
      "pH: 3.06\n"
     ]
    },
    {
     "name": "stderr",
     "output_type": "stream",
     "text": [
      "00:35:10.814: Steady State\n"
     ]
    },
    {
     "name": "stdout",
     "output_type": "stream",
     "text": [
      "FeCl3 (L/d): 840:\n",
      "NaOH (L/d): 914\n",
      "TP (mg-P/L): 3.64\n",
      "pH: 5.69\n"
     ]
    },
    {
     "name": "stderr",
     "output_type": "stream",
     "text": [
      "00:35:47.617: Steady State\n"
     ]
    },
    {
     "name": "stdout",
     "output_type": "stream",
     "text": [
      "FeCl3 (L/d): 433:\n",
      "NaOH (L/d): 1685\n",
      "TP (mg-P/L): 24.6\n",
      "pH: 10.62\n"
     ]
    },
    {
     "name": "stderr",
     "output_type": "stream",
     "text": [
      "00:36:24.308: Steady State\n"
     ]
    },
    {
     "name": "stdout",
     "output_type": "stream",
     "text": [
      "FeCl3 (L/d): 432:\n",
      "NaOH (L/d): 133\n",
      "TP (mg-P/L): 5.2\n",
      "pH: 5.96\n"
     ]
    },
    {
     "name": "stderr",
     "output_type": "stream",
     "text": [
      "00:37:00.983: Steady State\n"
     ]
    },
    {
     "name": "stdout",
     "output_type": "stream",
     "text": [
      "FeCl3 (L/d): 850:\n",
      "NaOH (L/d): 609\n",
      "TP (mg-P/L): 16.44\n",
      "pH: 2.87\n"
     ]
    },
    {
     "name": "stderr",
     "output_type": "stream",
     "text": [
      "00:37:38.249: Steady State\n"
     ]
    },
    {
     "name": "stdout",
     "output_type": "stream",
     "text": [
      "FeCl3 (L/d): 551:\n",
      "NaOH (L/d): 1603\n",
      "TP (mg-P/L): 24.58\n",
      "pH: 9.98\n"
     ]
    },
    {
     "name": "stderr",
     "output_type": "stream",
     "text": [
      "00:38:15.033: Steady State\n"
     ]
    },
    {
     "name": "stdout",
     "output_type": "stream",
     "text": [
      "FeCl3 (L/d): 953:\n",
      "NaOH (L/d): 51\n",
      "TP (mg-P/L): 24.47\n",
      "pH: 2.31\n"
     ]
    },
    {
     "name": "stderr",
     "output_type": "stream",
     "text": [
      "00:38:51.807: Steady State\n"
     ]
    },
    {
     "name": "stdout",
     "output_type": "stream",
     "text": [
      "FeCl3 (L/d): 400:\n",
      "NaOH (L/d): 53\n",
      "TP (mg-P/L): 5.58\n",
      "pH: 5.91\n"
     ]
    },
    {
     "name": "stderr",
     "output_type": "stream",
     "text": [
      "00:39:28.711: Steady State\n"
     ]
    },
    {
     "name": "stdout",
     "output_type": "stream",
     "text": [
      "FeCl3 (L/d): 407:\n",
      "NaOH (L/d): 1475\n",
      "TP (mg-P/L): 24.6\n",
      "pH: 10.33\n"
     ]
    },
    {
     "name": "stderr",
     "output_type": "stream",
     "text": [
      "00:40:05.453: Steady State\n"
     ]
    },
    {
     "name": "stdout",
     "output_type": "stream",
     "text": [
      "FeCl3 (L/d): 411:\n",
      "NaOH (L/d): 4\n",
      "TP (mg-P/L): 5.41\n",
      "pH: 5.57\n"
     ]
    },
    {
     "name": "stderr",
     "output_type": "stream",
     "text": [
      "00:40:42.220: Steady State\n"
     ]
    },
    {
     "name": "stdout",
     "output_type": "stream",
     "text": [
      "FeCl3 (L/d): 1134:\n",
      "NaOH (L/d): 71\n",
      "TP (mg-P/L): 24.57\n",
      "pH: 2.19\n"
     ]
    },
    {
     "name": "stderr",
     "output_type": "stream",
     "text": [
      "00:41:19.007: Steady State\n"
     ]
    },
    {
     "name": "stdout",
     "output_type": "stream",
     "text": [
      "FeCl3 (L/d): 1066:\n",
      "NaOH (L/d): 678\n",
      "TP (mg-P/L): 23.45\n",
      "pH: 2.5\n"
     ]
    },
    {
     "name": "stderr",
     "output_type": "stream",
     "text": [
      "00:41:55.817: Steady State\n"
     ]
    },
    {
     "name": "stdout",
     "output_type": "stream",
     "text": [
      "FeCl3 (L/d): 759:\n",
      "NaOH (L/d): 1736\n",
      "TP (mg-P/L): 22.57\n",
      "pH: 9.03\n"
     ]
    },
    {
     "name": "stderr",
     "output_type": "stream",
     "text": [
      "00:42:32.522: Steady State\n"
     ]
    },
    {
     "name": "stdout",
     "output_type": "stream",
     "text": [
      "FeCl3 (L/d): 1164:\n",
      "NaOH (L/d): 478\n",
      "TP (mg-P/L): 24.45\n",
      "pH: 2.31\n"
     ]
    },
    {
     "name": "stderr",
     "output_type": "stream",
     "text": [
      "00:43:09.210: Steady State\n"
     ]
    },
    {
     "name": "stdout",
     "output_type": "stream",
     "text": [
      "FeCl3 (L/d): 850:\n",
      "NaOH (L/d): 628\n",
      "TP (mg-P/L): 15.69\n",
      "pH: 2.91\n"
     ]
    },
    {
     "name": "stderr",
     "output_type": "stream",
     "text": [
      "00:43:45.968: Steady State\n"
     ]
    },
    {
     "name": "stdout",
     "output_type": "stream",
     "text": [
      "FeCl3 (L/d): 656:\n",
      "NaOH (L/d): 366\n",
      "TP (mg-P/L): 9.47\n",
      "pH: 3.36\n"
     ]
    },
    {
     "name": "stderr",
     "output_type": "stream",
     "text": [
      "00:44:22.673: Steady State\n"
     ]
    },
    {
     "name": "stdout",
     "output_type": "stream",
     "text": [
      "FeCl3 (L/d): 763:\n",
      "NaOH (L/d): 1291\n",
      "TP (mg-P/L): 4.82\n",
      "pH: 7.2\n"
     ]
    },
    {
     "name": "stderr",
     "output_type": "stream",
     "text": [
      "00:44:59.527: Steady State\n"
     ]
    },
    {
     "name": "stdout",
     "output_type": "stream",
     "text": [
      "FeCl3 (L/d): 1022:\n",
      "NaOH (L/d): 1575\n",
      "TP (mg-P/L): 3.64\n",
      "pH: 6.52\n"
     ]
    },
    {
     "name": "stderr",
     "output_type": "stream",
     "text": [
      "00:45:38.276: Steady State\n"
     ]
    },
    {
     "name": "stdout",
     "output_type": "stream",
     "text": [
      "FeCl3 (L/d): 653:\n",
      "NaOH (L/d): 833\n",
      "TP (mg-P/L): 4.24\n",
      "pH: 6.59\n"
     ]
    },
    {
     "name": "stderr",
     "output_type": "stream",
     "text": [
      "00:46:14.988: Steady State\n"
     ]
    },
    {
     "name": "stdout",
     "output_type": "stream",
     "text": [
      "FeCl3 (L/d): 853:\n",
      "NaOH (L/d): 763\n",
      "TP (mg-P/L): 9.05\n",
      "pH: 3.3\n"
     ]
    },
    {
     "name": "stderr",
     "output_type": "stream",
     "text": [
      "00:46:51.809: Steady State\n"
     ]
    },
    {
     "name": "stdout",
     "output_type": "stream",
     "text": [
      "FeCl3 (L/d): 1039:\n",
      "NaOH (L/d): 944\n",
      "TP (mg-P/L): 17.91\n",
      "pH: 2.79\n"
     ]
    },
    {
     "name": "stderr",
     "output_type": "stream",
     "text": [
      "00:47:28.472: Steady State\n"
     ]
    },
    {
     "name": "stdout",
     "output_type": "stream",
     "text": [
      "FeCl3 (L/d): 615:\n",
      "NaOH (L/d): 20\n",
      "TP (mg-P/L): 20.34\n",
      "pH: 2.73\n"
     ]
    },
    {
     "name": "stderr",
     "output_type": "stream",
     "text": [
      "00:48:05.133: Steady State\n"
     ]
    },
    {
     "name": "stdout",
     "output_type": "stream",
     "text": [
      "FeCl3 (L/d): 1028:\n",
      "NaOH (L/d): 699\n",
      "TP (mg-P/L): 22.6\n",
      "pH: 2.57\n"
     ]
    },
    {
     "name": "stderr",
     "output_type": "stream",
     "text": [
      "00:48:41.801: Steady State\n"
     ]
    },
    {
     "name": "stdout",
     "output_type": "stream",
     "text": [
      "FeCl3 (L/d): 917:\n",
      "NaOH (L/d): 355\n",
      "TP (mg-P/L): 23.62\n",
      "pH: 2.5\n"
     ]
    },
    {
     "name": "stderr",
     "output_type": "stream",
     "text": [
      "00:49:18.537: Steady State\n"
     ]
    },
    {
     "name": "stdout",
     "output_type": "stream",
     "text": [
      "FeCl3 (L/d): 512:\n",
      "NaOH (L/d): 590\n",
      "TP (mg-P/L): 5.01\n",
      "pH: 6.7\n"
     ]
    },
    {
     "name": "stderr",
     "output_type": "stream",
     "text": [
      "00:49:55.294: Steady State\n"
     ]
    },
    {
     "name": "stdout",
     "output_type": "stream",
     "text": [
      "FeCl3 (L/d): 1042:\n",
      "NaOH (L/d): 1383\n",
      "TP (mg-P/L): 3.49\n",
      "pH: 5.89\n"
     ]
    },
    {
     "name": "stderr",
     "output_type": "stream",
     "text": [
      "00:50:31.950: Steady State\n"
     ]
    },
    {
     "name": "stdout",
     "output_type": "stream",
     "text": [
      "FeCl3 (L/d): 425:\n",
      "NaOH (L/d): 1004\n",
      "TP (mg-P/L): 21.47\n",
      "pH: 8.92\n"
     ]
    },
    {
     "name": "stderr",
     "output_type": "stream",
     "text": [
      "00:51:08.597: Steady State\n"
     ]
    },
    {
     "name": "stdout",
     "output_type": "stream",
     "text": [
      "FeCl3 (L/d): 717:\n",
      "NaOH (L/d): 108\n",
      "TP (mg-P/L): 22.3\n",
      "pH: 2.61\n"
     ]
    },
    {
     "name": "stderr",
     "output_type": "stream",
     "text": [
      "00:51:45.251: Steady State\n"
     ]
    },
    {
     "name": "stdout",
     "output_type": "stream",
     "text": [
      "FeCl3 (L/d): 524:\n",
      "NaOH (L/d): 1686\n",
      "TP (mg-P/L): 24.6\n",
      "pH: 10.26\n"
     ]
    },
    {
     "name": "stderr",
     "output_type": "stream",
     "text": [
      "00:52:23.683: Steady State\n"
     ]
    },
    {
     "name": "stdout",
     "output_type": "stream",
     "text": [
      "FeCl3 (L/d): 610:\n",
      "NaOH (L/d): 277\n",
      "TP (mg-P/L): 9.42\n",
      "pH: 3.39\n"
     ]
    },
    {
     "name": "stderr",
     "output_type": "stream",
     "text": [
      "00:53:00.296: Steady State\n"
     ]
    },
    {
     "name": "stdout",
     "output_type": "stream",
     "text": [
      "FeCl3 (L/d): 1114:\n",
      "NaOH (L/d): 546\n",
      "TP (mg-P/L): 24.27\n",
      "pH: 2.38\n"
     ]
    },
    {
     "name": "stderr",
     "output_type": "stream",
     "text": [
      "00:53:39.363: Steady State\n"
     ]
    },
    {
     "name": "stdout",
     "output_type": "stream",
     "text": [
      "FeCl3 (L/d): 485:\n",
      "NaOH (L/d): 665\n",
      "TP (mg-P/L): 5.81\n",
      "pH: 7.02\n"
     ]
    },
    {
     "name": "stderr",
     "output_type": "stream",
     "text": [
      "00:54:16.148: Steady State\n"
     ]
    },
    {
     "name": "stdout",
     "output_type": "stream",
     "text": [
      "FeCl3 (L/d): 1198:\n",
      "NaOH (L/d): 287\n",
      "TP (mg-P/L): 24.55\n",
      "pH: 2.22\n"
     ]
    },
    {
     "name": "stderr",
     "output_type": "stream",
     "text": [
      "00:54:54.882: Steady State\n"
     ]
    },
    {
     "name": "stdout",
     "output_type": "stream",
     "text": [
      "FeCl3 (L/d): 446:\n",
      "NaOH (L/d): 1065\n",
      "TP (mg-P/L): 22.15\n",
      "pH: 8.99\n"
     ]
    },
    {
     "name": "stderr",
     "output_type": "stream",
     "text": [
      "00:55:34.596: Steady State\n"
     ]
    },
    {
     "name": "stdout",
     "output_type": "stream",
     "text": [
      "FeCl3 (L/d): 679:\n",
      "NaOH (L/d): 1190\n",
      "TP (mg-P/L): 6.05\n",
      "pH: 7.49\n"
     ]
    },
    {
     "name": "stderr",
     "output_type": "stream",
     "text": [
      "00:56:13.657: Steady State\n"
     ]
    },
    {
     "name": "stdout",
     "output_type": "stream",
     "text": [
      "FeCl3 (L/d): 520:\n",
      "NaOH (L/d): 1113\n",
      "TP (mg-P/L): 16.97\n",
      "pH: 8.64\n"
     ]
    },
    {
     "name": "stderr",
     "output_type": "stream",
     "text": [
      "00:56:52.608: Steady State\n"
     ]
    },
    {
     "name": "stdout",
     "output_type": "stream",
     "text": [
      "FeCl3 (L/d): 1063:\n",
      "NaOH (L/d): 258\n",
      "TP (mg-P/L): 24.47\n",
      "pH: 2.31\n"
     ]
    },
    {
     "name": "stderr",
     "output_type": "stream",
     "text": [
      "00:57:31.441: Steady State\n"
     ]
    },
    {
     "name": "stdout",
     "output_type": "stream",
     "text": [
      "FeCl3 (L/d): 646:\n",
      "NaOH (L/d): 1155\n",
      "TP (mg-P/L): 6.92\n",
      "pH: 7.64\n"
     ]
    },
    {
     "name": "stderr",
     "output_type": "stream",
     "text": [
      "00:58:08.238: Steady State\n"
     ]
    },
    {
     "name": "stdout",
     "output_type": "stream",
     "text": [
      "FeCl3 (L/d): 570:\n",
      "NaOH (L/d): 899\n",
      "TP (mg-P/L): 5.68\n",
      "pH: 7.21\n"
     ]
    },
    {
     "name": "stderr",
     "output_type": "stream",
     "text": [
      "00:58:46.926: Steady State\n"
     ]
    },
    {
     "name": "stdout",
     "output_type": "stream",
     "text": [
      "FeCl3 (L/d): 616:\n",
      "NaOH (L/d): 337\n",
      "TP (mg-P/L): 5.61\n",
      "pH: 4.02\n"
     ]
    },
    {
     "name": "stderr",
     "output_type": "stream",
     "text": [
      "00:59:25.682: Steady State\n"
     ]
    },
    {
     "name": "stdout",
     "output_type": "stream",
     "text": [
      "FeCl3 (L/d): 516:\n",
      "NaOH (L/d): 1106\n",
      "TP (mg-P/L): 17.05\n",
      "pH: 8.64\n"
     ]
    },
    {
     "name": "stderr",
     "output_type": "stream",
     "text": [
      "01:00:04.477: Steady State\n"
     ]
    },
    {
     "name": "stdout",
     "output_type": "stream",
     "text": [
      "FeCl3 (L/d): 1083:\n",
      "NaOH (L/d): 828\n",
      "TP (mg-P/L): 22.36\n",
      "pH: 2.58\n"
     ]
    },
    {
     "name": "stderr",
     "output_type": "stream",
     "text": [
      "01:00:43.172: Steady State\n"
     ]
    },
    {
     "name": "stdout",
     "output_type": "stream",
     "text": [
      "FeCl3 (L/d): 769:\n",
      "NaOH (L/d): 1469\n",
      "TP (mg-P/L): 8.39\n",
      "pH: 7.98\n"
     ]
    },
    {
     "name": "stderr",
     "output_type": "stream",
     "text": [
      "01:01:21.784: Steady State\n"
     ]
    },
    {
     "name": "stdout",
     "output_type": "stream",
     "text": [
      "FeCl3 (L/d): 688:\n",
      "NaOH (L/d): 906\n",
      "TP (mg-P/L): 4.14\n",
      "pH: 6.59\n"
     ]
    },
    {
     "name": "stderr",
     "output_type": "stream",
     "text": [
      "01:02:00.582: Steady State\n"
     ]
    },
    {
     "name": "stdout",
     "output_type": "stream",
     "text": [
      "FeCl3 (L/d): 1125:\n",
      "NaOH (L/d): 633\n",
      "TP (mg-P/L): 24.13\n",
      "pH: 2.41\n"
     ]
    },
    {
     "name": "stderr",
     "output_type": "stream",
     "text": [
      "01:02:39.152: Steady State\n"
     ]
    },
    {
     "name": "stdout",
     "output_type": "stream",
     "text": [
      "FeCl3 (L/d): 900:\n",
      "NaOH (L/d): 145\n",
      "TP (mg-P/L): 24.23\n",
      "pH: 2.4\n"
     ]
    },
    {
     "name": "stderr",
     "output_type": "stream",
     "text": [
      "01:03:17.742: Steady State\n"
     ]
    },
    {
     "name": "stdout",
     "output_type": "stream",
     "text": [
      "FeCl3 (L/d): 1134:\n",
      "NaOH (L/d): 1249\n",
      "TP (mg-P/L): 13.37\n",
      "pH: 2.98\n"
     ]
    },
    {
     "name": "stderr",
     "output_type": "stream",
     "text": [
      "01:03:56.271: Steady State\n"
     ]
    },
    {
     "name": "stdout",
     "output_type": "stream",
     "text": [
      "FeCl3 (L/d): 963:\n",
      "NaOH (L/d): 92\n",
      "TP (mg-P/L): 24.45\n",
      "pH: 2.32\n"
     ]
    },
    {
     "name": "stderr",
     "output_type": "stream",
     "text": [
      "01:04:34.742: Steady State\n"
     ]
    },
    {
     "name": "stdout",
     "output_type": "stream",
     "text": [
      "FeCl3 (L/d): 846:\n",
      "NaOH (L/d): 10\n",
      "TP (mg-P/L): 24.29\n",
      "pH: 2.39\n"
     ]
    },
    {
     "name": "stderr",
     "output_type": "stream",
     "text": [
      "01:05:13.478: Steady State\n"
     ]
    },
    {
     "name": "stdout",
     "output_type": "stream",
     "text": [
      "FeCl3 (L/d): 1087:\n",
      "NaOH (L/d): 782\n",
      "TP (mg-P/L): 22.96\n",
      "pH: 2.54\n"
     ]
    },
    {
     "name": "stderr",
     "output_type": "stream",
     "text": [
      "01:05:52.055: Steady State\n"
     ]
    },
    {
     "name": "stdout",
     "output_type": "stream",
     "text": [
      "FeCl3 (L/d): 859:\n",
      "NaOH (L/d): 158\n",
      "TP (mg-P/L): 23.99\n",
      "pH: 2.45\n"
     ]
    },
    {
     "name": "stderr",
     "output_type": "stream",
     "text": [
      "01:06:30.661: Steady State\n"
     ]
    },
    {
     "name": "stdout",
     "output_type": "stream",
     "text": [
      "FeCl3 (L/d): 1060:\n",
      "NaOH (L/d): 564\n",
      "TP (mg-P/L): 23.95\n",
      "pH: 2.45\n"
     ]
    },
    {
     "name": "stderr",
     "output_type": "stream",
     "text": [
      "01:07:09.157: Steady State\n"
     ]
    },
    {
     "name": "stdout",
     "output_type": "stream",
     "text": [
      "FeCl3 (L/d): 596:\n",
      "NaOH (L/d): 545\n",
      "TP (mg-P/L): 4.21\n",
      "pH: 6.19\n"
     ]
    },
    {
     "name": "stderr",
     "output_type": "stream",
     "text": [
      "01:07:47.779: Steady State\n"
     ]
    },
    {
     "name": "stdout",
     "output_type": "stream",
     "text": [
      "FeCl3 (L/d): 1197:\n",
      "NaOH (L/d): 161\n",
      "TP (mg-P/L): 24.57\n",
      "pH: 2.18\n"
     ]
    },
    {
     "name": "stderr",
     "output_type": "stream",
     "text": [
      "01:08:26.310: Steady State\n"
     ]
    },
    {
     "name": "stdout",
     "output_type": "stream",
     "text": [
      "FeCl3 (L/d): 921:\n",
      "NaOH (L/d): 720\n",
      "TP (mg-P/L): 17.52\n",
      "pH: 2.82\n"
     ]
    },
    {
     "name": "stderr",
     "output_type": "stream",
     "text": [
      "01:09:04.831: Steady State\n"
     ]
    },
    {
     "name": "stdout",
     "output_type": "stream",
     "text": [
      "FeCl3 (L/d): 463:\n",
      "NaOH (L/d): 403\n",
      "TP (mg-P/L): 5.19\n",
      "pH: 6.5\n"
     ]
    },
    {
     "name": "stderr",
     "output_type": "stream",
     "text": [
      "01:09:43.799: Steady State\n"
     ]
    },
    {
     "name": "stdout",
     "output_type": "stream",
     "text": [
      "FeCl3 (L/d): 615:\n",
      "NaOH (L/d): 1690\n",
      "TP (mg-P/L): 24.56\n",
      "pH: 9.87\n"
     ]
    },
    {
     "name": "stderr",
     "output_type": "stream",
     "text": [
      "01:10:24.289: Steady State\n"
     ]
    },
    {
     "name": "stdout",
     "output_type": "stream",
     "text": [
      "FeCl3 (L/d): 717:\n",
      "NaOH (L/d): 121\n",
      "TP (mg-P/L): 22.12\n",
      "pH: 2.62\n"
     ]
    },
    {
     "name": "stderr",
     "output_type": "stream",
     "text": [
      "01:11:03.306: Steady State\n"
     ]
    },
    {
     "name": "stdout",
     "output_type": "stream",
     "text": [
      "FeCl3 (L/d): 1077:\n",
      "NaOH (L/d): 1389\n",
      "TP (mg-P/L): 3.47\n",
      "pH: 5.57\n"
     ]
    },
    {
     "name": "stderr",
     "output_type": "stream",
     "text": [
      "01:11:42.024: Steady State\n"
     ]
    },
    {
     "name": "stdout",
     "output_type": "stream",
     "text": [
      "FeCl3 (L/d): 1068:\n",
      "NaOH (L/d): 347\n",
      "TP (mg-P/L): 24.41\n",
      "pH: 2.34\n"
     ]
    },
    {
     "name": "stderr",
     "output_type": "stream",
     "text": [
      "01:12:20.859: Steady State\n"
     ]
    },
    {
     "name": "stdout",
     "output_type": "stream",
     "text": [
      "FeCl3 (L/d): 1114:\n",
      "NaOH (L/d): 1006\n",
      "TP (mg-P/L): 20.35\n",
      "pH: 2.68\n"
     ]
    },
    {
     "name": "stderr",
     "output_type": "stream",
     "text": [
      "01:12:59.446: Steady State\n"
     ]
    },
    {
     "name": "stdout",
     "output_type": "stream",
     "text": [
      "FeCl3 (L/d): 607:\n",
      "NaOH (L/d): 543\n",
      "TP (mg-P/L): 4.16\n",
      "pH: 6.12\n"
     ]
    },
    {
     "name": "stderr",
     "output_type": "stream",
     "text": [
      "01:13:38.029: Steady State\n"
     ]
    },
    {
     "name": "stdout",
     "output_type": "stream",
     "text": [
      "FeCl3 (L/d): 486:\n",
      "NaOH (L/d): 345\n",
      "TP (mg-P/L): 4.83\n",
      "pH: 6.26\n"
     ]
    },
    {
     "name": "stderr",
     "output_type": "stream",
     "text": [
      "01:14:16.587: Steady State\n"
     ]
    },
    {
     "name": "stdout",
     "output_type": "stream",
     "text": [
      "FeCl3 (L/d): 574:\n",
      "NaOH (L/d): 966\n",
      "TP (mg-P/L): 6.45\n",
      "pH: 7.44\n"
     ]
    },
    {
     "name": "stderr",
     "output_type": "stream",
     "text": [
      "01:14:55.143: Steady State\n"
     ]
    },
    {
     "name": "stdout",
     "output_type": "stream",
     "text": [
      "FeCl3 (L/d): 476:\n",
      "NaOH (L/d): 869\n",
      "TP (mg-P/L): 9.95\n",
      "pH: 7.92\n"
     ]
    },
    {
     "name": "stderr",
     "output_type": "stream",
     "text": [
      "01:15:35.699: Steady State\n"
     ]
    },
    {
     "name": "stdout",
     "output_type": "stream",
     "text": [
      "FeCl3 (L/d): 486:\n",
      "NaOH (L/d): 214\n",
      "TP (mg-P/L): 4.71\n",
      "pH: 5.86\n"
     ]
    },
    {
     "name": "stderr",
     "output_type": "stream",
     "text": [
      "01:16:14.224: Steady State\n"
     ]
    },
    {
     "name": "stdout",
     "output_type": "stream",
     "text": [
      "FeCl3 (L/d): 928:\n",
      "NaOH (L/d): 984\n",
      "TP (mg-P/L): 4.53\n",
      "pH: 4.02\n"
     ]
    },
    {
     "name": "stderr",
     "output_type": "stream",
     "text": [
      "01:16:52.803: Steady State\n"
     ]
    },
    {
     "name": "stdout",
     "output_type": "stream",
     "text": [
      "FeCl3 (L/d): 876:\n",
      "NaOH (L/d): 1509\n",
      "TP (mg-P/L): 4.44\n",
      "pH: 7.14\n"
     ]
    },
    {
     "name": "stderr",
     "output_type": "stream",
     "text": [
      "01:17:31.423: Steady State\n"
     ]
    },
    {
     "name": "stdout",
     "output_type": "stream",
     "text": [
      "FeCl3 (L/d): 1094:\n",
      "NaOH (L/d): 375\n",
      "TP (mg-P/L): 24.43\n",
      "pH: 2.33\n"
     ]
    },
    {
     "name": "stderr",
     "output_type": "stream",
     "text": [
      "01:18:12.253: Steady State\n"
     ]
    },
    {
     "name": "stdout",
     "output_type": "stream",
     "text": [
      "FeCl3 (L/d): 795:\n",
      "NaOH (L/d): 1361\n",
      "TP (mg-P/L): 4.77\n",
      "pH: 7.21\n"
     ]
    },
    {
     "name": "stderr",
     "output_type": "stream",
     "text": [
      "01:18:51.032: Steady State\n"
     ]
    },
    {
     "name": "stdout",
     "output_type": "stream",
     "text": [
      "FeCl3 (L/d): 596:\n",
      "NaOH (L/d): 200\n",
      "TP (mg-P/L): 12.55\n",
      "pH: 3.15\n"
     ]
    },
    {
     "name": "stderr",
     "output_type": "stream",
     "text": [
      "01:19:29.865: Steady State\n"
     ]
    },
    {
     "name": "stdout",
     "output_type": "stream",
     "text": [
      "FeCl3 (L/d): 583:\n",
      "NaOH (L/d): 438\n",
      "TP (mg-P/L): 4.2\n",
      "pH: 5.95\n"
     ]
    },
    {
     "name": "stderr",
     "output_type": "stream",
     "text": [
      "01:20:08.775: Steady State\n"
     ]
    },
    {
     "name": "stdout",
     "output_type": "stream",
     "text": [
      "FeCl3 (L/d): 1153:\n",
      "NaOH (L/d): 76\n",
      "TP (mg-P/L): 24.57\n",
      "pH: 2.18\n"
     ]
    },
    {
     "name": "stderr",
     "output_type": "stream",
     "text": [
      "01:20:47.506: Steady State\n"
     ]
    },
    {
     "name": "stdout",
     "output_type": "stream",
     "text": [
      "FeCl3 (L/d): 538:\n",
      "NaOH (L/d): 858\n",
      "TP (mg-P/L): 6.17\n",
      "pH: 7.3\n"
     ]
    },
    {
     "name": "stderr",
     "output_type": "stream",
     "text": [
      "01:21:26.296: Steady State\n"
     ]
    },
    {
     "name": "stdout",
     "output_type": "stream",
     "text": [
      "FeCl3 (L/d): 1130:\n",
      "NaOH (L/d): 1186\n",
      "TP (mg-P/L): 15.75\n",
      "pH: 2.87\n"
     ]
    },
    {
     "name": "stderr",
     "output_type": "stream",
     "text": [
      "01:22:05.050: Steady State\n"
     ]
    },
    {
     "name": "stdout",
     "output_type": "stream",
     "text": [
      "FeCl3 (L/d): 729:\n",
      "NaOH (L/d): 1097\n",
      "TP (mg-P/L): 4.28\n",
      "pH: 6.84\n"
     ]
    },
    {
     "name": "stderr",
     "output_type": "stream",
     "text": [
      "01:22:43.817: Steady State\n"
     ]
    },
    {
     "name": "stdout",
     "output_type": "stream",
     "text": [
      "FeCl3 (L/d): 942:\n",
      "NaOH (L/d): 358\n",
      "TP (mg-P/L): 23.85\n",
      "pH: 2.47\n"
     ]
    },
    {
     "name": "stderr",
     "output_type": "stream",
     "text": [
      "01:23:22.588: Steady State\n"
     ]
    },
    {
     "name": "stdout",
     "output_type": "stream",
     "text": [
      "FeCl3 (L/d): 652:\n",
      "NaOH (L/d): 1132\n",
      "TP (mg-P/L): 6.12\n",
      "pH: 7.47\n"
     ]
    },
    {
     "name": "stderr",
     "output_type": "stream",
     "text": [
      "01:24:01.252: Steady State\n"
     ]
    },
    {
     "name": "stdout",
     "output_type": "stream",
     "text": [
      "FeCl3 (L/d): 1064:\n",
      "NaOH (L/d): 687\n",
      "TP (mg-P/L): 23.36\n",
      "pH: 2.51\n"
     ]
    },
    {
     "name": "stderr",
     "output_type": "stream",
     "text": [
      "01:24:39.795: Steady State\n"
     ]
    },
    {
     "name": "stdout",
     "output_type": "stream",
     "text": [
      "FeCl3 (L/d): 537:\n",
      "NaOH (L/d): 1395\n",
      "TP (mg-P/L): 24.39\n",
      "pH: 9.52\n"
     ]
    },
    {
     "name": "stderr",
     "output_type": "stream",
     "text": [
      "01:25:20.322: Steady State\n"
     ]
    },
    {
     "name": "stdout",
     "output_type": "stream",
     "text": [
      "FeCl3 (L/d): 1089:\n",
      "NaOH (L/d): 632\n",
      "TP (mg-P/L): 23.91\n",
      "pH: 2.45\n"
     ]
    },
    {
     "name": "stderr",
     "output_type": "stream",
     "text": [
      "01:25:59.316: Steady State\n"
     ]
    },
    {
     "name": "stdout",
     "output_type": "stream",
     "text": [
      "FeCl3 (L/d): 445:\n",
      "NaOH (L/d): 1378\n",
      "TP (mg-P/L): 24.58\n",
      "pH: 9.98\n"
     ]
    },
    {
     "name": "stderr",
     "output_type": "stream",
     "text": [
      "01:26:39.883: Steady State\n"
     ]
    },
    {
     "name": "stdout",
     "output_type": "stream",
     "text": [
      "FeCl3 (L/d): 722:\n",
      "NaOH (L/d): 929\n",
      "TP (mg-P/L): 3.99\n",
      "pH: 6.48\n"
     ]
    },
    {
     "name": "stderr",
     "output_type": "stream",
     "text": [
      "01:27:20.318: Steady State\n"
     ]
    },
    {
     "name": "stdout",
     "output_type": "stream",
     "text": [
      "FeCl3 (L/d): 408:\n",
      "NaOH (L/d): 850\n",
      "TP (mg-P/L): 15.81\n",
      "pH: 8.49\n"
     ]
    },
    {
     "name": "stderr",
     "output_type": "stream",
     "text": [
      "01:27:58.961: Steady State\n"
     ]
    },
    {
     "name": "stdout",
     "output_type": "stream",
     "text": [
      "FeCl3 (L/d): 1160:\n",
      "NaOH (L/d): 1255\n",
      "TP (mg-P/L): 15.4\n",
      "pH: 2.88\n"
     ]
    },
    {
     "name": "stderr",
     "output_type": "stream",
     "text": [
      "01:28:39.752: Steady State\n"
     ]
    },
    {
     "name": "stdout",
     "output_type": "stream",
     "text": [
      "FeCl3 (L/d): 751:\n",
      "NaOH (L/d): 1301\n",
      "TP (mg-P/L): 5.21\n",
      "pH: 7.33\n"
     ]
    },
    {
     "name": "stderr",
     "output_type": "stream",
     "text": [
      "01:29:18.490: Steady State\n"
     ]
    },
    {
     "name": "stdout",
     "output_type": "stream",
     "text": [
      "FeCl3 (L/d): 728:\n",
      "NaOH (L/d): 1426\n",
      "TP (mg-P/L): 10.36\n",
      "pH: 8.2\n"
     ]
    },
    {
     "name": "stderr",
     "output_type": "stream",
     "text": [
      "01:29:57.118: Steady State\n"
     ]
    },
    {
     "name": "stdout",
     "output_type": "stream",
     "text": [
      "FeCl3 (L/d): 751:\n",
      "NaOH (L/d): 98\n",
      "TP (mg-P/L): 23.13\n",
      "pH: 2.55\n"
     ]
    },
    {
     "name": "stderr",
     "output_type": "stream",
     "text": [
      "01:30:37.801: Steady State\n"
     ]
    },
    {
     "name": "stdout",
     "output_type": "stream",
     "text": [
      "FeCl3 (L/d): 946:\n",
      "NaOH (L/d): 1380\n",
      "TP (mg-P/L): 3.67\n",
      "pH: 6.44\n"
     ]
    },
    {
     "name": "stderr",
     "output_type": "stream",
     "text": [
      "01:31:16.372: Steady State\n"
     ]
    },
    {
     "name": "stdout",
     "output_type": "stream",
     "text": [
      "FeCl3 (L/d): 775:\n",
      "NaOH (L/d): 1\n",
      "TP (mg-P/L): 23.96\n",
      "pH: 2.46\n"
     ]
    },
    {
     "name": "stderr",
     "output_type": "stream",
     "text": [
      "01:31:55.044: Steady State\n"
     ]
    },
    {
     "name": "stdout",
     "output_type": "stream",
     "text": [
      "FeCl3 (L/d): 1197:\n",
      "NaOH (L/d): 859\n",
      "TP (mg-P/L): 23.86\n",
      "pH: 2.45\n"
     ]
    },
    {
     "name": "stderr",
     "output_type": "stream",
     "text": [
      "01:32:33.651: Steady State\n"
     ]
    },
    {
     "name": "stdout",
     "output_type": "stream",
     "text": [
      "FeCl3 (L/d): 1027:\n",
      "NaOH (L/d): 395\n",
      "TP (mg-P/L): 24.23\n",
      "pH: 2.4\n"
     ]
    },
    {
     "name": "stderr",
     "output_type": "stream",
     "text": [
      "01:33:14.415: Steady State\n"
     ]
    },
    {
     "name": "stdout",
     "output_type": "stream",
     "text": [
      "FeCl3 (L/d): 788:\n",
      "NaOH (L/d): 1113\n",
      "TP (mg-P/L): 3.93\n",
      "pH: 6.58\n"
     ]
    },
    {
     "name": "stderr",
     "output_type": "stream",
     "text": [
      "01:33:54.992: Steady State\n"
     ]
    },
    {
     "name": "stdout",
     "output_type": "stream",
     "text": [
      "FeCl3 (L/d): 747:\n",
      "NaOH (L/d): 564\n",
      "TP (mg-P/L): 8.18\n",
      "pH: 3.43\n"
     ]
    },
    {
     "name": "stderr",
     "output_type": "stream",
     "text": [
      "01:34:35.555: Steady State\n"
     ]
    },
    {
     "name": "stdout",
     "output_type": "stream",
     "text": [
      "FeCl3 (L/d): 594:\n",
      "NaOH (L/d): 792\n",
      "TP (mg-P/L): 4.65\n",
      "pH: 6.78\n"
     ]
    },
    {
     "name": "stderr",
     "output_type": "stream",
     "text": [
      "01:35:16.142: Steady State\n"
     ]
    },
    {
     "name": "stdout",
     "output_type": "stream",
     "text": [
      "FeCl3 (L/d): 1053:\n",
      "NaOH (L/d): 622\n",
      "TP (mg-P/L): 23.63\n",
      "pH: 2.49\n"
     ]
    },
    {
     "name": "stderr",
     "output_type": "stream",
     "text": [
      "01:35:56.517: Steady State\n"
     ]
    },
    {
     "name": "stdout",
     "output_type": "stream",
     "text": [
      "FeCl3 (L/d): 566:\n",
      "NaOH (L/d): 27\n",
      "TP (mg-P/L): 17.52\n",
      "pH: 2.88\n"
     ]
    },
    {
     "name": "stderr",
     "output_type": "stream",
     "text": [
      "01:36:36.914: Steady State\n"
     ]
    },
    {
     "name": "stdout",
     "output_type": "stream",
     "text": [
      "FeCl3 (L/d): 696:\n",
      "NaOH (L/d): 925\n",
      "TP (mg-P/L): 4.13\n",
      "pH: 6.59\n"
     ]
    },
    {
     "name": "stderr",
     "output_type": "stream",
     "text": [
      "01:37:17.388: Steady State\n"
     ]
    },
    {
     "name": "stdout",
     "output_type": "stream",
     "text": [
      "FeCl3 (L/d): 1080:\n",
      "NaOH (L/d): 472\n",
      "TP (mg-P/L): 24.28\n",
      "pH: 2.38\n"
     ]
    },
    {
     "name": "stderr",
     "output_type": "stream",
     "text": [
      "01:37:57.724: Steady State\n"
     ]
    },
    {
     "name": "stdout",
     "output_type": "stream",
     "text": [
      "FeCl3 (L/d): 860:\n",
      "NaOH (L/d): 0\n",
      "TP (mg-P/L): 24.34\n",
      "pH: 2.37\n"
     ]
    },
    {
     "name": "stderr",
     "output_type": "stream",
     "text": [
      "01:38:38.162: Steady State\n"
     ]
    },
    {
     "name": "stdout",
     "output_type": "stream",
     "text": [
      "FeCl3 (L/d): 627:\n",
      "NaOH (L/d): 327\n",
      "TP (mg-P/L): 8.16\n",
      "pH: 3.51\n"
     ]
    },
    {
     "name": "stderr",
     "output_type": "stream",
     "text": [
      "01:39:18.641: Steady State\n"
     ]
    },
    {
     "name": "stdout",
     "output_type": "stream",
     "text": [
      "FeCl3 (L/d): 684:\n",
      "NaOH (L/d): 1412\n",
      "TP (mg-P/L): 14.38\n",
      "pH: 8.52\n"
     ]
    },
    {
     "name": "stderr",
     "output_type": "stream",
     "text": [
      "01:39:59.302: Steady State\n"
     ]
    },
    {
     "name": "stdout",
     "output_type": "stream",
     "text": [
      "FeCl3 (L/d): 882:\n",
      "NaOH (L/d): 1732\n",
      "TP (mg-P/L): 9.31\n",
      "pH: 8.15\n"
     ]
    },
    {
     "name": "stderr",
     "output_type": "stream",
     "text": [
      "01:40:40.193: Steady State\n"
     ]
    },
    {
     "name": "stdout",
     "output_type": "stream",
     "text": [
      "FeCl3 (L/d): 1082:\n",
      "NaOH (L/d): 445\n",
      "TP (mg-P/L): 24.33\n",
      "pH: 2.37\n"
     ]
    },
    {
     "name": "stderr",
     "output_type": "stream",
     "text": [
      "01:41:21.092: Steady State\n"
     ]
    },
    {
     "name": "stdout",
     "output_type": "stream",
     "text": [
      "FeCl3 (L/d): 1001:\n",
      "NaOH (L/d): 1120\n",
      "TP (mg-P/L): 5.29\n",
      "pH: 3.73\n"
     ]
    },
    {
     "name": "stderr",
     "output_type": "stream",
     "text": [
      "01:42:03.970: Steady State\n"
     ]
    },
    {
     "name": "stdout",
     "output_type": "stream",
     "text": [
      "FeCl3 (L/d): 604:\n",
      "NaOH (L/d): 840\n",
      "TP (mg-P/L): 4.7\n",
      "pH: 6.84\n"
     ]
    },
    {
     "name": "stderr",
     "output_type": "stream",
     "text": [
      "01:42:44.654: Steady State\n"
     ]
    },
    {
     "name": "stdout",
     "output_type": "stream",
     "text": [
      "FeCl3 (L/d): 710:\n",
      "NaOH (L/d): 790\n",
      "TP (mg-P/L): 3.91\n",
      "pH: 6.21\n"
     ]
    },
    {
     "name": "stderr",
     "output_type": "stream",
     "text": [
      "01:43:25.388: Steady State\n"
     ]
    },
    {
     "name": "stdout",
     "output_type": "stream",
     "text": [
      "FeCl3 (L/d): 1039:\n",
      "NaOH (L/d): 956\n",
      "TP (mg-P/L): 17.5\n",
      "pH: 2.8\n"
     ]
    },
    {
     "name": "stderr",
     "output_type": "stream",
     "text": [
      "01:44:05.989: Steady State\n"
     ]
    },
    {
     "name": "stdout",
     "output_type": "stream",
     "text": [
      "FeCl3 (L/d): 978:\n",
      "NaOH (L/d): 1257\n",
      "TP (mg-P/L): 3.54\n",
      "pH: 5.92\n"
     ]
    },
    {
     "name": "stderr",
     "output_type": "stream",
     "text": [
      "01:44:46.579: Steady State\n"
     ]
    },
    {
     "name": "stdout",
     "output_type": "stream",
     "text": [
      "FeCl3 (L/d): 1181:\n",
      "NaOH (L/d): 318\n",
      "TP (mg-P/L): 24.54\n",
      "pH: 2.24\n"
     ]
    },
    {
     "name": "stderr",
     "output_type": "stream",
     "text": [
      "01:45:27.164: Steady State\n"
     ]
    },
    {
     "name": "stdout",
     "output_type": "stream",
     "text": [
      "FeCl3 (L/d): 1183:\n",
      "NaOH (L/d): 857\n",
      "TP (mg-P/L): 23.75\n",
      "pH: 2.47\n"
     ]
    },
    {
     "name": "stderr",
     "output_type": "stream",
     "text": [
      "01:46:07.853: Steady State\n"
     ]
    },
    {
     "name": "stdout",
     "output_type": "stream",
     "text": [
      "FeCl3 (L/d): 1167:\n",
      "NaOH (L/d): 1569\n",
      "TP (mg-P/L): 3.43\n",
      "pH: 5.51\n"
     ]
    },
    {
     "name": "stderr",
     "output_type": "stream",
     "text": [
      "01:46:48.762: Steady State\n"
     ]
    },
    {
     "name": "stdout",
     "output_type": "stream",
     "text": [
      "FeCl3 (L/d): 484:\n",
      "NaOH (L/d): 1638\n",
      "TP (mg-P/L): 24.6\n",
      "pH: 10.33\n"
     ]
    },
    {
     "name": "stderr",
     "output_type": "stream",
     "text": [
      "01:47:29.449: Steady State\n"
     ]
    },
    {
     "name": "stdout",
     "output_type": "stream",
     "text": [
      "FeCl3 (L/d): 618:\n",
      "NaOH (L/d): 1629\n",
      "TP (mg-P/L): 24.51\n",
      "pH: 9.71\n"
     ]
    },
    {
     "name": "stderr",
     "output_type": "stream",
     "text": [
      "01:48:10.046: Steady State\n"
     ]
    },
    {
     "name": "stdout",
     "output_type": "stream",
     "text": [
      "FeCl3 (L/d): 719:\n",
      "NaOH (L/d): 1592\n",
      "TP (mg-P/L): 19.9\n",
      "pH: 8.85\n"
     ]
    },
    {
     "name": "stderr",
     "output_type": "stream",
     "text": [
      "01:48:50.705: Steady State\n"
     ]
    },
    {
     "name": "stdout",
     "output_type": "stream",
     "text": [
      "FeCl3 (L/d): 1076:\n",
      "NaOH (L/d): 73\n",
      "TP (mg-P/L): 24.55\n",
      "pH: 2.23\n"
     ]
    },
    {
     "name": "stderr",
     "output_type": "stream",
     "text": [
      "01:49:31.526: Steady State\n"
     ]
    },
    {
     "name": "stdout",
     "output_type": "stream",
     "text": [
      "FeCl3 (L/d): 1066:\n",
      "NaOH (L/d): 955\n",
      "TP (mg-P/L): 19.21\n",
      "pH: 2.73\n"
     ]
    },
    {
     "name": "stderr",
     "output_type": "stream",
     "text": [
      "01:50:14.439: Steady State\n"
     ]
    },
    {
     "name": "stdout",
     "output_type": "stream",
     "text": [
      "FeCl3 (L/d): 582:\n",
      "NaOH (L/d): 115\n",
      "TP (mg-P/L): 15.34\n",
      "pH: 2.99\n"
     ]
    },
    {
     "name": "stderr",
     "output_type": "stream",
     "text": [
      "01:50:55.032: Steady State\n"
     ]
    },
    {
     "name": "stdout",
     "output_type": "stream",
     "text": [
      "FeCl3 (L/d): 997:\n",
      "NaOH (L/d): 1374\n",
      "TP (mg-P/L): 3.56\n",
      "pH: 6.16\n"
     ]
    },
    {
     "name": "stderr",
     "output_type": "stream",
     "text": [
      "01:51:35.704: Steady State\n"
     ]
    },
    {
     "name": "stdout",
     "output_type": "stream",
     "text": [
      "FeCl3 (L/d): 593:\n",
      "NaOH (L/d): 1528\n",
      "TP (mg-P/L): 24.43\n",
      "pH: 9.57\n"
     ]
    },
    {
     "name": "stderr",
     "output_type": "stream",
     "text": [
      "01:52:16.237: Steady State\n"
     ]
    },
    {
     "name": "stdout",
     "output_type": "stream",
     "text": [
      "FeCl3 (L/d): 1035:\n",
      "NaOH (L/d): 1186\n",
      "TP (mg-P/L): 5.51\n",
      "pH: 3.67\n"
     ]
    },
    {
     "name": "stderr",
     "output_type": "stream",
     "text": [
      "01:52:56.694: Steady State\n"
     ]
    },
    {
     "name": "stdout",
     "output_type": "stream",
     "text": [
      "FeCl3 (L/d): 477:\n",
      "NaOH (L/d): 632\n",
      "TP (mg-P/L): 5.77\n",
      "pH: 6.98\n"
     ]
    },
    {
     "name": "stderr",
     "output_type": "stream",
     "text": [
      "01:53:37.132: Steady State\n"
     ]
    },
    {
     "name": "stdout",
     "output_type": "stream",
     "text": [
      "FeCl3 (L/d): 982:\n",
      "NaOH (L/d): 1364\n",
      "TP (mg-P/L): 3.58\n",
      "pH: 6.22\n"
     ]
    },
    {
     "name": "stderr",
     "output_type": "stream",
     "text": [
      "01:54:17.872: Steady State\n"
     ]
    },
    {
     "name": "stdout",
     "output_type": "stream",
     "text": [
      "FeCl3 (L/d): 880:\n",
      "NaOH (L/d): 1667\n",
      "TP (mg-P/L): 6.9\n",
      "pH: 7.82\n"
     ]
    },
    {
     "name": "stderr",
     "output_type": "stream",
     "text": [
      "01:54:58.493: Steady State\n"
     ]
    },
    {
     "name": "stdout",
     "output_type": "stream",
     "text": [
      "FeCl3 (L/d): 1163:\n",
      "NaOH (L/d): 1491\n",
      "TP (mg-P/L): 3.7\n",
      "pH: 4.45\n"
     ]
    },
    {
     "name": "stderr",
     "output_type": "stream",
     "text": [
      "01:55:39.311: Steady State\n"
     ]
    },
    {
     "name": "stdout",
     "output_type": "stream",
     "text": [
      "FeCl3 (L/d): 965:\n",
      "NaOH (L/d): 715\n",
      "TP (mg-P/L): 20.19\n",
      "pH: 2.7\n"
     ]
    },
    {
     "name": "stderr",
     "output_type": "stream",
     "text": [
      "01:56:20.097: Steady State\n"
     ]
    },
    {
     "name": "stdout",
     "output_type": "stream",
     "text": [
      "FeCl3 (L/d): 1046:\n",
      "NaOH (L/d): 372\n",
      "TP (mg-P/L): 24.33\n",
      "pH: 2.37\n"
     ]
    },
    {
     "name": "stderr",
     "output_type": "stream",
     "text": [
      "01:57:00.781: Steady State\n"
     ]
    },
    {
     "name": "stdout",
     "output_type": "stream",
     "text": [
      "FeCl3 (L/d): 511:\n",
      "NaOH (L/d): 1512\n",
      "TP (mg-P/L): 24.58\n",
      "pH: 9.97\n"
     ]
    },
    {
     "name": "stderr",
     "output_type": "stream",
     "text": [
      "01:57:43.687: Steady State\n"
     ]
    },
    {
     "name": "stdout",
     "output_type": "stream",
     "text": [
      "FeCl3 (L/d): 407:\n",
      "NaOH (L/d): 1653\n",
      "TP (mg-P/L): 24.6\n",
      "pH: 10.66\n"
     ]
    },
    {
     "name": "stderr",
     "output_type": "stream",
     "text": [
      "01:58:26.104: Steady State\n"
     ]
    },
    {
     "name": "stdout",
     "output_type": "stream",
     "text": [
      "FeCl3 (L/d): 715:\n",
      "NaOH (L/d): 266\n",
      "TP (mg-P/L): 19.02\n",
      "pH: 2.78\n"
     ]
    },
    {
     "name": "stderr",
     "output_type": "stream",
     "text": [
      "01:59:06.720: Steady State\n"
     ]
    },
    {
     "name": "stdout",
     "output_type": "stream",
     "text": [
      "FeCl3 (L/d): 421:\n",
      "NaOH (L/d): 1459\n",
      "TP (mg-P/L): 24.6\n",
      "pH: 10.24\n"
     ]
    },
    {
     "name": "stderr",
     "output_type": "stream",
     "text": [
      "01:59:47.283: Steady State\n"
     ]
    },
    {
     "name": "stdout",
     "output_type": "stream",
     "text": [
      "FeCl3 (L/d): 804:\n",
      "NaOH (L/d): 947\n",
      "TP (mg-P/L): 3.73\n",
      "pH: 6.1\n"
     ]
    },
    {
     "name": "stderr",
     "output_type": "stream",
     "text": [
      "02:00:27.984: Steady State\n"
     ]
    },
    {
     "name": "stdout",
     "output_type": "stream",
     "text": [
      "FeCl3 (L/d): 1178:\n",
      "NaOH (L/d): 1455\n",
      "TP (mg-P/L): 6.99\n",
      "pH: 3.41\n"
     ]
    },
    {
     "name": "stderr",
     "output_type": "stream",
     "text": [
      "02:01:10.327: Steady State\n"
     ]
    },
    {
     "name": "stdout",
     "output_type": "stream",
     "text": [
      "FeCl3 (L/d): 414:\n",
      "NaOH (L/d): 398\n",
      "TP (mg-P/L): 5.98\n",
      "pH: 6.71\n"
     ]
    },
    {
     "name": "stderr",
     "output_type": "stream",
     "text": [
      "02:01:50.915: Steady State\n"
     ]
    },
    {
     "name": "stdout",
     "output_type": "stream",
     "text": [
      "FeCl3 (L/d): 629:\n",
      "NaOH (L/d): 1299\n",
      "TP (mg-P/L): 14.59\n",
      "pH: 8.51\n"
     ]
    },
    {
     "name": "stderr",
     "output_type": "stream",
     "text": [
      "02:02:31.556: Steady State\n"
     ]
    },
    {
     "name": "stdout",
     "output_type": "stream",
     "text": [
      "FeCl3 (L/d): 805:\n",
      "NaOH (L/d): 1401\n",
      "TP (mg-P/L): 4.92\n",
      "pH: 7.28\n"
     ]
    },
    {
     "name": "stderr",
     "output_type": "stream",
     "text": [
      "02:03:12.092: Steady State\n"
     ]
    },
    {
     "name": "stdout",
     "output_type": "stream",
     "text": [
      "FeCl3 (L/d): 918:\n",
      "NaOH (L/d): 956\n",
      "TP (mg-P/L): 4.95\n",
      "pH: 3.87\n"
     ]
    },
    {
     "name": "stderr",
     "output_type": "stream",
     "text": [
      "02:03:52.755: Steady State\n"
     ]
    },
    {
     "name": "stdout",
     "output_type": "stream",
     "text": [
      "FeCl3 (L/d): 579:\n",
      "NaOH (L/d): 1079\n",
      "TP (mg-P/L): 9.26\n",
      "pH: 7.95\n"
     ]
    },
    {
     "name": "stderr",
     "output_type": "stream",
     "text": [
      "02:04:33.411: Steady State\n"
     ]
    },
    {
     "name": "stdout",
     "output_type": "stream",
     "text": [
      "FeCl3 (L/d): 867:\n",
      "NaOH (L/d): 1402\n",
      "TP (mg-P/L): 4.07\n",
      "pH: 6.88\n"
     ]
    },
    {
     "name": "stderr",
     "output_type": "stream",
     "text": [
      "02:05:13.950: Steady State\n"
     ]
    },
    {
     "name": "stdout",
     "output_type": "stream",
     "text": [
      "FeCl3 (L/d): 804:\n",
      "NaOH (L/d): 823\n",
      "TP (mg-P/L): 3.68\n",
      "pH: 5.6\n"
     ]
    },
    {
     "name": "stderr",
     "output_type": "stream",
     "text": [
      "02:05:56.511: Steady State\n"
     ]
    },
    {
     "name": "stdout",
     "output_type": "stream",
     "text": [
      "FeCl3 (L/d): 704:\n",
      "NaOH (L/d): 1675\n",
      "TP (mg-P/L): 23.9\n",
      "pH: 9.25\n"
     ]
    },
    {
     "name": "stderr",
     "output_type": "stream",
     "text": [
      "02:06:38.888: Steady State\n"
     ]
    },
    {
     "name": "stdout",
     "output_type": "stream",
     "text": [
      "FeCl3 (L/d): 621:\n",
      "NaOH (L/d): 323\n",
      "TP (mg-P/L): 7.54\n",
      "pH: 3.6\n"
     ]
    },
    {
     "name": "stderr",
     "output_type": "stream",
     "text": [
      "02:07:21.239: Steady State\n"
     ]
    },
    {
     "name": "stdout",
     "output_type": "stream",
     "text": [
      "FeCl3 (L/d): 1153:\n",
      "NaOH (L/d): 841\n",
      "TP (mg-P/L): 23.51\n",
      "pH: 2.49\n"
     ]
    },
    {
     "name": "stderr",
     "output_type": "stream",
     "text": [
      "02:08:01.743: Steady State\n"
     ]
    },
    {
     "name": "stdout",
     "output_type": "stream",
     "text": [
      "FeCl3 (L/d): 1077:\n",
      "NaOH (L/d): 855\n",
      "TP (mg-P/L): 21.81\n",
      "pH: 2.61\n"
     ]
    },
    {
     "name": "stderr",
     "output_type": "stream",
     "text": [
      "02:08:42.141: Steady State\n"
     ]
    },
    {
     "name": "stdout",
     "output_type": "stream",
     "text": [
      "FeCl3 (L/d): 1065:\n",
      "NaOH (L/d): 543\n",
      "TP (mg-P/L): 24.05\n",
      "pH: 2.43\n"
     ]
    },
    {
     "name": "stderr",
     "output_type": "stream",
     "text": [
      "02:09:24.485: Steady State\n"
     ]
    },
    {
     "name": "stdout",
     "output_type": "stream",
     "text": [
      "FeCl3 (L/d): 840:\n",
      "NaOH (L/d): 1167\n",
      "TP (mg-P/L): 3.79\n",
      "pH: 6.46\n"
     ]
    },
    {
     "name": "stderr",
     "output_type": "stream",
     "text": [
      "02:10:06.954: Steady State\n"
     ]
    },
    {
     "name": "stdout",
     "output_type": "stream",
     "text": [
      "FeCl3 (L/d): 1121:\n",
      "NaOH (L/d): 908\n",
      "TP (mg-P/L): 22.31\n",
      "pH: 2.58\n"
     ]
    },
    {
     "name": "stderr",
     "output_type": "stream",
     "text": [
      "02:10:47.595: Steady State\n"
     ]
    },
    {
     "name": "stdout",
     "output_type": "stream",
     "text": [
      "FeCl3 (L/d): 903:\n",
      "NaOH (L/d): 1355\n",
      "TP (mg-P/L): 3.78\n",
      "pH: 6.59\n"
     ]
    },
    {
     "name": "stderr",
     "output_type": "stream",
     "text": [
      "02:11:28.143: Steady State\n"
     ]
    },
    {
     "name": "stdout",
     "output_type": "stream",
     "text": [
      "FeCl3 (L/d): 1014:\n",
      "NaOH (L/d): 15\n",
      "TP (mg-P/L): 24.53\n",
      "pH: 2.26\n"
     ]
    },
    {
     "name": "stderr",
     "output_type": "stream",
     "text": [
      "02:12:10.709: Steady State\n"
     ]
    },
    {
     "name": "stdout",
     "output_type": "stream",
     "text": [
      "FeCl3 (L/d): 988:\n",
      "NaOH (L/d): 736\n",
      "TP (mg-P/L): 20.74\n",
      "pH: 2.67\n"
     ]
    },
    {
     "name": "stderr",
     "output_type": "stream",
     "text": [
      "02:12:53.204: Steady State\n"
     ]
    },
    {
     "name": "stdout",
     "output_type": "stream",
     "text": [
      "FeCl3 (L/d): 963:\n",
      "NaOH (L/d): 1347\n",
      "TP (mg-P/L): 3.6\n",
      "pH: 6.27\n"
     ]
    },
    {
     "name": "stderr",
     "output_type": "stream",
     "text": [
      "02:13:33.795: Steady State\n"
     ]
    },
    {
     "name": "stdout",
     "output_type": "stream",
     "text": [
      "FeCl3 (L/d): 485:\n",
      "NaOH (L/d): 688\n",
      "TP (mg-P/L): 5.97\n",
      "pH: 7.09\n"
     ]
    },
    {
     "name": "stderr",
     "output_type": "stream",
     "text": [
      "02:14:16.251: Steady State\n"
     ]
    },
    {
     "name": "stdout",
     "output_type": "stream",
     "text": [
      "FeCl3 (L/d): 862:\n",
      "NaOH (L/d): 200\n",
      "TP (mg-P/L): 23.85\n",
      "pH: 2.47\n"
     ]
    },
    {
     "name": "stderr",
     "output_type": "stream",
     "text": [
      "02:14:58.635: Steady State\n"
     ]
    },
    {
     "name": "stdout",
     "output_type": "stream",
     "text": [
      "FeCl3 (L/d): 910:\n",
      "NaOH (L/d): 169\n",
      "TP (mg-P/L): 24.23\n",
      "pH: 2.4\n"
     ]
    },
    {
     "name": "stderr",
     "output_type": "stream",
     "text": [
      "02:15:41.161: Steady State\n"
     ]
    },
    {
     "name": "stdout",
     "output_type": "stream",
     "text": [
      "FeCl3 (L/d): 488:\n",
      "NaOH (L/d): 1369\n",
      "TP (mg-P/L): 24.53\n",
      "pH: 9.75\n"
     ]
    },
    {
     "name": "stderr",
     "output_type": "stream",
     "text": [
      "02:16:23.699: Steady State\n"
     ]
    },
    {
     "name": "stdout",
     "output_type": "stream",
     "text": [
      "FeCl3 (L/d): 1054:\n",
      "NaOH (L/d): 235\n",
      "TP (mg-P/L): 24.47\n",
      "pH: 2.3\n"
     ]
    },
    {
     "name": "stderr",
     "output_type": "stream",
     "text": [
      "02:17:06.199: Steady State\n"
     ]
    },
    {
     "name": "stdout",
     "output_type": "stream",
     "text": [
      "FeCl3 (L/d): 744:\n",
      "NaOH (L/d): 553\n",
      "TP (mg-P/L): 8.54\n",
      "pH: 3.4\n"
     ]
    },
    {
     "name": "stderr",
     "output_type": "stream",
     "text": [
      "02:17:48.586: Steady State\n"
     ]
    },
    {
     "name": "stdout",
     "output_type": "stream",
     "text": [
      "FeCl3 (L/d): 1153:\n",
      "NaOH (L/d): 653\n",
      "TP (mg-P/L): 24.21\n",
      "pH: 2.39\n"
     ]
    },
    {
     "name": "stderr",
     "output_type": "stream",
     "text": [
      "02:18:31.337: Steady State\n"
     ]
    },
    {
     "name": "stdout",
     "output_type": "stream",
     "text": [
      "FeCl3 (L/d): 577:\n",
      "NaOH (L/d): 1458\n",
      "TP (mg-P/L): 24.31\n",
      "pH: 9.45\n"
     ]
    },
    {
     "name": "stderr",
     "output_type": "stream",
     "text": [
      "02:19:14.076: Steady State\n"
     ]
    },
    {
     "name": "stdout",
     "output_type": "stream",
     "text": [
      "FeCl3 (L/d): 504:\n",
      "NaOH (L/d): 1205\n",
      "TP (mg-P/L): 22.78\n",
      "pH: 9.05\n"
     ]
    },
    {
     "name": "stderr",
     "output_type": "stream",
     "text": [
      "02:19:56.772: Steady State\n"
     ]
    },
    {
     "name": "stdout",
     "output_type": "stream",
     "text": [
      "FeCl3 (L/d): 755:\n",
      "NaOH (L/d): 1042\n",
      "TP (mg-P/L): 3.99\n",
      "pH: 6.58\n"
     ]
    },
    {
     "name": "stderr",
     "output_type": "stream",
     "text": [
      "02:20:39.510: Steady State\n"
     ]
    },
    {
     "name": "stdout",
     "output_type": "stream",
     "text": [
      "FeCl3 (L/d): 763:\n",
      "NaOH (L/d): 275\n",
      "TP (mg-P/L): 21.05\n",
      "pH: 2.68\n"
     ]
    },
    {
     "name": "stderr",
     "output_type": "stream",
     "text": [
      "02:21:21.980: Steady State\n"
     ]
    },
    {
     "name": "stdout",
     "output_type": "stream",
     "text": [
      "FeCl3 (L/d): 435:\n",
      "NaOH (L/d): 1210\n",
      "TP (mg-P/L): 24.46\n",
      "pH: 9.62\n"
     ]
    },
    {
     "name": "stderr",
     "output_type": "stream",
     "text": [
      "02:22:06.527: Steady State\n"
     ]
    },
    {
     "name": "stdout",
     "output_type": "stream",
     "text": [
      "FeCl3 (L/d): 794:\n",
      "NaOH (L/d): 1705\n",
      "TP (mg-P/L): 17.55\n",
      "pH: 8.73\n"
     ]
    },
    {
     "name": "stderr",
     "output_type": "stream",
     "text": [
      "02:22:49.013: Steady State\n"
     ]
    },
    {
     "name": "stdout",
     "output_type": "stream",
     "text": [
      "FeCl3 (L/d): 1188:\n",
      "NaOH (L/d): 520\n",
      "TP (mg-P/L): 24.46\n",
      "pH: 2.31\n"
     ]
    },
    {
     "name": "stderr",
     "output_type": "stream",
     "text": [
      "02:23:31.508: Steady State\n"
     ]
    },
    {
     "name": "stdout",
     "output_type": "stream",
     "text": [
      "FeCl3 (L/d): 1068:\n",
      "NaOH (L/d): 251\n",
      "TP (mg-P/L): 24.48\n",
      "pH: 2.3\n"
     ]
    },
    {
     "name": "stderr",
     "output_type": "stream",
     "text": [
      "02:24:13.864: Steady State\n"
     ]
    },
    {
     "name": "stdout",
     "output_type": "stream",
     "text": [
      "FeCl3 (L/d): 793:\n",
      "NaOH (L/d): 1099\n",
      "TP (mg-P/L): 3.89\n",
      "pH: 6.53\n"
     ]
    },
    {
     "name": "stderr",
     "output_type": "stream",
     "text": [
      "02:24:56.149: Steady State\n"
     ]
    },
    {
     "name": "stdout",
     "output_type": "stream",
     "text": [
      "FeCl3 (L/d): 964:\n",
      "NaOH (L/d): 766\n",
      "TP (mg-P/L): 18.78\n",
      "pH: 2.76\n"
     ]
    },
    {
     "name": "stderr",
     "output_type": "stream",
     "text": [
      "02:25:38.781: Steady State\n"
     ]
    },
    {
     "name": "stdout",
     "output_type": "stream",
     "text": [
      "FeCl3 (L/d): 799:\n",
      "NaOH (L/d): 1225\n",
      "TP (mg-P/L): 4.08\n",
      "pH: 6.79\n"
     ]
    },
    {
     "name": "stderr",
     "output_type": "stream",
     "text": [
      "02:26:21.350: Steady State\n"
     ]
    },
    {
     "name": "stdout",
     "output_type": "stream",
     "text": [
      "FeCl3 (L/d): 1147:\n",
      "NaOH (L/d): 261\n",
      "TP (mg-P/L): 24.54\n",
      "pH: 2.25\n"
     ]
    },
    {
     "name": "stderr",
     "output_type": "stream",
     "text": [
      "02:27:03.946: Steady State\n"
     ]
    },
    {
     "name": "stdout",
     "output_type": "stream",
     "text": [
      "FeCl3 (L/d): 1067:\n",
      "NaOH (L/d): 1149\n",
      "TP (mg-P/L): 11.63\n",
      "pH: 3.08\n"
     ]
    },
    {
     "name": "stderr",
     "output_type": "stream",
     "text": [
      "02:27:48.170: Steady State\n"
     ]
    },
    {
     "name": "stdout",
     "output_type": "stream",
     "text": [
      "FeCl3 (L/d): 753:\n",
      "NaOH (L/d): 1622\n",
      "TP (mg-P/L): 17.75\n",
      "pH: 8.73\n"
     ]
    },
    {
     "name": "stderr",
     "output_type": "stream",
     "text": [
      "02:28:30.571: Steady State\n"
     ]
    },
    {
     "name": "stdout",
     "output_type": "stream",
     "text": [
      "FeCl3 (L/d): 1008:\n",
      "NaOH (L/d): 1452\n",
      "TP (mg-P/L): 3.58\n",
      "pH: 6.3\n"
     ]
    },
    {
     "name": "stderr",
     "output_type": "stream",
     "text": [
      "02:29:13.038: Steady State\n"
     ]
    },
    {
     "name": "stdout",
     "output_type": "stream",
     "text": [
      "FeCl3 (L/d): 459:\n",
      "NaOH (L/d): 1247\n",
      "TP (mg-P/L): 24.44\n",
      "pH: 9.58\n"
     ]
    },
    {
     "name": "stderr",
     "output_type": "stream",
     "text": [
      "02:29:59.406: Steady State\n"
     ]
    },
    {
     "name": "stdout",
     "output_type": "stream",
     "text": [
      "FeCl3 (L/d): 815:\n",
      "NaOH (L/d): 283\n",
      "TP (mg-P/L): 22.52\n",
      "pH: 2.59\n"
     ]
    },
    {
     "name": "stderr",
     "output_type": "stream",
     "text": [
      "02:30:41.895: Steady State\n"
     ]
    },
    {
     "name": "stdout",
     "output_type": "stream",
     "text": [
      "FeCl3 (L/d): 627:\n",
      "NaOH (L/d): 1542\n",
      "TP (mg-P/L): 24.19\n",
      "pH: 9.37\n"
     ]
    },
    {
     "name": "stderr",
     "output_type": "stream",
     "text": [
      "02:31:24.316: Steady State\n"
     ]
    },
    {
     "name": "stdout",
     "output_type": "stream",
     "text": [
      "FeCl3 (L/d): 614:\n",
      "NaOH (L/d): 951\n",
      "TP (mg-P/L): 5.12\n",
      "pH: 7.09\n"
     ]
    },
    {
     "name": "stderr",
     "output_type": "stream",
     "text": [
      "02:32:06.774: Steady State\n"
     ]
    },
    {
     "name": "stdout",
     "output_type": "stream",
     "text": [
      "FeCl3 (L/d): 719:\n",
      "NaOH (L/d): 654\n",
      "TP (mg-P/L): 3.81\n",
      "pH: 5.66\n"
     ]
    },
    {
     "name": "stderr",
     "output_type": "stream",
     "text": [
      "02:32:49.292: Steady State\n"
     ]
    },
    {
     "name": "stdout",
     "output_type": "stream",
     "text": [
      "FeCl3 (L/d): 780:\n",
      "NaOH (L/d): 993\n",
      "TP (mg-P/L): 3.83\n",
      "pH: 6.35\n"
     ]
    },
    {
     "name": "stderr",
     "output_type": "stream",
     "text": [
      "02:33:31.849: Steady State\n"
     ]
    },
    {
     "name": "stdout",
     "output_type": "stream",
     "text": [
      "FeCl3 (L/d): 1003:\n",
      "NaOH (L/d): 720\n",
      "TP (mg-P/L): 21.6\n",
      "pH: 2.63\n"
     ]
    },
    {
     "name": "stderr",
     "output_type": "stream",
     "text": [
      "02:34:14.237: Steady State\n"
     ]
    },
    {
     "name": "stdout",
     "output_type": "stream",
     "text": [
      "FeCl3 (L/d): 401:\n",
      "NaOH (L/d): 8\n",
      "TP (mg-P/L): 5.54\n",
      "pH: 5.71\n"
     ]
    },
    {
     "name": "stderr",
     "output_type": "stream",
     "text": [
      "02:34:56.687: Steady State\n"
     ]
    },
    {
     "name": "stdout",
     "output_type": "stream",
     "text": [
      "FeCl3 (L/d): 1148:\n",
      "NaOH (L/d): 570\n",
      "TP (mg-P/L): 24.33\n",
      "pH: 2.36\n"
     ]
    },
    {
     "name": "stderr",
     "output_type": "stream",
     "text": [
      "02:35:39.218: Steady State\n"
     ]
    },
    {
     "name": "stdout",
     "output_type": "stream",
     "text": [
      "FeCl3 (L/d): 617:\n",
      "NaOH (L/d): 28\n",
      "TP (mg-P/L): 20.24\n",
      "pH: 2.73\n"
     ]
    },
    {
     "name": "stderr",
     "output_type": "stream",
     "text": [
      "02:36:23.476: Steady State\n"
     ]
    },
    {
     "name": "stdout",
     "output_type": "stream",
     "text": [
      "FeCl3 (L/d): 792:\n",
      "NaOH (L/d): 1467\n",
      "TP (mg-P/L): 6.62\n",
      "pH: 7.71\n"
     ]
    },
    {
     "name": "stderr",
     "output_type": "stream",
     "text": [
      "02:37:07.746: Steady State\n"
     ]
    },
    {
     "name": "stdout",
     "output_type": "stream",
     "text": [
      "FeCl3 (L/d): 595:\n",
      "NaOH (L/d): 1303\n",
      "TP (mg-P/L): 18.54\n",
      "pH: 8.76\n"
     ]
    },
    {
     "name": "stderr",
     "output_type": "stream",
     "text": [
      "02:37:52.182: Steady State\n"
     ]
    },
    {
     "name": "stdout",
     "output_type": "stream",
     "text": [
      "FeCl3 (L/d): 1027:\n",
      "NaOH (L/d): 151\n",
      "TP (mg-P/L): 24.49\n",
      "pH: 2.29\n"
     ]
    },
    {
     "name": "stderr",
     "output_type": "stream",
     "text": [
      "02:38:36.298: Steady State\n"
     ]
    },
    {
     "name": "stdout",
     "output_type": "stream",
     "text": [
      "FeCl3 (L/d): 915:\n",
      "NaOH (L/d): 535\n",
      "TP (mg-P/L): 21.77\n",
      "pH: 2.63\n"
     ]
    },
    {
     "name": "stderr",
     "output_type": "stream",
     "text": [
      "02:39:20.523: Steady State\n"
     ]
    },
    {
     "name": "stdout",
     "output_type": "stream",
     "text": [
      "FeCl3 (L/d): 764:\n",
      "NaOH (L/d): 1548\n",
      "TP (mg-P/L): 12.61\n",
      "pH: 8.41\n"
     ]
    },
    {
     "name": "stderr",
     "output_type": "stream",
     "text": [
      "02:40:04.755: Steady State\n"
     ]
    },
    {
     "name": "stdout",
     "output_type": "stream",
     "text": [
      "FeCl3 (L/d): 409:\n",
      "NaOH (L/d): 1111\n",
      "TP (mg-P/L): 24.34\n",
      "pH: 9.48\n"
     ]
    },
    {
     "name": "stderr",
     "output_type": "stream",
     "text": [
      "02:40:49.388: Steady State\n"
     ]
    },
    {
     "name": "stdout",
     "output_type": "stream",
     "text": [
      "FeCl3 (L/d): 788:\n",
      "NaOH (L/d): 1158\n",
      "TP (mg-P/L): 4.01\n",
      "pH: 6.69\n"
     ]
    },
    {
     "name": "stderr",
     "output_type": "stream",
     "text": [
      "02:41:33.951: Steady State\n"
     ]
    },
    {
     "name": "stdout",
     "output_type": "stream",
     "text": [
      "FeCl3 (L/d): 967:\n",
      "NaOH (L/d): 1504\n",
      "TP (mg-P/L): 3.74\n",
      "pH: 6.62\n"
     ]
    },
    {
     "name": "stderr",
     "output_type": "stream",
     "text": [
      "02:42:18.302: Steady State\n"
     ]
    },
    {
     "name": "stdout",
     "output_type": "stream",
     "text": [
      "FeCl3 (L/d): 1021:\n",
      "NaOH (L/d): 213\n",
      "TP (mg-P/L): 24.44\n",
      "pH: 2.32\n"
     ]
    },
    {
     "name": "stderr",
     "output_type": "stream",
     "text": [
      "02:43:02.603: Steady State\n"
     ]
    },
    {
     "name": "stdout",
     "output_type": "stream",
     "text": [
      "FeCl3 (L/d): 1110:\n",
      "NaOH (L/d): 843\n",
      "TP (mg-P/L): 22.81\n",
      "pH: 2.55\n"
     ]
    },
    {
     "name": "stderr",
     "output_type": "stream",
     "text": [
      "02:43:46.821: Steady State\n"
     ]
    },
    {
     "name": "stdout",
     "output_type": "stream",
     "text": [
      "FeCl3 (L/d): 715:\n",
      "NaOH (L/d): 347\n",
      "TP (mg-P/L): 16.32\n",
      "pH: 2.9\n"
     ]
    },
    {
     "name": "stderr",
     "output_type": "stream",
     "text": [
      "02:44:31.091: Steady State\n"
     ]
    },
    {
     "name": "stdout",
     "output_type": "stream",
     "text": [
      "FeCl3 (L/d): 715:\n",
      "NaOH (L/d): 1655\n",
      "TP (mg-P/L): 22.96\n",
      "pH: 9.07\n"
     ]
    },
    {
     "name": "stderr",
     "output_type": "stream",
     "text": [
      "02:45:15.556: Steady State\n"
     ]
    },
    {
     "name": "stdout",
     "output_type": "stream",
     "text": [
      "FeCl3 (L/d): 1066:\n",
      "NaOH (L/d): 1698\n",
      "TP (mg-P/L): 3.64\n",
      "pH: 6.59\n"
     ]
    },
    {
     "name": "stderr",
     "output_type": "stream",
     "text": [
      "02:46:02.115: Steady State\n"
     ]
    },
    {
     "name": "stdout",
     "output_type": "stream",
     "text": [
      "FeCl3 (L/d): 535:\n",
      "NaOH (L/d): 1693\n",
      "TP (mg-P/L): 24.6\n",
      "pH: 10.23\n"
     ]
    },
    {
     "name": "stderr",
     "output_type": "stream",
     "text": [
      "02:46:46.658: Steady State\n"
     ]
    },
    {
     "name": "stdout",
     "output_type": "stream",
     "text": [
      "FeCl3 (L/d): 978:\n",
      "NaOH (L/d): 1457\n",
      "TP (mg-P/L): 3.65\n",
      "pH: 6.46\n"
     ]
    },
    {
     "name": "stderr",
     "output_type": "stream",
     "text": [
      "02:47:31.007: Steady State\n"
     ]
    },
    {
     "name": "stdout",
     "output_type": "stream",
     "text": [
      "FeCl3 (L/d): 1014:\n",
      "NaOH (L/d): 30\n",
      "TP (mg-P/L): 24.53\n",
      "pH: 2.26\n"
     ]
    },
    {
     "name": "stderr",
     "output_type": "stream",
     "text": [
      "02:48:15.372: Steady State\n"
     ]
    },
    {
     "name": "stdout",
     "output_type": "stream",
     "text": [
      "FeCl3 (L/d): 662:\n",
      "NaOH (L/d): 1224\n",
      "TP (mg-P/L): 7.91\n",
      "pH: 7.83\n"
     ]
    },
    {
     "name": "stderr",
     "output_type": "stream",
     "text": [
      "02:48:59.875: Steady State\n"
     ]
    },
    {
     "name": "stdout",
     "output_type": "stream",
     "text": [
      "FeCl3 (L/d): 934:\n",
      "NaOH (L/d): 876\n",
      "TP (mg-P/L): 11.93\n",
      "pH: 3.08\n"
     ]
    },
    {
     "name": "stderr",
     "output_type": "stream",
     "text": [
      "02:49:44.402: Steady State\n"
     ]
    },
    {
     "name": "stdout",
     "output_type": "stream",
     "text": [
      "FeCl3 (L/d): 993:\n",
      "NaOH (L/d): 34\n",
      "TP (mg-P/L): 24.51\n",
      "pH: 2.28\n"
     ]
    },
    {
     "name": "stderr",
     "output_type": "stream",
     "text": [
      "02:50:28.893: Steady State\n"
     ]
    },
    {
     "name": "stdout",
     "output_type": "stream",
     "text": [
      "FeCl3 (L/d): 759:\n",
      "NaOH (L/d): 763\n",
      "TP (mg-P/L): 3.75\n",
      "pH: 5.78\n"
     ]
    },
    {
     "name": "stderr",
     "output_type": "stream",
     "text": [
      "02:51:15.117: Steady State\n"
     ]
    },
    {
     "name": "stdout",
     "output_type": "stream",
     "text": [
      "FeCl3 (L/d): 613:\n",
      "NaOH (L/d): 144\n",
      "TP (mg-P/L): 16.54\n",
      "pH: 2.92\n"
     ]
    },
    {
     "name": "stderr",
     "output_type": "stream",
     "text": [
      "02:51:59.452: Steady State\n"
     ]
    },
    {
     "name": "stdout",
     "output_type": "stream",
     "text": [
      "FeCl3 (L/d): 625:\n",
      "NaOH (L/d): 1626\n",
      "TP (mg-P/L): 24.49\n",
      "pH: 9.66\n"
     ]
    },
    {
     "name": "stderr",
     "output_type": "stream",
     "text": [
      "02:52:45.597: Steady State\n"
     ]
    },
    {
     "name": "stdout",
     "output_type": "stream",
     "text": [
      "FeCl3 (L/d): 610:\n",
      "NaOH (L/d): 741\n",
      "TP (mg-P/L): 4.38\n",
      "pH: 6.58\n"
     ]
    },
    {
     "name": "stderr",
     "output_type": "stream",
     "text": [
      "02:53:30.306: Steady State\n"
     ]
    },
    {
     "name": "stdout",
     "output_type": "stream",
     "text": [
      "FeCl3 (L/d): 687:\n",
      "NaOH (L/d): 1630\n",
      "TP (mg-P/L): 23.75\n",
      "pH: 9.21\n"
     ]
    },
    {
     "name": "stderr",
     "output_type": "stream",
     "text": [
      "02:54:19.028: Steady State\n"
     ]
    },
    {
     "name": "stdout",
     "output_type": "stream",
     "text": [
      "FeCl3 (L/d): 833:\n",
      "NaOH (L/d): 63\n",
      "TP (mg-P/L): 24.12\n",
      "pH: 2.43\n"
     ]
    },
    {
     "name": "stderr",
     "output_type": "stream",
     "text": [
      "02:55:03.700: Steady State\n"
     ]
    },
    {
     "name": "stdout",
     "output_type": "stream",
     "text": [
      "FeCl3 (L/d): 1070:\n",
      "NaOH (L/d): 1028\n",
      "TP (mg-P/L): 17.16\n",
      "pH: 2.82\n"
     ]
    },
    {
     "name": "stderr",
     "output_type": "stream",
     "text": [
      "02:55:50.398: Steady State\n"
     ]
    },
    {
     "name": "stdout",
     "output_type": "stream",
     "text": [
      "FeCl3 (L/d): 512:\n",
      "NaOH (L/d): 99\n",
      "TP (mg-P/L): 8.6\n",
      "pH: 3.58\n"
     ]
    },
    {
     "name": "stderr",
     "output_type": "stream",
     "text": [
      "02:56:36.933: Steady State\n"
     ]
    },
    {
     "name": "stdout",
     "output_type": "stream",
     "text": [
      "FeCl3 (L/d): 1084:\n",
      "NaOH (L/d): 359\n",
      "TP (mg-P/L): 24.43\n",
      "pH: 2.33\n"
     ]
    },
    {
     "name": "stderr",
     "output_type": "stream",
     "text": [
      "02:57:23.472: Steady State\n"
     ]
    },
    {
     "name": "stdout",
     "output_type": "stream",
     "text": [
      "FeCl3 (L/d): 556:\n",
      "NaOH (L/d): 1084\n",
      "TP (mg-P/L): 11.64\n",
      "pH: 8.22\n"
     ]
    },
    {
     "name": "stderr",
     "output_type": "stream",
     "text": [
      "02:58:09.831: Steady State\n"
     ]
    },
    {
     "name": "stdout",
     "output_type": "stream",
     "text": [
      "FeCl3 (L/d): 653:\n",
      "NaOH (L/d): 871\n",
      "TP (mg-P/L): 4.32\n",
      "pH: 6.68\n"
     ]
    },
    {
     "name": "stderr",
     "output_type": "stream",
     "text": [
      "02:58:56.025: Steady State\n"
     ]
    },
    {
     "name": "stdout",
     "output_type": "stream",
     "text": [
      "FeCl3 (L/d): 448:\n",
      "NaOH (L/d): 257\n",
      "TP (mg-P/L): 5.14\n",
      "pH: 6.23\n"
     ]
    },
    {
     "name": "stderr",
     "output_type": "stream",
     "text": [
      "02:59:42.283: Steady State\n"
     ]
    },
    {
     "name": "stdout",
     "output_type": "stream",
     "text": [
      "FeCl3 (L/d): 1080:\n",
      "NaOH (L/d): 1028\n",
      "TP (mg-P/L): 17.85\n",
      "pH: 2.79\n"
     ]
    },
    {
     "name": "stderr",
     "output_type": "stream",
     "text": [
      "03:00:28.606: Steady State\n"
     ]
    },
    {
     "name": "stdout",
     "output_type": "stream",
     "text": [
      "FeCl3 (L/d): 460:\n",
      "NaOH (L/d): 1471\n",
      "TP (mg-P/L): 24.59\n",
      "pH: 10.11\n"
     ]
    },
    {
     "name": "stderr",
     "output_type": "stream",
     "text": [
      "03:01:14.679: Steady State\n"
     ]
    },
    {
     "name": "stdout",
     "output_type": "stream",
     "text": [
      "FeCl3 (L/d): 832:\n",
      "NaOH (L/d): 553\n",
      "TP (mg-P/L): 17.19\n",
      "pH: 2.84\n"
     ]
    },
    {
     "name": "stderr",
     "output_type": "stream",
     "text": [
      "03:02:02.969: Steady State\n"
     ]
    },
    {
     "name": "stdout",
     "output_type": "stream",
     "text": [
      "FeCl3 (L/d): 1161:\n",
      "NaOH (L/d): 866\n",
      "TP (mg-P/L): 23.46\n",
      "pH: 2.5\n"
     ]
    },
    {
     "name": "stderr",
     "output_type": "stream",
     "text": [
      "03:02:49.201: Steady State\n"
     ]
    },
    {
     "name": "stdout",
     "output_type": "stream",
     "text": [
      "FeCl3 (L/d): 780:\n",
      "NaOH (L/d): 1432\n",
      "TP (mg-P/L): 6.39\n",
      "pH: 7.66\n"
     ]
    },
    {
     "name": "stderr",
     "output_type": "stream",
     "text": [
      "03:03:35.318: Steady State\n"
     ]
    },
    {
     "name": "stdout",
     "output_type": "stream",
     "text": [
      "FeCl3 (L/d): 1098:\n",
      "NaOH (L/d): 475\n",
      "TP (mg-P/L): 24.33\n",
      "pH: 2.37\n"
     ]
    },
    {
     "name": "stderr",
     "output_type": "stream",
     "text": [
      "03:04:21.596: Steady State\n"
     ]
    },
    {
     "name": "stdout",
     "output_type": "stream",
     "text": [
      "FeCl3 (L/d): 1050:\n",
      "NaOH (L/d): 906\n",
      "TP (mg-P/L): 19.66\n",
      "pH: 2.71\n"
     ]
    },
    {
     "name": "stderr",
     "output_type": "stream",
     "text": [
      "03:05:07.947: Steady State\n"
     ]
    },
    {
     "name": "stdout",
     "output_type": "stream",
     "text": [
      "FeCl3 (L/d): 918:\n",
      "NaOH (L/d): 107\n",
      "TP (mg-P/L): 24.35\n",
      "pH: 2.37\n"
     ]
    },
    {
     "name": "stderr",
     "output_type": "stream",
     "text": [
      "03:05:54.285: Steady State\n"
     ]
    },
    {
     "name": "stdout",
     "output_type": "stream",
     "text": [
      "FeCl3 (L/d): 1076:\n",
      "NaOH (L/d): 1451\n",
      "TP (mg-P/L): 3.48\n",
      "pH: 5.88\n"
     ]
    },
    {
     "name": "stderr",
     "output_type": "stream",
     "text": [
      "03:06:40.588: Steady State\n"
     ]
    },
    {
     "name": "stdout",
     "output_type": "stream",
     "text": [
      "FeCl3 (L/d): 1074:\n",
      "NaOH (L/d): 1322\n",
      "TP (mg-P/L): 3.55\n",
      "pH: 4.9\n"
     ]
    },
    {
     "name": "stderr",
     "output_type": "stream",
     "text": [
      "03:07:26.872: Steady State\n"
     ]
    },
    {
     "name": "stdout",
     "output_type": "stream",
     "text": [
      "FeCl3 (L/d): 582:\n",
      "NaOH (L/d): 1661\n",
      "TP (mg-P/L): 24.58\n",
      "pH: 9.96\n"
     ]
    },
    {
     "name": "stderr",
     "output_type": "stream",
     "text": [
      "03:08:14.901: Steady State\n"
     ]
    },
    {
     "name": "stdout",
     "output_type": "stream",
     "text": [
      "FeCl3 (L/d): 957:\n",
      "NaOH (L/d): 466\n",
      "TP (mg-P/L): 23.42\n",
      "pH: 2.51\n"
     ]
    },
    {
     "name": "stderr",
     "output_type": "stream",
     "text": [
      "03:09:01.134: Steady State\n"
     ]
    },
    {
     "name": "stdout",
     "output_type": "stream",
     "text": [
      "FeCl3 (L/d): 572:\n",
      "NaOH (L/d): 810\n",
      "TP (mg-P/L): 5.01\n",
      "pH: 6.94\n"
     ]
    },
    {
     "name": "stderr",
     "output_type": "stream",
     "text": [
      "03:09:47.594: Steady State\n"
     ]
    },
    {
     "name": "stdout",
     "output_type": "stream",
     "text": [
      "FeCl3 (L/d): 774:\n",
      "NaOH (L/d): 283\n",
      "TP (mg-P/L): 21.3\n",
      "pH: 2.66\n"
     ]
    },
    {
     "name": "stderr",
     "output_type": "stream",
     "text": [
      "03:10:35.861: Steady State\n"
     ]
    },
    {
     "name": "stdout",
     "output_type": "stream",
     "text": [
      "FeCl3 (L/d): 1007:\n",
      "NaOH (L/d): 487\n",
      "TP (mg-P/L): 23.84\n",
      "pH: 2.46\n"
     ]
    },
    {
     "name": "stderr",
     "output_type": "stream",
     "text": [
      "03:11:24.042: Steady State\n"
     ]
    },
    {
     "name": "stdout",
     "output_type": "stream",
     "text": [
      "FeCl3 (L/d): 1045:\n",
      "NaOH (L/d): 336\n",
      "TP (mg-P/L): 24.37\n",
      "pH: 2.35\n"
     ]
    },
    {
     "name": "stderr",
     "output_type": "stream",
     "text": [
      "03:12:12.125: Steady State\n"
     ]
    },
    {
     "name": "stdout",
     "output_type": "stream",
     "text": [
      "FeCl3 (L/d): 497:\n",
      "NaOH (L/d): 1426\n",
      "TP (mg-P/L): 24.55\n",
      "pH: 9.84\n"
     ]
    },
    {
     "name": "stderr",
     "output_type": "stream",
     "text": [
      "03:12:59.991: Steady State\n"
     ]
    },
    {
     "name": "stdout",
     "output_type": "stream",
     "text": [
      "FeCl3 (L/d): 982:\n",
      "NaOH (L/d): 163\n",
      "TP (mg-P/L): 24.42\n",
      "pH: 2.34\n"
     ]
    },
    {
     "name": "stderr",
     "output_type": "stream",
     "text": [
      "03:13:50.377: Steady State\n"
     ]
    },
    {
     "name": "stdout",
     "output_type": "stream",
     "text": [
      "FeCl3 (L/d): 652:\n",
      "NaOH (L/d): 1426\n",
      "TP (mg-P/L): 18.66\n",
      "pH: 8.77\n"
     ]
    },
    {
     "name": "stderr",
     "output_type": "stream",
     "text": [
      "03:14:38.571: Steady State\n"
     ]
    },
    {
     "name": "stdout",
     "output_type": "stream",
     "text": [
      "FeCl3 (L/d): 1080:\n",
      "NaOH (L/d): 256\n",
      "TP (mg-P/L): 24.49\n",
      "pH: 2.29\n"
     ]
    },
    {
     "name": "stderr",
     "output_type": "stream",
     "text": [
      "03:15:24.793: Steady State\n"
     ]
    },
    {
     "name": "stdout",
     "output_type": "stream",
     "text": [
      "FeCl3 (L/d): 498:\n",
      "NaOH (L/d): 833\n",
      "TP (mg-P/L): 7.43\n",
      "pH: 7.52\n"
     ]
    },
    {
     "name": "stderr",
     "output_type": "stream",
     "text": [
      "03:16:11.180: Steady State\n"
     ]
    },
    {
     "name": "stdout",
     "output_type": "stream",
     "text": [
      "FeCl3 (L/d): 1128:\n",
      "NaOH (L/d): 1081\n",
      "TP (mg-P/L): 19.16\n",
      "pH: 2.73\n"
     ]
    },
    {
     "name": "stderr",
     "output_type": "stream",
     "text": [
      "03:16:59.274: Steady State\n"
     ]
    },
    {
     "name": "stdout",
     "output_type": "stream",
     "text": [
      "FeCl3 (L/d): 598:\n",
      "NaOH (L/d): 126\n",
      "TP (mg-P/L): 16.13\n",
      "pH: 2.94\n"
     ]
    },
    {
     "name": "stderr",
     "output_type": "stream",
     "text": [
      "03:17:47.675: Steady State\n"
     ]
    },
    {
     "name": "stdout",
     "output_type": "stream",
     "text": [
      "FeCl3 (L/d): 518:\n",
      "NaOH (L/d): 187\n",
      "TP (mg-P/L): 4.53\n",
      "pH: 5.28\n"
     ]
    },
    {
     "name": "stderr",
     "output_type": "stream",
     "text": [
      "03:18:36.026: Steady State\n"
     ]
    },
    {
     "name": "stdout",
     "output_type": "stream",
     "text": [
      "FeCl3 (L/d): 574:\n",
      "NaOH (L/d): 731\n",
      "TP (mg-P/L): 4.69\n",
      "pH: 6.73\n"
     ]
    },
    {
     "name": "stderr",
     "output_type": "stream",
     "text": [
      "03:19:24.331: Steady State\n"
     ]
    },
    {
     "name": "stdout",
     "output_type": "stream",
     "text": [
      "FeCl3 (L/d): 474:\n",
      "NaOH (L/d): 817\n",
      "TP (mg-P/L): 8.43\n",
      "pH: 7.67\n"
     ]
    },
    {
     "name": "stderr",
     "output_type": "stream",
     "text": [
      "03:20:12.900: Steady State\n"
     ]
    },
    {
     "name": "stdout",
     "output_type": "stream",
     "text": [
      "FeCl3 (L/d): 864:\n",
      "NaOH (L/d): 1675\n",
      "TP (mg-P/L): 8.49\n",
      "pH: 8.05\n"
     ]
    },
    {
     "name": "stderr",
     "output_type": "stream",
     "text": [
      "03:21:01.115: Steady State\n"
     ]
    },
    {
     "name": "stdout",
     "output_type": "stream",
     "text": [
      "FeCl3 (L/d): 1147:\n",
      "NaOH (L/d): 1101\n",
      "TP (mg-P/L): 19.65\n",
      "pH: 2.71\n"
     ]
    },
    {
     "name": "stderr",
     "output_type": "stream",
     "text": [
      "03:21:49.196: Steady State\n"
     ]
    },
    {
     "name": "stdout",
     "output_type": "stream",
     "text": [
      "FeCl3 (L/d): 1171:\n",
      "NaOH (L/d): 614\n",
      "TP (mg-P/L): 24.34\n",
      "pH: 2.36\n"
     ]
    },
    {
     "name": "stderr",
     "output_type": "stream",
     "text": [
      "03:22:37.348: Steady State\n"
     ]
    },
    {
     "name": "stdout",
     "output_type": "stream",
     "text": [
      "FeCl3 (L/d): 910:\n",
      "NaOH (L/d): 1382\n",
      "TP (mg-P/L): 3.79\n",
      "pH: 6.61\n"
     ]
    },
    {
     "name": "stderr",
     "output_type": "stream",
     "text": [
      "03:23:25.390: Steady State\n"
     ]
    },
    {
     "name": "stdout",
     "output_type": "stream",
     "text": [
      "FeCl3 (L/d): 1103:\n",
      "NaOH (L/d): 735\n",
      "TP (mg-P/L): 23.55\n",
      "pH: 2.49\n"
     ]
    },
    {
     "name": "stderr",
     "output_type": "stream",
     "text": [
      "03:24:13.310: Steady State\n"
     ]
    },
    {
     "name": "stdout",
     "output_type": "stream",
     "text": [
      "FeCl3 (L/d): 1177:\n",
      "NaOH (L/d): 497\n",
      "TP (mg-P/L): 24.46\n",
      "pH: 2.31\n"
     ]
    },
    {
     "name": "stderr",
     "output_type": "stream",
     "text": [
      "03:25:01.298: Steady State\n"
     ]
    },
    {
     "name": "stdout",
     "output_type": "stream",
     "text": [
      "FeCl3 (L/d): 451:\n",
      "NaOH (L/d): 1611\n",
      "TP (mg-P/L): 24.6\n",
      "pH: 10.41\n"
     ]
    },
    {
     "name": "stderr",
     "output_type": "stream",
     "text": [
      "03:25:51.570: Steady State\n"
     ]
    },
    {
     "name": "stdout",
     "output_type": "stream",
     "text": [
      "FeCl3 (L/d): 1153:\n",
      "NaOH (L/d): 825\n",
      "TP (mg-P/L): 23.61\n",
      "pH: 2.48\n"
     ]
    },
    {
     "name": "stderr",
     "output_type": "stream",
     "text": [
      "03:26:39.856: Steady State\n"
     ]
    },
    {
     "name": "stdout",
     "output_type": "stream",
     "text": [
      "FeCl3 (L/d): 850:\n",
      "NaOH (L/d): 1201\n",
      "TP (mg-P/L): 3.79\n",
      "pH: 6.49\n"
     ]
    },
    {
     "name": "stderr",
     "output_type": "stream",
     "text": [
      "03:27:29.840: Steady State\n"
     ]
    },
    {
     "name": "stdout",
     "output_type": "stream",
     "text": [
      "FeCl3 (L/d): 938:\n",
      "NaOH (L/d): 483\n",
      "TP (mg-P/L): 22.98\n",
      "pH: 2.55\n"
     ]
    },
    {
     "name": "stderr",
     "output_type": "stream",
     "text": [
      "03:28:17.746: Steady State\n"
     ]
    },
    {
     "name": "stdout",
     "output_type": "stream",
     "text": [
      "FeCl3 (L/d): 815:\n",
      "NaOH (L/d): 1564\n",
      "TP (mg-P/L): 8.23\n",
      "pH: 7.99\n"
     ]
    },
    {
     "name": "stderr",
     "output_type": "stream",
     "text": [
      "03:29:05.794: Steady State\n"
     ]
    },
    {
     "name": "stdout",
     "output_type": "stream",
     "text": [
      "FeCl3 (L/d): 1127:\n",
      "NaOH (L/d): 809\n",
      "TP (mg-P/L): 23.38\n",
      "pH: 2.51\n"
     ]
    },
    {
     "name": "stderr",
     "output_type": "stream",
     "text": [
      "03:29:53.813: Steady State\n"
     ]
    },
    {
     "name": "stdout",
     "output_type": "stream",
     "text": [
      "FeCl3 (L/d): 1024:\n",
      "NaOH (L/d): 235\n",
      "TP (mg-P/L): 24.43\n",
      "pH: 2.33\n"
     ]
    },
    {
     "name": "stderr",
     "output_type": "stream",
     "text": [
      "03:30:41.894: Steady State\n"
     ]
    },
    {
     "name": "stdout",
     "output_type": "stream",
     "text": [
      "FeCl3 (L/d): 982:\n",
      "NaOH (L/d): 758\n",
      "TP (mg-P/L): 19.97\n",
      "pH: 2.71\n"
     ]
    },
    {
     "name": "stderr",
     "output_type": "stream",
     "text": [
      "03:31:31.790: Steady State\n"
     ]
    },
    {
     "name": "stdout",
     "output_type": "stream",
     "text": [
      "FeCl3 (L/d): 461:\n",
      "NaOH (L/d): 1051\n",
      "TP (mg-P/L): 20.14\n",
      "pH: 8.83\n"
     ]
    },
    {
     "name": "stderr",
     "output_type": "stream",
     "text": [
      "03:32:21.696: Steady State\n"
     ]
    },
    {
     "name": "stdout",
     "output_type": "stream",
     "text": [
      "FeCl3 (L/d): 840:\n",
      "NaOH (L/d): 1178\n",
      "TP (mg-P/L): 3.8\n",
      "pH: 6.48\n"
     ]
    },
    {
     "name": "stderr",
     "output_type": "stream",
     "text": [
      "03:33:11.599: Steady State\n"
     ]
    },
    {
     "name": "stdout",
     "output_type": "stream",
     "text": [
      "FeCl3 (L/d): 431:\n",
      "NaOH (L/d): 1221\n",
      "TP (mg-P/L): 24.49\n",
      "pH: 9.68\n"
     ]
    },
    {
     "name": "stderr",
     "output_type": "stream",
     "text": [
      "03:34:03.553: Steady State\n"
     ]
    },
    {
     "name": "stdout",
     "output_type": "stream",
     "text": [
      "FeCl3 (L/d): 563:\n",
      "NaOH (L/d): 264\n",
      "TP (mg-P/L): 4.4\n",
      "pH: 5.07\n"
     ]
    },
    {
     "name": "stderr",
     "output_type": "stream",
     "text": [
      "03:34:53.542: Steady State\n"
     ]
    },
    {
     "name": "stdout",
     "output_type": "stream",
     "text": [
      "FeCl3 (L/d): 499:\n",
      "NaOH (L/d): 1616\n",
      "TP (mg-P/L): 24.6\n",
      "pH: 10.23\n"
     ]
    },
    {
     "name": "stderr",
     "output_type": "stream",
     "text": [
      "03:35:43.617: Steady State\n"
     ]
    },
    {
     "name": "stdout",
     "output_type": "stream",
     "text": [
      "FeCl3 (L/d): 1159:\n",
      "NaOH (L/d): 1649\n",
      "TP (mg-P/L): 3.44\n",
      "pH: 5.96\n"
     ]
    },
    {
     "name": "stderr",
     "output_type": "stream",
     "text": [
      "03:36:33.591: Steady State\n"
     ]
    },
    {
     "name": "stdout",
     "output_type": "stream",
     "text": [
      "FeCl3 (L/d): 601:\n",
      "NaOH (L/d): 577\n",
      "TP (mg-P/L): 4.22\n",
      "pH: 6.24\n"
     ]
    },
    {
     "name": "stderr",
     "output_type": "stream",
     "text": [
      "03:37:23.426: Steady State\n"
     ]
    },
    {
     "name": "stdout",
     "output_type": "stream",
     "text": [
      "FeCl3 (L/d): 469:\n",
      "NaOH (L/d): 450\n",
      "TP (mg-P/L): 5.21\n",
      "pH: 6.58\n"
     ]
    },
    {
     "name": "stderr",
     "output_type": "stream",
     "text": [
      "03:38:13.350: Steady State\n"
     ]
    },
    {
     "name": "stdout",
     "output_type": "stream",
     "text": [
      "FeCl3 (L/d): 993:\n",
      "NaOH (L/d): 1181\n",
      "TP (mg-P/L): 3.52\n",
      "pH: 5.31\n"
     ]
    },
    {
     "name": "stderr",
     "output_type": "stream",
     "text": [
      "03:39:03.202: Steady State\n"
     ]
    },
    {
     "name": "stdout",
     "output_type": "stream",
     "text": [
      "FeCl3 (L/d): 914:\n",
      "NaOH (L/d): 1334\n",
      "TP (mg-P/L): 3.72\n",
      "pH: 6.49\n"
     ]
    },
    {
     "name": "stderr",
     "output_type": "stream",
     "text": [
      "03:39:53.363: Steady State\n"
     ]
    },
    {
     "name": "stdout",
     "output_type": "stream",
     "text": [
      "FeCl3 (L/d): 856:\n",
      "NaOH (L/d): 640\n",
      "TP (mg-P/L): 15.69\n",
      "pH: 2.91\n"
     ]
    },
    {
     "name": "stderr",
     "output_type": "stream",
     "text": [
      "03:40:43.821: Steady State\n"
     ]
    },
    {
     "name": "stdout",
     "output_type": "stream",
     "text": [
      "FeCl3 (L/d): 452:\n",
      "NaOH (L/d): 759\n",
      "TP (mg-P/L): 8.3\n",
      "pH: 7.6\n"
     ]
    },
    {
     "name": "stderr",
     "output_type": "stream",
     "text": [
      "03:41:33.745: Steady State\n"
     ]
    },
    {
     "name": "stdout",
     "output_type": "stream",
     "text": [
      "FeCl3 (L/d): 713:\n",
      "NaOH (L/d): 88\n",
      "TP (mg-P/L): 22.45\n",
      "pH: 2.6\n"
     ]
    },
    {
     "name": "stderr",
     "output_type": "stream",
     "text": [
      "03:42:27.572: Steady State\n"
     ]
    },
    {
     "name": "stdout",
     "output_type": "stream",
     "text": [
      "FeCl3 (L/d): 483:\n",
      "NaOH (L/d): 869\n",
      "TP (mg-P/L): 9.39\n",
      "pH: 7.85\n"
     ]
    },
    {
     "name": "stderr",
     "output_type": "stream",
     "text": [
      "03:43:17.869: Steady State\n"
     ]
    },
    {
     "name": "stdout",
     "output_type": "stream",
     "text": [
      "FeCl3 (L/d): 808:\n",
      "NaOH (L/d): 1293\n",
      "TP (mg-P/L): 4.21\n",
      "pH: 6.92\n"
     ]
    },
    {
     "name": "stderr",
     "output_type": "stream",
     "text": [
      "03:44:07.848: Steady State\n"
     ]
    },
    {
     "name": "stdout",
     "output_type": "stream",
     "text": [
      "FeCl3 (L/d): 565:\n",
      "NaOH (L/d): 448\n",
      "TP (mg-P/L): 4.31\n",
      "pH: 6.1\n"
     ]
    },
    {
     "name": "stderr",
     "output_type": "stream",
     "text": [
      "03:44:57.650: Steady State\n"
     ]
    },
    {
     "name": "stdout",
     "output_type": "stream",
     "text": [
      "FeCl3 (L/d): 1127:\n",
      "NaOH (L/d): 726\n",
      "TP (mg-P/L): 23.84\n",
      "pH: 2.46\n"
     ]
    },
    {
     "name": "stderr",
     "output_type": "stream",
     "text": [
      "03:45:47.568: Steady State\n"
     ]
    },
    {
     "name": "stdout",
     "output_type": "stream",
     "text": [
      "FeCl3 (L/d): 612:\n",
      "NaOH (L/d): 1525\n",
      "TP (mg-P/L): 24.28\n",
      "pH: 9.43\n"
     ]
    },
    {
     "name": "stderr",
     "output_type": "stream",
     "text": [
      "03:46:39.513: Steady State\n"
     ]
    },
    {
     "name": "stdout",
     "output_type": "stream",
     "text": [
      "FeCl3 (L/d): 1170:\n",
      "NaOH (L/d): 1619\n",
      "TP (mg-P/L): 3.43\n",
      "pH: 5.75\n"
     ]
    },
    {
     "name": "stderr",
     "output_type": "stream",
     "text": [
      "03:47:29.358: Steady State\n"
     ]
    },
    {
     "name": "stdout",
     "output_type": "stream",
     "text": [
      "FeCl3 (L/d): 429:\n",
      "NaOH (L/d): 1303\n",
      "TP (mg-P/L): 24.56\n",
      "pH: 9.89\n"
     ]
    },
    {
     "name": "stderr",
     "output_type": "stream",
     "text": [
      "03:48:20.948: Steady State\n"
     ]
    },
    {
     "name": "stdout",
     "output_type": "stream",
     "text": [
      "FeCl3 (L/d): 557:\n",
      "NaOH (L/d): 1003\n",
      "TP (mg-P/L): 8.29\n",
      "pH: 7.78\n"
     ]
    },
    {
     "name": "stderr",
     "output_type": "stream",
     "text": [
      "03:49:13.056: Steady State\n"
     ]
    },
    {
     "name": "stdout",
     "output_type": "stream",
     "text": [
      "FeCl3 (L/d): 1034:\n",
      "NaOH (L/d): 606\n",
      "TP (mg-P/L): 23.5\n",
      "pH: 2.5\n",
      "FeCl3 (L/d): 1141:\n",
      "NaOH (L/d): 906\n",
      "TP (mg-P/L): 23.5\n",
      "pH: 2.5\n"
     ]
    },
    {
     "ename": "ImageNotFoundException",
     "evalue": "",
     "output_type": "error",
     "traceback": [
      "\u001b[1;31m---------------------------------------------------------------------------\u001b[0m",
      "\u001b[1;31mImageNotFoundException\u001b[0m                    Traceback (most recent call last)",
      "File \u001b[1;32mc:\\Users\\Usuario\\anaconda3\\envs\\data2\\Lib\\site-packages\\pyautogui\\__init__.py:172\u001b[0m, in \u001b[0;36mraisePyAutoGUIImageNotFoundException.<locals>.wrapper\u001b[1;34m(*args, **kwargs)\u001b[0m\n\u001b[0;32m    171\u001b[0m \u001b[38;5;28;01mtry\u001b[39;00m:\n\u001b[1;32m--> 172\u001b[0m     \u001b[38;5;28;01mreturn\u001b[39;00m \u001b[43mwrappedFunction\u001b[49m\u001b[43m(\u001b[49m\u001b[38;5;241;43m*\u001b[39;49m\u001b[43margs\u001b[49m\u001b[43m,\u001b[49m\u001b[43m \u001b[49m\u001b[38;5;241;43m*\u001b[39;49m\u001b[38;5;241;43m*\u001b[39;49m\u001b[43mkwargs\u001b[49m\u001b[43m)\u001b[49m\n\u001b[0;32m    173\u001b[0m \u001b[38;5;28;01mexcept\u001b[39;00m pyscreeze\u001b[38;5;241m.\u001b[39mImageNotFoundException:\n",
      "File \u001b[1;32mc:\\Users\\Usuario\\anaconda3\\envs\\data2\\Lib\\site-packages\\pyautogui\\__init__.py:204\u001b[0m, in \u001b[0;36mlocateCenterOnScreen\u001b[1;34m(*args, **kwargs)\u001b[0m\n\u001b[0;32m    202\u001b[0m \u001b[38;5;129m@raisePyAutoGUIImageNotFoundException\u001b[39m\n\u001b[0;32m    203\u001b[0m \u001b[38;5;28;01mdef\u001b[39;00m \u001b[38;5;21mlocateCenterOnScreen\u001b[39m(\u001b[38;5;241m*\u001b[39margs, \u001b[38;5;241m*\u001b[39m\u001b[38;5;241m*\u001b[39mkwargs):\n\u001b[1;32m--> 204\u001b[0m     \u001b[38;5;28;01mreturn\u001b[39;00m \u001b[43mpyscreeze\u001b[49m\u001b[38;5;241;43m.\u001b[39;49m\u001b[43mlocateCenterOnScreen\u001b[49m\u001b[43m(\u001b[49m\u001b[38;5;241;43m*\u001b[39;49m\u001b[43margs\u001b[49m\u001b[43m,\u001b[49m\u001b[43m \u001b[49m\u001b[38;5;241;43m*\u001b[39;49m\u001b[38;5;241;43m*\u001b[39;49m\u001b[43mkwargs\u001b[49m\u001b[43m)\u001b[49m\n",
      "File \u001b[1;32mc:\\Users\\Usuario\\anaconda3\\envs\\data2\\Lib\\site-packages\\pyscreeze\\__init__.py:447\u001b[0m, in \u001b[0;36mlocateCenterOnScreen\u001b[1;34m(image, **kwargs)\u001b[0m\n\u001b[0;32m    444\u001b[0m \u001b[38;5;250m\u001b[39m\u001b[38;5;124;03m\"\"\"\u001b[39;00m\n\u001b[0;32m    445\u001b[0m \u001b[38;5;124;03mTODO\u001b[39;00m\n\u001b[0;32m    446\u001b[0m \u001b[38;5;124;03m\"\"\"\u001b[39;00m\n\u001b[1;32m--> 447\u001b[0m coords \u001b[38;5;241m=\u001b[39m \u001b[43mlocateOnScreen\u001b[49m\u001b[43m(\u001b[49m\u001b[43mimage\u001b[49m\u001b[43m,\u001b[49m\u001b[43m \u001b[49m\u001b[38;5;241;43m*\u001b[39;49m\u001b[38;5;241;43m*\u001b[39;49m\u001b[43mkwargs\u001b[49m\u001b[43m)\u001b[49m\n\u001b[0;32m    448\u001b[0m \u001b[38;5;28;01mif\u001b[39;00m coords \u001b[38;5;129;01mis\u001b[39;00m \u001b[38;5;28;01mNone\u001b[39;00m:\n",
      "File \u001b[1;32mc:\\Users\\Usuario\\anaconda3\\envs\\data2\\Lib\\site-packages\\pyscreeze\\__init__.py:405\u001b[0m, in \u001b[0;36mlocateOnScreen\u001b[1;34m(image, minSearchTime, **kwargs)\u001b[0m\n\u001b[0;32m    404\u001b[0m screenshotIm \u001b[38;5;241m=\u001b[39m screenshot(region\u001b[38;5;241m=\u001b[39m\u001b[38;5;28;01mNone\u001b[39;00m)\n\u001b[1;32m--> 405\u001b[0m retVal \u001b[38;5;241m=\u001b[39m \u001b[43mlocate\u001b[49m\u001b[43m(\u001b[49m\u001b[43mimage\u001b[49m\u001b[43m,\u001b[49m\u001b[43m \u001b[49m\u001b[43mscreenshotIm\u001b[49m\u001b[43m,\u001b[49m\u001b[43m \u001b[49m\u001b[38;5;241;43m*\u001b[39;49m\u001b[38;5;241;43m*\u001b[39;49m\u001b[43mkwargs\u001b[49m\u001b[43m)\u001b[49m\n\u001b[0;32m    406\u001b[0m \u001b[38;5;28;01mtry\u001b[39;00m:\n",
      "File \u001b[1;32mc:\\Users\\Usuario\\anaconda3\\envs\\data2\\Lib\\site-packages\\pyscreeze\\__init__.py:383\u001b[0m, in \u001b[0;36mlocate\u001b[1;34m(needleImage, haystackImage, **kwargs)\u001b[0m\n\u001b[0;32m    382\u001b[0m kwargs[\u001b[38;5;124m'\u001b[39m\u001b[38;5;124mlimit\u001b[39m\u001b[38;5;124m'\u001b[39m] \u001b[38;5;241m=\u001b[39m \u001b[38;5;241m1\u001b[39m\n\u001b[1;32m--> 383\u001b[0m points \u001b[38;5;241m=\u001b[39m \u001b[38;5;28;43mtuple\u001b[39;49m\u001b[43m(\u001b[49m\u001b[43mlocateAll\u001b[49m\u001b[43m(\u001b[49m\u001b[43mneedleImage\u001b[49m\u001b[43m,\u001b[49m\u001b[43m \u001b[49m\u001b[43mhaystackImage\u001b[49m\u001b[43m,\u001b[49m\u001b[43m \u001b[49m\u001b[38;5;241;43m*\u001b[39;49m\u001b[38;5;241;43m*\u001b[39;49m\u001b[43mkwargs\u001b[49m\u001b[43m)\u001b[49m\u001b[43m)\u001b[49m\n\u001b[0;32m    384\u001b[0m \u001b[38;5;28;01mif\u001b[39;00m \u001b[38;5;28mlen\u001b[39m(points) \u001b[38;5;241m>\u001b[39m \u001b[38;5;241m0\u001b[39m:\n",
      "File \u001b[1;32mc:\\Users\\Usuario\\anaconda3\\envs\\data2\\Lib\\site-packages\\pyscreeze\\__init__.py:257\u001b[0m, in \u001b[0;36m_locateAll_opencv\u001b[1;34m(needleImage, haystackImage, grayscale, limit, region, step, confidence)\u001b[0m\n\u001b[0;32m    256\u001b[0m \u001b[38;5;28;01mif\u001b[39;00m USE_IMAGE_NOT_FOUND_EXCEPTION:\n\u001b[1;32m--> 257\u001b[0m     \u001b[38;5;28;01mraise\u001b[39;00m ImageNotFoundException(\u001b[38;5;124m'\u001b[39m\u001b[38;5;124mCould not locate the image (highest confidence = \u001b[39m\u001b[38;5;132;01m%.3f\u001b[39;00m\u001b[38;5;124m)\u001b[39m\u001b[38;5;124m'\u001b[39m \u001b[38;5;241m%\u001b[39m result\u001b[38;5;241m.\u001b[39mmax())\n\u001b[0;32m    258\u001b[0m \u001b[38;5;28;01melse\u001b[39;00m:\n",
      "\u001b[1;31mImageNotFoundException\u001b[0m: Could not locate the image (highest confidence = 0.436)",
      "\nDuring handling of the above exception, another exception occurred:\n",
      "\u001b[1;31mImageNotFoundException\u001b[0m                    Traceback (most recent call last)",
      "Cell \u001b[1;32mIn[8], line 7\u001b[0m\n\u001b[0;32m      5\u001b[0m y_2\u001b[38;5;241m=\u001b[39mnp\u001b[38;5;241m.\u001b[39mrandom\u001b[38;5;241m.\u001b[39mrandint(\u001b[38;5;241m0\u001b[39m, \u001b[38;5;241m1750\u001b[39m, n_puntos)\n\u001b[0;32m      6\u001b[0m \u001b[38;5;28;01mfor\u001b[39;00m n \u001b[38;5;129;01min\u001b[39;00m \u001b[38;5;28mrange\u001b[39m(n_puntos):\n\u001b[1;32m----> 7\u001b[0m     \u001b[43mload_FeCl3\u001b[49m\u001b[43m(\u001b[49m\u001b[43mx_2\u001b[49m\u001b[43m[\u001b[49m\u001b[43mn\u001b[49m\u001b[43m]\u001b[49m\u001b[43m)\u001b[49m\n\u001b[0;32m      8\u001b[0m     load_influent_state_variable(y_2[n])\n\u001b[0;32m      9\u001b[0m     time\u001b[38;5;241m.\u001b[39msleep(\u001b[38;5;241m1\u001b[39m)\n",
      "Cell \u001b[1;32mIn[4], line 2\u001b[0m, in \u001b[0;36mload_FeCl3\u001b[1;34m(flow)\u001b[0m\n\u001b[0;32m      1\u001b[0m \u001b[38;5;28;01mdef\u001b[39;00m \u001b[38;5;21mload_FeCl3\u001b[39m (flow):\n\u001b[1;32m----> 2\u001b[0m     pyautogui\u001b[38;5;241m.\u001b[39mdoubleClick(\u001b[43mpyautogui\u001b[49m\u001b[38;5;241;43m.\u001b[39;49m\u001b[43mlocateCenterOnScreen\u001b[49m\u001b[43m(\u001b[49m\u001b[38;5;124;43m'\u001b[39;49m\u001b[38;5;124;43mFeCl3.PNG\u001b[39;49m\u001b[38;5;124;43m'\u001b[39;49m\u001b[43m,\u001b[49m\u001b[43mconfidence\u001b[49m\u001b[38;5;241;43m=\u001b[39;49m\u001b[38;5;241;43m0.7\u001b[39;49m\u001b[43m,\u001b[49m\u001b[43m \u001b[49m\u001b[43mgrayscale\u001b[49m\u001b[38;5;241;43m=\u001b[39;49m\u001b[38;5;28;43;01mTrue\u001b[39;49;00m\u001b[43m)\u001b[49m)\n\u001b[0;32m      3\u001b[0m     time\u001b[38;5;241m.\u001b[39msleep(\u001b[38;5;241m2\u001b[39m)\n\u001b[0;32m      4\u001b[0m     pyautogui\u001b[38;5;241m.\u001b[39mclick(pyautogui\u001b[38;5;241m.\u001b[39mlocateCenterOnScreen(\u001b[38;5;124m'\u001b[39m\u001b[38;5;124medit.PNG\u001b[39m\u001b[38;5;124m'\u001b[39m,confidence\u001b[38;5;241m=\u001b[39m\u001b[38;5;241m0.7\u001b[39m, grayscale\u001b[38;5;241m=\u001b[39m\u001b[38;5;28;01mTrue\u001b[39;00m))\n",
      "File \u001b[1;32mc:\\Users\\Usuario\\anaconda3\\envs\\data2\\Lib\\site-packages\\pyautogui\\__init__.py:174\u001b[0m, in \u001b[0;36mraisePyAutoGUIImageNotFoundException.<locals>.wrapper\u001b[1;34m(*args, **kwargs)\u001b[0m\n\u001b[0;32m    172\u001b[0m     \u001b[38;5;28;01mreturn\u001b[39;00m wrappedFunction(\u001b[38;5;241m*\u001b[39margs, \u001b[38;5;241m*\u001b[39m\u001b[38;5;241m*\u001b[39mkwargs)\n\u001b[0;32m    173\u001b[0m \u001b[38;5;28;01mexcept\u001b[39;00m pyscreeze\u001b[38;5;241m.\u001b[39mImageNotFoundException:\n\u001b[1;32m--> 174\u001b[0m     \u001b[38;5;28;01mraise\u001b[39;00m ImageNotFoundException\n",
      "\u001b[1;31mImageNotFoundException\u001b[0m: "
     ]
    }
   ],
   "source": [
    "results=pd.DataFrame([])\n",
    "\n",
    "for n in range(n_points):\n",
    "    #Load chemical flows \n",
    "    load_FeCl3(x[n])\n",
    "    time.sleep(0.5)\n",
    "    load_influent_state_variable(y[n])\n",
    "    time.sleep(1)\n",
    "    \n",
    "    #Run steady state simulation\n",
    "    Bio2Py.steady_state('None', 'current',60) \n",
    "    \n",
    "    #Save results\n",
    "    time.sleep(1)\n",
    "    Bio2Py.save_results('table','P',0,filepath)\n",
    "    effluent=pd.read_csv('P_0.csv')\n",
    "    TP_effluent=effluent.iloc[0,1]\n",
    "    pH_effluent=effluent.iloc[0,3]\n",
    "    results_iteration=effluent\n",
    "    results_iteration['FeCl3(L/d)']=x[n]\n",
    "    results_iteration['NaOH(L/d)']=y[n]\n",
    "    results = pd.concat([results, results_iteration], axis=0)\n",
    "    \n",
    "    print(f'FeCl3 (L/d): {x[n]}:')\n",
    "    print(f'NaOH (L/d): {y[n]}')\n",
    "    print(f'TP (mg-P/L): {TP_effluent}')\n",
    "    print(f'pH: {pH_effluent}')\n",
    "    \n",
    "    time.sleep(1)"
   ]
  },
  {
   "cell_type": "code",
   "execution_count": null,
   "metadata": {},
   "outputs": [],
   "source": [
    "#results.to_csv('results_1.csv', index=False)"
   ]
  },
  {
   "cell_type": "markdown",
   "metadata": {},
   "source": [
    "## If the user prefers not to execute all iterations, they have the option to load our results instead:"
   ]
  },
  {
   "cell_type": "code",
   "execution_count": 11,
   "metadata": {},
   "outputs": [
    {
     "data": {
      "text/html": [
       "<div>\n",
       "<style scoped>\n",
       "    .dataframe tbody tr th:only-of-type {\n",
       "        vertical-align: middle;\n",
       "    }\n",
       "\n",
       "    .dataframe tbody tr th {\n",
       "        vertical-align: top;\n",
       "    }\n",
       "\n",
       "    .dataframe thead th {\n",
       "        text-align: right;\n",
       "    }\n",
       "</style>\n",
       "<table border=\"1\" class=\"dataframe\">\n",
       "  <thead>\n",
       "    <tr style=\"text-align: right;\">\n",
       "      <th></th>\n",
       "      <th>Elements</th>\n",
       "      <th>P - Total P [mgP/L]</th>\n",
       "      <th>P - Soluble PO4-P [mgP/L]</th>\n",
       "      <th>pH []</th>\n",
       "      <th>COD - Total [mg/L]</th>\n",
       "      <th>N - Total Kjeldahl Nitrogen [mgN/L]</th>\n",
       "      <th>Total suspended solids [mg/L]</th>\n",
       "      <th>FeCl3(L/d)</th>\n",
       "      <th>NaOH(L/d)</th>\n",
       "    </tr>\n",
       "  </thead>\n",
       "  <tbody>\n",
       "    <tr>\n",
       "      <th>0</th>\n",
       "      <td>Effluent</td>\n",
       "      <td>4.96</td>\n",
       "      <td>2.14</td>\n",
       "      <td>6.96</td>\n",
       "      <td>56.33</td>\n",
       "      <td>3.07</td>\n",
       "      <td>54.82</td>\n",
       "      <td>944</td>\n",
       "      <td>1600</td>\n",
       "    </tr>\n",
       "    <tr>\n",
       "      <th>1</th>\n",
       "      <td>Effluent</td>\n",
       "      <td>4.58</td>\n",
       "      <td>1.72</td>\n",
       "      <td>5.72</td>\n",
       "      <td>56.33</td>\n",
       "      <td>3.07</td>\n",
       "      <td>44.98</td>\n",
       "      <td>680</td>\n",
       "      <td>589</td>\n",
       "    </tr>\n",
       "    <tr>\n",
       "      <th>2</th>\n",
       "      <td>Effluent</td>\n",
       "      <td>6.23</td>\n",
       "      <td>3.56</td>\n",
       "      <td>3.30</td>\n",
       "      <td>56.33</td>\n",
       "      <td>3.07</td>\n",
       "      <td>55.79</td>\n",
       "      <td>979</td>\n",
       "      <td>1006</td>\n",
       "    </tr>\n",
       "    <tr>\n",
       "      <th>3</th>\n",
       "      <td>Effluent</td>\n",
       "      <td>14.96</td>\n",
       "      <td>13.28</td>\n",
       "      <td>2.64</td>\n",
       "      <td>56.33</td>\n",
       "      <td>3.07</td>\n",
       "      <td>47.62</td>\n",
       "      <td>841</td>\n",
       "      <td>357</td>\n",
       "    </tr>\n",
       "    <tr>\n",
       "      <th>4</th>\n",
       "      <td>Effluent</td>\n",
       "      <td>24.56</td>\n",
       "      <td>23.96</td>\n",
       "      <td>9.62</td>\n",
       "      <td>56.33</td>\n",
       "      <td>3.07</td>\n",
       "      <td>35.91</td>\n",
       "      <td>626</td>\n",
       "      <td>1616</td>\n",
       "    </tr>\n",
       "    <tr>\n",
       "      <th>...</th>\n",
       "      <td>...</td>\n",
       "      <td>...</td>\n",
       "      <td>...</td>\n",
       "      <td>...</td>\n",
       "      <td>...</td>\n",
       "      <td>...</td>\n",
       "      <td>...</td>\n",
       "      <td>...</td>\n",
       "      <td>...</td>\n",
       "    </tr>\n",
       "    <tr>\n",
       "      <th>365</th>\n",
       "      <td>Effluent</td>\n",
       "      <td>5.84</td>\n",
       "      <td>3.12</td>\n",
       "      <td>7.01</td>\n",
       "      <td>56.33</td>\n",
       "      <td>3.07</td>\n",
       "      <td>44.54</td>\n",
       "      <td>680</td>\n",
       "      <td>1072</td>\n",
       "    </tr>\n",
       "    <tr>\n",
       "      <th>366</th>\n",
       "      <td>Effluent</td>\n",
       "      <td>11.55</td>\n",
       "      <td>9.48</td>\n",
       "      <td>2.78</td>\n",
       "      <td>56.33</td>\n",
       "      <td>3.07</td>\n",
       "      <td>60.03</td>\n",
       "      <td>1137</td>\n",
       "      <td>1101</td>\n",
       "    </tr>\n",
       "    <tr>\n",
       "      <th>367</th>\n",
       "      <td>Effluent</td>\n",
       "      <td>4.09</td>\n",
       "      <td>1.18</td>\n",
       "      <td>5.98</td>\n",
       "      <td>56.33</td>\n",
       "      <td>3.07</td>\n",
       "      <td>55.31</td>\n",
       "      <td>949</td>\n",
       "      <td>1218</td>\n",
       "    </tr>\n",
       "    <tr>\n",
       "      <th>368</th>\n",
       "      <td>Effluent</td>\n",
       "      <td>19.61</td>\n",
       "      <td>18.45</td>\n",
       "      <td>2.41</td>\n",
       "      <td>56.33</td>\n",
       "      <td>3.07</td>\n",
       "      <td>46.18</td>\n",
       "      <td>845</td>\n",
       "      <td>32</td>\n",
       "    </tr>\n",
       "    <tr>\n",
       "      <th>369</th>\n",
       "      <td>Effluent</td>\n",
       "      <td>4.57</td>\n",
       "      <td>1.71</td>\n",
       "      <td>3.85</td>\n",
       "      <td>56.33</td>\n",
       "      <td>3.07</td>\n",
       "      <td>57.23</td>\n",
       "      <td>1003</td>\n",
       "      <td>1130</td>\n",
       "    </tr>\n",
       "  </tbody>\n",
       "</table>\n",
       "<p>370 rows × 9 columns</p>\n",
       "</div>"
      ],
      "text/plain": [
       "     Elements  P - Total P [mgP/L]  P - Soluble PO4-P [mgP/L]  pH []  \\\n",
       "0    Effluent                 4.96                       2.14   6.96   \n",
       "1    Effluent                 4.58                       1.72   5.72   \n",
       "2    Effluent                 6.23                       3.56   3.30   \n",
       "3    Effluent                14.96                      13.28   2.64   \n",
       "4    Effluent                24.56                      23.96   9.62   \n",
       "..        ...                  ...                        ...    ...   \n",
       "365  Effluent                 5.84                       3.12   7.01   \n",
       "366  Effluent                11.55                       9.48   2.78   \n",
       "367  Effluent                 4.09                       1.18   5.98   \n",
       "368  Effluent                19.61                      18.45   2.41   \n",
       "369  Effluent                 4.57                       1.71   3.85   \n",
       "\n",
       "     COD - Total [mg/L]  N - Total Kjeldahl Nitrogen [mgN/L]  \\\n",
       "0                 56.33                                 3.07   \n",
       "1                 56.33                                 3.07   \n",
       "2                 56.33                                 3.07   \n",
       "3                 56.33                                 3.07   \n",
       "4                 56.33                                 3.07   \n",
       "..                  ...                                  ...   \n",
       "365               56.33                                 3.07   \n",
       "366               56.33                                 3.07   \n",
       "367               56.33                                 3.07   \n",
       "368               56.33                                 3.07   \n",
       "369               56.33                                 3.07   \n",
       "\n",
       "     Total suspended solids [mg/L]  FeCl3(L/d)  NaOH(L/d)  \n",
       "0                            54.82         944       1600  \n",
       "1                            44.98         680        589  \n",
       "2                            55.79         979       1006  \n",
       "3                            47.62         841        357  \n",
       "4                            35.91         626       1616  \n",
       "..                             ...         ...        ...  \n",
       "365                          44.54         680       1072  \n",
       "366                          60.03        1137       1101  \n",
       "367                          55.31         949       1218  \n",
       "368                          46.18         845         32  \n",
       "369                          57.23        1003       1130  \n",
       "\n",
       "[370 rows x 9 columns]"
      ]
     },
     "execution_count": 11,
     "metadata": {},
     "output_type": "execute_result"
    }
   ],
   "source": [
    "results=pd.read_csv('results_1.csv')\n",
    "results"
   ]
  },
  {
   "cell_type": "markdown",
   "metadata": {},
   "source": [
    "## Plotting the results"
   ]
  },
  {
   "cell_type": "code",
   "execution_count": 14,
   "metadata": {},
   "outputs": [
    {
     "data": {
      "application/vnd.plotly.v1+json": {
       "config": {
        "plotlyServerURL": "https://plot.ly"
       },
       "data": [
        {
         "marker": {
          "size": 5
         },
         "mode": "markers",
         "type": "scatter3d",
         "x": [
          944,
          680,
          979,
          841,
          626,
          447,
          978,
          1087,
          406,
          849,
          714,
          876,
          603,
          850,
          664,
          1141,
          965,
          1174,
          852,
          814,
          691,
          798,
          1084,
          845,
          705,
          1162,
          848,
          749,
          1164,
          1097,
          672,
          444,
          606,
          1000,
          959,
          706,
          977,
          407,
          925,
          709,
          1080,
          481,
          585,
          1132,
          802,
          512,
          991,
          606,
          1006,
          899,
          781,
          427,
          786,
          1167,
          998,
          1195,
          1112,
          715,
          476,
          573,
          1105,
          810,
          477,
          1070,
          849,
          781,
          553,
          585,
          865,
          1192,
          753,
          1166,
          1148,
          1164,
          546,
          630,
          973,
          1172,
          450,
          602,
          1003,
          721,
          608,
          481,
          857,
          611,
          761,
          1087,
          1189,
          501,
          878,
          1063,
          1005,
          664,
          927,
          1145,
          491,
          1057,
          593,
          559,
          426,
          898,
          1115,
          840,
          517,
          411,
          959,
          797,
          848,
          463,
          484,
          670,
          1151,
          886,
          1158,
          559,
          822,
          647,
          526,
          684,
          754,
          501,
          500,
          480,
          828,
          719,
          873,
          943,
          806,
          1017,
          461,
          640,
          912,
          825,
          452,
          1094,
          944,
          890,
          401,
          1043,
          646,
          725,
          952,
          647,
          782,
          1102,
          491,
          400,
          863,
          976,
          794,
          609,
          737,
          749,
          936,
          1170,
          603,
          834,
          698,
          599,
          558,
          603,
          1019,
          707,
          715,
          1121,
          419,
          901,
          937,
          934,
          402,
          466,
          1197,
          560,
          1105,
          808,
          661,
          859,
          1149,
          468,
          1161,
          502,
          431,
          1072,
          775,
          672,
          682,
          716,
          469,
          716,
          1097,
          638,
          733,
          622,
          604,
          1000,
          980,
          951,
          697,
          778,
          623,
          897,
          892,
          854,
          747,
          550,
          777,
          946,
          1072,
          730,
          905,
          1196,
          729,
          1033,
          1146,
          495,
          883,
          1074,
          851,
          486,
          902,
          468,
          832,
          1090,
          420,
          927,
          1011,
          747,
          933,
          839,
          619,
          1182,
          491,
          1160,
          787,
          937,
          896,
          975,
          929,
          705,
          500,
          792,
          407,
          680,
          1172,
          728,
          909,
          443,
          993,
          652,
          576,
          867,
          739,
          814,
          1110,
          940,
          549,
          1169,
          964,
          1038,
          700,
          1071,
          577,
          802,
          741,
          753,
          609,
          455,
          1187,
          952,
          724,
          789,
          1079,
          1126,
          816,
          627,
          419,
          1007,
          752,
          747,
          761,
          747,
          829,
          586,
          980,
          1156,
          1070,
          465,
          565,
          997,
          543,
          629,
          496,
          583,
          510,
          1174,
          575,
          694,
          660,
          553,
          410,
          808,
          443,
          931,
          1042,
          1133,
          751,
          552,
          762,
          1149,
          638,
          662,
          1141,
          487,
          1038,
          683,
          830,
          981,
          777,
          794,
          771,
          1159,
          974,
          612,
          621,
          788,
          837,
          1089,
          1093,
          486,
          826,
          1002,
          769,
          517,
          925,
          932,
          498,
          942,
          766,
          442,
          1129,
          726,
          966,
          605,
          711,
          1124,
          992,
          780,
          1150,
          918,
          915,
          732,
          499,
          961,
          546,
          1172,
          939,
          951,
          826,
          579,
          1111,
          1056,
          1067,
          1001,
          1081,
          680,
          1137,
          949,
          845,
          1003
         ],
         "y": [
          1600,
          589,
          1006,
          357,
          1616,
          759,
          1143,
          7,
          661,
          1553,
          482,
          341,
          842,
          249,
          1002,
          1119,
          1467,
          367,
          1537,
          1748,
          1644,
          537,
          1014,
          586,
          645,
          1524,
          763,
          959,
          1425,
          523,
          1154,
          1540,
          580,
          542,
          740,
          475,
          1638,
          777,
          1158,
          1273,
          1347,
          1376,
          1632,
          600,
          1000,
          1056,
          1331,
          23,
          1133,
          1728,
          112,
          1193,
          1349,
          1195,
          1098,
          730,
          384,
          57,
          946,
          1051,
          280,
          958,
          772,
          46,
          861,
          33,
          700,
          1562,
          1059,
          1720,
          344,
          661,
          1387,
          1640,
          272,
          888,
          889,
          72,
          335,
          792,
          266,
          97,
          125,
          1728,
          101,
          1388,
          357,
          1504,
          346,
          148,
          304,
          1093,
          1564,
          1160,
          44,
          593,
          468,
          1717,
          497,
          1216,
          1437,
          648,
          833,
          1060,
          405,
          455,
          605,
          654,
          1463,
          392,
          320,
          842,
          1024,
          1192,
          448,
          915,
          1383,
          1669,
          1006,
          754,
          207,
          1532,
          718,
          1505,
          918,
          496,
          856,
          482,
          223,
          632,
          1444,
          207,
          590,
          688,
          267,
          668,
          583,
          794,
          190,
          1435,
          1273,
          200,
          1067,
          221,
          1558,
          723,
          692,
          172,
          1394,
          656,
          1299,
          949,
          1208,
          161,
          1640,
          981,
          707,
          1071,
          219,
          1721,
          1361,
          763,
          737,
          1170,
          1236,
          839,
          534,
          1727,
          284,
          230,
          1017,
          756,
          311,
          1500,
          414,
          328,
          188,
          292,
          1085,
          1464,
          1427,
          1436,
          1602,
          736,
          1637,
          893,
          750,
          165,
          805,
          746,
          1614,
          677,
          744,
          153,
          1621,
          425,
          1608,
          1724,
          1097,
          129,
          479,
          1190,
          304,
          1161,
          1420,
          422,
          886,
          780,
          377,
          390,
          1616,
          1019,
          986,
          1241,
          1036,
          1718,
          258,
          1728,
          1413,
          442,
          1252,
          387,
          977,
          587,
          1022,
          978,
          420,
          1521,
          997,
          477,
          815,
          1339,
          801,
          827,
          458,
          1569,
          1342,
          489,
          638,
          1290,
          718,
          1095,
          932,
          176,
          243,
          1139,
          366,
          1165,
          1241,
          546,
          1320,
          597,
          1265,
          138,
          297,
          204,
          635,
          1596,
          1570,
          1166,
          497,
          585,
          1232,
          342,
          47,
          1124,
          1092,
          699,
          856,
          1126,
          1012,
          399,
          289,
          1112,
          99,
          682,
          1725,
          1522,
          945,
          1267,
          648,
          8,
          1681,
          1412,
          1228,
          359,
          1509,
          1580,
          393,
          1336,
          196,
          856,
          1093,
          1558,
          952,
          1025,
          1436,
          1407,
          1062,
          1605,
          1187,
          85,
          563,
          712,
          440,
          977,
          1247,
          1667,
          1031,
          1644,
          1188,
          1361,
          1072,
          177,
          543,
          1672,
          673,
          586,
          643,
          873,
          1702,
          504,
          618,
          746,
          347,
          635,
          163,
          702,
          1529,
          1075,
          1551,
          1274,
          1026,
          1244,
          1242,
          1240,
          994,
          1690,
          1197,
          1670,
          1018,
          924,
          1653,
          933,
          391,
          1354,
          119,
          889,
          885,
          310,
          967,
          1418,
          812,
          43,
          1398,
          243,
          113,
          1308,
          488,
          1320,
          452,
          113,
          83,
          1605,
          468,
          1072,
          1101,
          1218,
          32,
          1130
         ],
         "z": [
          4.96,
          4.58,
          6.23,
          14.96,
          24.56,
          9.96,
          4,
          23.06,
          10.08,
          6.95,
          6.47,
          16.33,
          5.78,
          16.98,
          5.66,
          11.33,
          4.33,
          22.13,
          6.51,
          18.66,
          24.36,
          9.3,
          11.16,
          10.33,
          4.5,
          3.85,
          5.86,
          4.64,
          5.12,
          19.57,
          6.99,
          24.6,
          5.03,
          16.9,
          11.84,
          6.25,
          4.74,
          13.53,
          4.11,
          7.65,
          3.92,
          24.58,
          24.59,
          19.48,
          4.41,
          15.87,
          4.06,
          13.14,
          4.62,
          8.83,
          17.09,
          24.56,
          5.98,
          10.77,
          4.99,
          19.41,
          21.16,
          16.07,
          14.29,
          9.96,
          21.82,
          4.33,
          8.65,
          22.75,
          4.21,
          18.17,
          5.91,
          24.58,
          4.22,
          3.87,
          11.94,
          19.54,
          5.24,
          3.88,
          5.18,
          5.59,
          8.94,
          23.41,
          6.36,
          5.57,
          20.32,
          15.59,
          10.9,
          24.6,
          19.1,
          22.21,
          11.99,
          3.95,
          22.42,
          5.56,
          16.96,
          8.25,
          4.31,
          7.43,
          20.99,
          19.82,
          6.06,
          4.34,
          5.02,
          19,
          24.6,
          11.26,
          15.85,
          4.31,
          5.59,
          7.58,
          14.55,
          6.11,
          5.64,
          6.29,
          5.85,
          4.99,
          13.71,
          4.28,
          21.36,
          7.55,
          5.48,
          24.57,
          12.15,
          4.73,
          14.74,
          24.59,
          7.13,
          24.6,
          4.23,
          6.34,
          4.86,
          16.13,
          16.11,
          16.01,
          24.59,
          10.27,
          13.1,
          6.64,
          6.2,
          17.71,
          14.43,
          7.18,
          6.92,
          4,
          12.47,
          13.87,
          4.1,
          10.23,
          12.22,
          17.15,
          7.15,
          6.9,
          4.92,
          14.22,
          5.37,
          6.39,
          5.76,
          15.38,
          5.38,
          15.17,
          5.3,
          4.35,
          12.47,
          24.59,
          24.34,
          5.46,
          14.26,
          6.1,
          6.69,
          15.94,
          7.88,
          8.64,
          18.74,
          19.31,
          24.21,
          8.88,
          22.67,
          24.57,
          20.79,
          14.36,
          11.66,
          16.59,
          12.4,
          24.59,
          4.96,
          24.59,
          24.6,
          16.06,
          17.09,
          5.1,
          4.73,
          14.22,
          9.77,
          4.54,
          4.01,
          4.93,
          4.46,
          10.82,
          24.58,
          18.5,
          4.59,
          5.97,
          5.69,
          16.75,
          4.8,
          4.23,
          17.34,
          4.38,
          9.53,
          5.28,
          4.4,
          10.34,
          20.54,
          9.8,
          5.9,
          15.4,
          4.84,
          3.99,
          13.28,
          24.6,
          17.74,
          4.27,
          5.19,
          6.07,
          4.29,
          6.2,
          4.26,
          18.67,
          23.61,
          4.58,
          18.83,
          14.07,
          4.46,
          12.56,
          5.44,
          8.02,
          8.53,
          17.29,
          10.77,
          4.88,
          4.47,
          16.97,
          12.79,
          8.31,
          7.13,
          4.62,
          20.96,
          12.69,
          22.76,
          5.43,
          16.91,
          24.5,
          3.99,
          4.69,
          22.47,
          11.07,
          6.31,
          17.6,
          21.77,
          19.72,
          5.73,
          3.85,
          4.6,
          5.24,
          5.39,
          18.22,
          17.83,
          13.89,
          16.95,
          5.03,
          8.77,
          8.42,
          17.63,
          4.03,
          4.95,
          12.21,
          21.4,
          10.82,
          18.17,
          5.02,
          24.6,
          4.22,
          4.6,
          6.1,
          4.68,
          17.66,
          13.36,
          24.29,
          4.02,
          21.96,
          3.99,
          24.6,
          5.12,
          4.05,
          5.74,
          5.46,
          19.55,
          24.58,
          11.41,
          14.53,
          24.49,
          14,
          6.2,
          24.59,
          24.57,
          18.16,
          7.43,
          11.25,
          19.3,
          13.93,
          5.79,
          24.6,
          4.69,
          3.91,
          9.73,
          15.13,
          12.35,
          5.64,
          17.93,
          24.51,
          7.3,
          15.62,
          5.43,
          4.32,
          21.06,
          20.93,
          14.84,
          5.3,
          5.46,
          6.16,
          17.85,
          17.09,
          3.95,
          19.72,
          8.18,
          3.99,
          4.63,
          24.01,
          4.18,
          4.16,
          14.31,
          5.78,
          5.19,
          24.6,
          12.97,
          4.73,
          4.96,
          6.35,
          8.84,
          4.92,
          21.4,
          4.39,
          16.12,
          17.95,
          4.38,
          10.72,
          8.36,
          21.52,
          24.53,
          22.76,
          20.6,
          4.16,
          11.78,
          22.18,
          20.56,
          22.27,
          22.54,
          4.42,
          19.82,
          5.84,
          11.55,
          4.09,
          19.61,
          4.57
         ]
        }
       ],
       "layout": {
        "height": 600,
        "scene": {
         "xaxis": {
          "title": {
           "text": "FeCl3 (L/d)"
          }
         },
         "yaxis": {
          "title": {
           "text": "NaOH 5N (L/d)"
          }
         },
         "zaxis": {
          "title": {
           "text": "TP (mg-P/L)"
          }
         }
        },
        "template": {
         "data": {
          "bar": [
           {
            "error_x": {
             "color": "#2a3f5f"
            },
            "error_y": {
             "color": "#2a3f5f"
            },
            "marker": {
             "line": {
              "color": "#E5ECF6",
              "width": 0.5
             },
             "pattern": {
              "fillmode": "overlay",
              "size": 10,
              "solidity": 0.2
             }
            },
            "type": "bar"
           }
          ],
          "barpolar": [
           {
            "marker": {
             "line": {
              "color": "#E5ECF6",
              "width": 0.5
             },
             "pattern": {
              "fillmode": "overlay",
              "size": 10,
              "solidity": 0.2
             }
            },
            "type": "barpolar"
           }
          ],
          "carpet": [
           {
            "aaxis": {
             "endlinecolor": "#2a3f5f",
             "gridcolor": "white",
             "linecolor": "white",
             "minorgridcolor": "white",
             "startlinecolor": "#2a3f5f"
            },
            "baxis": {
             "endlinecolor": "#2a3f5f",
             "gridcolor": "white",
             "linecolor": "white",
             "minorgridcolor": "white",
             "startlinecolor": "#2a3f5f"
            },
            "type": "carpet"
           }
          ],
          "choropleth": [
           {
            "colorbar": {
             "outlinewidth": 0,
             "ticks": ""
            },
            "type": "choropleth"
           }
          ],
          "contour": [
           {
            "colorbar": {
             "outlinewidth": 0,
             "ticks": ""
            },
            "colorscale": [
             [
              0,
              "#0d0887"
             ],
             [
              0.1111111111111111,
              "#46039f"
             ],
             [
              0.2222222222222222,
              "#7201a8"
             ],
             [
              0.3333333333333333,
              "#9c179e"
             ],
             [
              0.4444444444444444,
              "#bd3786"
             ],
             [
              0.5555555555555556,
              "#d8576b"
             ],
             [
              0.6666666666666666,
              "#ed7953"
             ],
             [
              0.7777777777777778,
              "#fb9f3a"
             ],
             [
              0.8888888888888888,
              "#fdca26"
             ],
             [
              1,
              "#f0f921"
             ]
            ],
            "type": "contour"
           }
          ],
          "contourcarpet": [
           {
            "colorbar": {
             "outlinewidth": 0,
             "ticks": ""
            },
            "type": "contourcarpet"
           }
          ],
          "heatmap": [
           {
            "colorbar": {
             "outlinewidth": 0,
             "ticks": ""
            },
            "colorscale": [
             [
              0,
              "#0d0887"
             ],
             [
              0.1111111111111111,
              "#46039f"
             ],
             [
              0.2222222222222222,
              "#7201a8"
             ],
             [
              0.3333333333333333,
              "#9c179e"
             ],
             [
              0.4444444444444444,
              "#bd3786"
             ],
             [
              0.5555555555555556,
              "#d8576b"
             ],
             [
              0.6666666666666666,
              "#ed7953"
             ],
             [
              0.7777777777777778,
              "#fb9f3a"
             ],
             [
              0.8888888888888888,
              "#fdca26"
             ],
             [
              1,
              "#f0f921"
             ]
            ],
            "type": "heatmap"
           }
          ],
          "heatmapgl": [
           {
            "colorbar": {
             "outlinewidth": 0,
             "ticks": ""
            },
            "colorscale": [
             [
              0,
              "#0d0887"
             ],
             [
              0.1111111111111111,
              "#46039f"
             ],
             [
              0.2222222222222222,
              "#7201a8"
             ],
             [
              0.3333333333333333,
              "#9c179e"
             ],
             [
              0.4444444444444444,
              "#bd3786"
             ],
             [
              0.5555555555555556,
              "#d8576b"
             ],
             [
              0.6666666666666666,
              "#ed7953"
             ],
             [
              0.7777777777777778,
              "#fb9f3a"
             ],
             [
              0.8888888888888888,
              "#fdca26"
             ],
             [
              1,
              "#f0f921"
             ]
            ],
            "type": "heatmapgl"
           }
          ],
          "histogram": [
           {
            "marker": {
             "pattern": {
              "fillmode": "overlay",
              "size": 10,
              "solidity": 0.2
             }
            },
            "type": "histogram"
           }
          ],
          "histogram2d": [
           {
            "colorbar": {
             "outlinewidth": 0,
             "ticks": ""
            },
            "colorscale": [
             [
              0,
              "#0d0887"
             ],
             [
              0.1111111111111111,
              "#46039f"
             ],
             [
              0.2222222222222222,
              "#7201a8"
             ],
             [
              0.3333333333333333,
              "#9c179e"
             ],
             [
              0.4444444444444444,
              "#bd3786"
             ],
             [
              0.5555555555555556,
              "#d8576b"
             ],
             [
              0.6666666666666666,
              "#ed7953"
             ],
             [
              0.7777777777777778,
              "#fb9f3a"
             ],
             [
              0.8888888888888888,
              "#fdca26"
             ],
             [
              1,
              "#f0f921"
             ]
            ],
            "type": "histogram2d"
           }
          ],
          "histogram2dcontour": [
           {
            "colorbar": {
             "outlinewidth": 0,
             "ticks": ""
            },
            "colorscale": [
             [
              0,
              "#0d0887"
             ],
             [
              0.1111111111111111,
              "#46039f"
             ],
             [
              0.2222222222222222,
              "#7201a8"
             ],
             [
              0.3333333333333333,
              "#9c179e"
             ],
             [
              0.4444444444444444,
              "#bd3786"
             ],
             [
              0.5555555555555556,
              "#d8576b"
             ],
             [
              0.6666666666666666,
              "#ed7953"
             ],
             [
              0.7777777777777778,
              "#fb9f3a"
             ],
             [
              0.8888888888888888,
              "#fdca26"
             ],
             [
              1,
              "#f0f921"
             ]
            ],
            "type": "histogram2dcontour"
           }
          ],
          "mesh3d": [
           {
            "colorbar": {
             "outlinewidth": 0,
             "ticks": ""
            },
            "type": "mesh3d"
           }
          ],
          "parcoords": [
           {
            "line": {
             "colorbar": {
              "outlinewidth": 0,
              "ticks": ""
             }
            },
            "type": "parcoords"
           }
          ],
          "pie": [
           {
            "automargin": true,
            "type": "pie"
           }
          ],
          "scatter": [
           {
            "fillpattern": {
             "fillmode": "overlay",
             "size": 10,
             "solidity": 0.2
            },
            "type": "scatter"
           }
          ],
          "scatter3d": [
           {
            "line": {
             "colorbar": {
              "outlinewidth": 0,
              "ticks": ""
             }
            },
            "marker": {
             "colorbar": {
              "outlinewidth": 0,
              "ticks": ""
             }
            },
            "type": "scatter3d"
           }
          ],
          "scattercarpet": [
           {
            "marker": {
             "colorbar": {
              "outlinewidth": 0,
              "ticks": ""
             }
            },
            "type": "scattercarpet"
           }
          ],
          "scattergeo": [
           {
            "marker": {
             "colorbar": {
              "outlinewidth": 0,
              "ticks": ""
             }
            },
            "type": "scattergeo"
           }
          ],
          "scattergl": [
           {
            "marker": {
             "colorbar": {
              "outlinewidth": 0,
              "ticks": ""
             }
            },
            "type": "scattergl"
           }
          ],
          "scattermapbox": [
           {
            "marker": {
             "colorbar": {
              "outlinewidth": 0,
              "ticks": ""
             }
            },
            "type": "scattermapbox"
           }
          ],
          "scatterpolar": [
           {
            "marker": {
             "colorbar": {
              "outlinewidth": 0,
              "ticks": ""
             }
            },
            "type": "scatterpolar"
           }
          ],
          "scatterpolargl": [
           {
            "marker": {
             "colorbar": {
              "outlinewidth": 0,
              "ticks": ""
             }
            },
            "type": "scatterpolargl"
           }
          ],
          "scatterternary": [
           {
            "marker": {
             "colorbar": {
              "outlinewidth": 0,
              "ticks": ""
             }
            },
            "type": "scatterternary"
           }
          ],
          "surface": [
           {
            "colorbar": {
             "outlinewidth": 0,
             "ticks": ""
            },
            "colorscale": [
             [
              0,
              "#0d0887"
             ],
             [
              0.1111111111111111,
              "#46039f"
             ],
             [
              0.2222222222222222,
              "#7201a8"
             ],
             [
              0.3333333333333333,
              "#9c179e"
             ],
             [
              0.4444444444444444,
              "#bd3786"
             ],
             [
              0.5555555555555556,
              "#d8576b"
             ],
             [
              0.6666666666666666,
              "#ed7953"
             ],
             [
              0.7777777777777778,
              "#fb9f3a"
             ],
             [
              0.8888888888888888,
              "#fdca26"
             ],
             [
              1,
              "#f0f921"
             ]
            ],
            "type": "surface"
           }
          ],
          "table": [
           {
            "cells": {
             "fill": {
              "color": "#EBF0F8"
             },
             "line": {
              "color": "white"
             }
            },
            "header": {
             "fill": {
              "color": "#C8D4E3"
             },
             "line": {
              "color": "white"
             }
            },
            "type": "table"
           }
          ]
         },
         "layout": {
          "annotationdefaults": {
           "arrowcolor": "#2a3f5f",
           "arrowhead": 0,
           "arrowwidth": 1
          },
          "autotypenumbers": "strict",
          "coloraxis": {
           "colorbar": {
            "outlinewidth": 0,
            "ticks": ""
           }
          },
          "colorscale": {
           "diverging": [
            [
             0,
             "#8e0152"
            ],
            [
             0.1,
             "#c51b7d"
            ],
            [
             0.2,
             "#de77ae"
            ],
            [
             0.3,
             "#f1b6da"
            ],
            [
             0.4,
             "#fde0ef"
            ],
            [
             0.5,
             "#f7f7f7"
            ],
            [
             0.6,
             "#e6f5d0"
            ],
            [
             0.7,
             "#b8e186"
            ],
            [
             0.8,
             "#7fbc41"
            ],
            [
             0.9,
             "#4d9221"
            ],
            [
             1,
             "#276419"
            ]
           ],
           "sequential": [
            [
             0,
             "#0d0887"
            ],
            [
             0.1111111111111111,
             "#46039f"
            ],
            [
             0.2222222222222222,
             "#7201a8"
            ],
            [
             0.3333333333333333,
             "#9c179e"
            ],
            [
             0.4444444444444444,
             "#bd3786"
            ],
            [
             0.5555555555555556,
             "#d8576b"
            ],
            [
             0.6666666666666666,
             "#ed7953"
            ],
            [
             0.7777777777777778,
             "#fb9f3a"
            ],
            [
             0.8888888888888888,
             "#fdca26"
            ],
            [
             1,
             "#f0f921"
            ]
           ],
           "sequentialminus": [
            [
             0,
             "#0d0887"
            ],
            [
             0.1111111111111111,
             "#46039f"
            ],
            [
             0.2222222222222222,
             "#7201a8"
            ],
            [
             0.3333333333333333,
             "#9c179e"
            ],
            [
             0.4444444444444444,
             "#bd3786"
            ],
            [
             0.5555555555555556,
             "#d8576b"
            ],
            [
             0.6666666666666666,
             "#ed7953"
            ],
            [
             0.7777777777777778,
             "#fb9f3a"
            ],
            [
             0.8888888888888888,
             "#fdca26"
            ],
            [
             1,
             "#f0f921"
            ]
           ]
          },
          "colorway": [
           "#636efa",
           "#EF553B",
           "#00cc96",
           "#ab63fa",
           "#FFA15A",
           "#19d3f3",
           "#FF6692",
           "#B6E880",
           "#FF97FF",
           "#FECB52"
          ],
          "font": {
           "color": "#2a3f5f"
          },
          "geo": {
           "bgcolor": "white",
           "lakecolor": "white",
           "landcolor": "#E5ECF6",
           "showlakes": true,
           "showland": true,
           "subunitcolor": "white"
          },
          "hoverlabel": {
           "align": "left"
          },
          "hovermode": "closest",
          "mapbox": {
           "style": "light"
          },
          "paper_bgcolor": "white",
          "plot_bgcolor": "#E5ECF6",
          "polar": {
           "angularaxis": {
            "gridcolor": "white",
            "linecolor": "white",
            "ticks": ""
           },
           "bgcolor": "#E5ECF6",
           "radialaxis": {
            "gridcolor": "white",
            "linecolor": "white",
            "ticks": ""
           }
          },
          "scene": {
           "xaxis": {
            "backgroundcolor": "#E5ECF6",
            "gridcolor": "white",
            "gridwidth": 2,
            "linecolor": "white",
            "showbackground": true,
            "ticks": "",
            "zerolinecolor": "white"
           },
           "yaxis": {
            "backgroundcolor": "#E5ECF6",
            "gridcolor": "white",
            "gridwidth": 2,
            "linecolor": "white",
            "showbackground": true,
            "ticks": "",
            "zerolinecolor": "white"
           },
           "zaxis": {
            "backgroundcolor": "#E5ECF6",
            "gridcolor": "white",
            "gridwidth": 2,
            "linecolor": "white",
            "showbackground": true,
            "ticks": "",
            "zerolinecolor": "white"
           }
          },
          "shapedefaults": {
           "line": {
            "color": "#2a3f5f"
           }
          },
          "ternary": {
           "aaxis": {
            "gridcolor": "white",
            "linecolor": "white",
            "ticks": ""
           },
           "baxis": {
            "gridcolor": "white",
            "linecolor": "white",
            "ticks": ""
           },
           "bgcolor": "#E5ECF6",
           "caxis": {
            "gridcolor": "white",
            "linecolor": "white",
            "ticks": ""
           }
          },
          "title": {
           "x": 0.05
          },
          "xaxis": {
           "automargin": true,
           "gridcolor": "white",
           "linecolor": "white",
           "ticks": "",
           "title": {
            "standoff": 15
           },
           "zerolinecolor": "white",
           "zerolinewidth": 2
          },
          "yaxis": {
           "automargin": true,
           "gridcolor": "white",
           "linecolor": "white",
           "ticks": "",
           "title": {
            "standoff": 15
           },
           "zerolinecolor": "white",
           "zerolinewidth": 2
          }
         }
        },
        "title": {
         "text": "Effluent TP as a function of FeCl3 and NaOH consumption"
        },
        "width": 800
       }
      }
     },
     "metadata": {},
     "output_type": "display_data"
    }
   ],
   "source": [
    "import plotly.graph_objs as go\n",
    "import numpy as np\n",
    "\n",
    "x = results['FeCl3(L/d)']\n",
    "y = results['NaOH(L/d)']\n",
    "z = results['P - Total P [mgP/L]']\n",
    "\n",
    "fig = go.Figure(data=[go.Scatter3d(x=x, y=y, z=z, mode='markers',\n",
    "                                   marker=dict(size=5))])\n",
    "\n",
    "fig.update_layout(title='Effluent TP as a function of FeCl3 and NaOH consumption',\n",
    "                  scene=dict(\n",
    "                      xaxis_title='FeCl3 (L/d)',\n",
    "                      yaxis_title='NaOH 5N (L/d)',\n",
    "                      zaxis_title='TP (mg-P/L)'\n",
    "                  ))\n",
    "\n",
    "fig.update_layout(width=800, height=600)\n",
    "\n",
    "fig.show()\n"
   ]
  },
  {
   "cell_type": "code",
   "execution_count": 13,
   "metadata": {},
   "outputs": [
    {
     "data": {
      "application/vnd.plotly.v1+json": {
       "config": {
        "plotlyServerURL": "https://plot.ly"
       },
       "data": [
        {
         "marker": {
          "size": 5
         },
         "mode": "markers",
         "type": "scatter3d",
         "x": [
          944,
          680,
          979,
          841,
          626,
          447,
          978,
          1087,
          406,
          849,
          714,
          876,
          603,
          850,
          664,
          1141,
          965,
          1174,
          852,
          814,
          691,
          798,
          1084,
          845,
          705,
          1162,
          848,
          749,
          1164,
          1097,
          672,
          444,
          606,
          1000,
          959,
          706,
          977,
          407,
          925,
          709,
          1080,
          481,
          585,
          1132,
          802,
          512,
          991,
          606,
          1006,
          899,
          781,
          427,
          786,
          1167,
          998,
          1195,
          1112,
          715,
          476,
          573,
          1105,
          810,
          477,
          1070,
          849,
          781,
          553,
          585,
          865,
          1192,
          753,
          1166,
          1148,
          1164,
          546,
          630,
          973,
          1172,
          450,
          602,
          1003,
          721,
          608,
          481,
          857,
          611,
          761,
          1087,
          1189,
          501,
          878,
          1063,
          1005,
          664,
          927,
          1145,
          491,
          1057,
          593,
          559,
          426,
          898,
          1115,
          840,
          517,
          411,
          959,
          797,
          848,
          463,
          484,
          670,
          1151,
          886,
          1158,
          559,
          822,
          647,
          526,
          684,
          754,
          501,
          500,
          480,
          828,
          719,
          873,
          943,
          806,
          1017,
          461,
          640,
          912,
          825,
          452,
          1094,
          944,
          890,
          401,
          1043,
          646,
          725,
          952,
          647,
          782,
          1102,
          491,
          400,
          863,
          976,
          794,
          609,
          737,
          749,
          936,
          1170,
          603,
          834,
          698,
          599,
          558,
          603,
          1019,
          707,
          715,
          1121,
          419,
          901,
          937,
          934,
          402,
          466,
          1197,
          560,
          1105,
          808,
          661,
          859,
          1149,
          468,
          1161,
          502,
          431,
          1072,
          775,
          672,
          682,
          716,
          469,
          716,
          1097,
          638,
          733,
          622,
          604,
          1000,
          980,
          951,
          697,
          778,
          623,
          897,
          892,
          854,
          747,
          550,
          777,
          946,
          1072,
          730,
          905,
          1196,
          729,
          1033,
          1146,
          495,
          883,
          1074,
          851,
          486,
          902,
          468,
          832,
          1090,
          420,
          927,
          1011,
          747,
          933,
          839,
          619,
          1182,
          491,
          1160,
          787,
          937,
          896,
          975,
          929,
          705,
          500,
          792,
          407,
          680,
          1172,
          728,
          909,
          443,
          993,
          652,
          576,
          867,
          739,
          814,
          1110,
          940,
          549,
          1169,
          964,
          1038,
          700,
          1071,
          577,
          802,
          741,
          753,
          609,
          455,
          1187,
          952,
          724,
          789,
          1079,
          1126,
          816,
          627,
          419,
          1007,
          752,
          747,
          761,
          747,
          829,
          586,
          980,
          1156,
          1070,
          465,
          565,
          997,
          543,
          629,
          496,
          583,
          510,
          1174,
          575,
          694,
          660,
          553,
          410,
          808,
          443,
          931,
          1042,
          1133,
          751,
          552,
          762,
          1149,
          638,
          662,
          1141,
          487,
          1038,
          683,
          830,
          981,
          777,
          794,
          771,
          1159,
          974,
          612,
          621,
          788,
          837,
          1089,
          1093,
          486,
          826,
          1002,
          769,
          517,
          925,
          932,
          498,
          942,
          766,
          442,
          1129,
          726,
          966,
          605,
          711,
          1124,
          992,
          780,
          1150,
          918,
          915,
          732,
          499,
          961,
          546,
          1172,
          939,
          951,
          826,
          579,
          1111,
          1056,
          1067,
          1001,
          1081,
          680,
          1137,
          949,
          845,
          1003
         ],
         "y": [
          1600,
          589,
          1006,
          357,
          1616,
          759,
          1143,
          7,
          661,
          1553,
          482,
          341,
          842,
          249,
          1002,
          1119,
          1467,
          367,
          1537,
          1748,
          1644,
          537,
          1014,
          586,
          645,
          1524,
          763,
          959,
          1425,
          523,
          1154,
          1540,
          580,
          542,
          740,
          475,
          1638,
          777,
          1158,
          1273,
          1347,
          1376,
          1632,
          600,
          1000,
          1056,
          1331,
          23,
          1133,
          1728,
          112,
          1193,
          1349,
          1195,
          1098,
          730,
          384,
          57,
          946,
          1051,
          280,
          958,
          772,
          46,
          861,
          33,
          700,
          1562,
          1059,
          1720,
          344,
          661,
          1387,
          1640,
          272,
          888,
          889,
          72,
          335,
          792,
          266,
          97,
          125,
          1728,
          101,
          1388,
          357,
          1504,
          346,
          148,
          304,
          1093,
          1564,
          1160,
          44,
          593,
          468,
          1717,
          497,
          1216,
          1437,
          648,
          833,
          1060,
          405,
          455,
          605,
          654,
          1463,
          392,
          320,
          842,
          1024,
          1192,
          448,
          915,
          1383,
          1669,
          1006,
          754,
          207,
          1532,
          718,
          1505,
          918,
          496,
          856,
          482,
          223,
          632,
          1444,
          207,
          590,
          688,
          267,
          668,
          583,
          794,
          190,
          1435,
          1273,
          200,
          1067,
          221,
          1558,
          723,
          692,
          172,
          1394,
          656,
          1299,
          949,
          1208,
          161,
          1640,
          981,
          707,
          1071,
          219,
          1721,
          1361,
          763,
          737,
          1170,
          1236,
          839,
          534,
          1727,
          284,
          230,
          1017,
          756,
          311,
          1500,
          414,
          328,
          188,
          292,
          1085,
          1464,
          1427,
          1436,
          1602,
          736,
          1637,
          893,
          750,
          165,
          805,
          746,
          1614,
          677,
          744,
          153,
          1621,
          425,
          1608,
          1724,
          1097,
          129,
          479,
          1190,
          304,
          1161,
          1420,
          422,
          886,
          780,
          377,
          390,
          1616,
          1019,
          986,
          1241,
          1036,
          1718,
          258,
          1728,
          1413,
          442,
          1252,
          387,
          977,
          587,
          1022,
          978,
          420,
          1521,
          997,
          477,
          815,
          1339,
          801,
          827,
          458,
          1569,
          1342,
          489,
          638,
          1290,
          718,
          1095,
          932,
          176,
          243,
          1139,
          366,
          1165,
          1241,
          546,
          1320,
          597,
          1265,
          138,
          297,
          204,
          635,
          1596,
          1570,
          1166,
          497,
          585,
          1232,
          342,
          47,
          1124,
          1092,
          699,
          856,
          1126,
          1012,
          399,
          289,
          1112,
          99,
          682,
          1725,
          1522,
          945,
          1267,
          648,
          8,
          1681,
          1412,
          1228,
          359,
          1509,
          1580,
          393,
          1336,
          196,
          856,
          1093,
          1558,
          952,
          1025,
          1436,
          1407,
          1062,
          1605,
          1187,
          85,
          563,
          712,
          440,
          977,
          1247,
          1667,
          1031,
          1644,
          1188,
          1361,
          1072,
          177,
          543,
          1672,
          673,
          586,
          643,
          873,
          1702,
          504,
          618,
          746,
          347,
          635,
          163,
          702,
          1529,
          1075,
          1551,
          1274,
          1026,
          1244,
          1242,
          1240,
          994,
          1690,
          1197,
          1670,
          1018,
          924,
          1653,
          933,
          391,
          1354,
          119,
          889,
          885,
          310,
          967,
          1418,
          812,
          43,
          1398,
          243,
          113,
          1308,
          488,
          1320,
          452,
          113,
          83,
          1605,
          468,
          1072,
          1101,
          1218,
          32,
          1130
         ],
         "z": [
          6.96,
          5.72,
          3.3,
          2.64,
          9.62,
          7.54,
          5.2,
          2.21,
          7.46,
          7.46,
          3.43,
          2.56,
          6.83,
          2.54,
          6.92,
          2.79,
          6.53,
          2.27,
          7.37,
          8.54,
          9.2,
          3.01,
          2.81,
          2.91,
          5.73,
          5.15,
          3.45,
          6.41,
          3.47,
          2.4,
          7.32,
          10.3,
          6.21,
          2.53,
          2.79,
          3.49,
          6.88,
          7.97,
          5.95,
          7.49,
          5.07,
          9.8,
          9.89,
          2.4,
          6.24,
          8.29,
          6.06,
          2.8,
          3.81,
          7.78,
          2.54,
          9.62,
          7.19,
          2.82,
          3.61,
          2.4,
          2.32,
          2.6,
          8.13,
          7.72,
          2.29,
          6.08,
          7.36,
          2.23,
          5.03,
          2.49,
          6.74,
          9.71,
          6.04,
          5.96,
          2.83,
          2.4,
          3.44,
          5.88,
          5.48,
          6.81,
          2.98,
          2.17,
          6.39,
          6.72,
          2.37,
          2.63,
          2.96,
          10.51,
          2.44,
          8.74,
          2.82,
          5.97,
          2.25,
          5.15,
          2.53,
          3.02,
          6.56,
          7.41,
          2.34,
          2.38,
          6.5,
          6.66,
          6.05,
          8.53,
          10.18,
          2.83,
          2.56,
          6.19,
          6.23,
          6.83,
          2.64,
          3.43,
          7.14,
          6.46,
          6.18,
          6.51,
          2.66,
          6.28,
          2.31,
          7.29,
          7.06,
          9.65,
          7.95,
          6.24,
          2.66,
          10.05,
          7.05,
          10.09,
          5.81,
          3.45,
          3.81,
          2.57,
          2.58,
          2.56,
          10.05,
          3,
          2.72,
          3.3,
          6.21,
          2.48,
          2.65,
          3.19,
          6.28,
          6.05,
          8.07,
          2.72,
          4.85,
          2.99,
          8.1,
          2.51,
          7.03,
          6.24,
          6.86,
          2.66,
          6.99,
          7.08,
          7.07,
          2.63,
          7.12,
          2.59,
          6.52,
          6.25,
          2.81,
          10.01,
          9.18,
          6.65,
          2.65,
          7.14,
          7.3,
          2.56,
          6.99,
          7.76,
          2.45,
          2.42,
          9.1,
          7.38,
          2.23,
          9.69,
          2.34,
          2.67,
          2.88,
          2.55,
          2.73,
          10.06,
          3.53,
          9.84,
          10.47,
          2.56,
          8.45,
          6.62,
          6.24,
          2.7,
          7.55,
          6.03,
          6.23,
          6.29,
          5.9,
          2.96,
          9.76,
          2.45,
          6.79,
          7.3,
          6.99,
          2.56,
          5.76,
          6.22,
          2.52,
          6.37,
          7.8,
          6.09,
          6.07,
          2.89,
          2.35,
          2.99,
          7.26,
          2.58,
          6.56,
          4.94,
          2.68,
          10.43,
          2.5,
          6.61,
          6.98,
          6.47,
          6.34,
          6.42,
          6,
          2.44,
          8.91,
          3.95,
          2.44,
          8.24,
          4.07,
          2.77,
          6.69,
          3.02,
          7.37,
          2.5,
          2.9,
          6.92,
          6.58,
          2.52,
          2.74,
          7.6,
          7.05,
          6.51,
          8.63,
          2.8,
          2.23,
          6.93,
          2.53,
          9.4,
          5.71,
          5.79,
          8.76,
          2.85,
          7.23,
          2.51,
          2.29,
          2.4,
          6.61,
          5.63,
          6.78,
          3.5,
          3.81,
          2.46,
          8.46,
          2.7,
          2.55,
          6.76,
          7.59,
          7.26,
          2.48,
          5.54,
          6.64,
          2.8,
          2.31,
          2.82,
          2.48,
          6.35,
          10.75,
          6.46,
          6.36,
          7.18,
          4.3,
          2.52,
          8.21,
          9.14,
          5.77,
          2.28,
          6.1,
          10.29,
          5.9,
          6.04,
          4.26,
          6.74,
          8.55,
          9.72,
          7.84,
          2.62,
          9.37,
          8.22,
          7.1,
          9.98,
          9.7,
          2.49,
          6.94,
          2.83,
          2.41,
          2.65,
          7.1,
          10.11,
          6.51,
          6,
          7.75,
          8.3,
          2.73,
          5.64,
          2.48,
          9.4,
          3.2,
          2.59,
          3.66,
          5.91,
          8.67,
          2.33,
          2.62,
          6.57,
          4.03,
          3.43,
          2.5,
          2.51,
          6.01,
          8.56,
          7.66,
          5.77,
          6.46,
          9.01,
          6.2,
          6.15,
          8.15,
          7.25,
          6.87,
          10.56,
          2.7,
          6.44,
          6.98,
          7.06,
          3.09,
          3.56,
          2.31,
          6.06,
          2.55,
          2.48,
          4.25,
          7.93,
          7.35,
          2.31,
          9.46,
          2.23,
          2.36,
          6.23,
          2.82,
          8.74,
          2.35,
          2.26,
          2.24,
          6.68,
          2.39,
          7.01,
          2.78,
          5.98,
          2.41,
          3.85
         ]
        }
       ],
       "layout": {
        "height": 600,
        "scene": {
         "xaxis": {
          "title": {
           "text": "FeCl3 (L/d)"
          }
         },
         "yaxis": {
          "title": {
           "text": "NaOH 5N (L/d)"
          }
         },
         "zaxis": {
          "title": {
           "text": "pH"
          }
         }
        },
        "template": {
         "data": {
          "bar": [
           {
            "error_x": {
             "color": "#2a3f5f"
            },
            "error_y": {
             "color": "#2a3f5f"
            },
            "marker": {
             "line": {
              "color": "#E5ECF6",
              "width": 0.5
             },
             "pattern": {
              "fillmode": "overlay",
              "size": 10,
              "solidity": 0.2
             }
            },
            "type": "bar"
           }
          ],
          "barpolar": [
           {
            "marker": {
             "line": {
              "color": "#E5ECF6",
              "width": 0.5
             },
             "pattern": {
              "fillmode": "overlay",
              "size": 10,
              "solidity": 0.2
             }
            },
            "type": "barpolar"
           }
          ],
          "carpet": [
           {
            "aaxis": {
             "endlinecolor": "#2a3f5f",
             "gridcolor": "white",
             "linecolor": "white",
             "minorgridcolor": "white",
             "startlinecolor": "#2a3f5f"
            },
            "baxis": {
             "endlinecolor": "#2a3f5f",
             "gridcolor": "white",
             "linecolor": "white",
             "minorgridcolor": "white",
             "startlinecolor": "#2a3f5f"
            },
            "type": "carpet"
           }
          ],
          "choropleth": [
           {
            "colorbar": {
             "outlinewidth": 0,
             "ticks": ""
            },
            "type": "choropleth"
           }
          ],
          "contour": [
           {
            "colorbar": {
             "outlinewidth": 0,
             "ticks": ""
            },
            "colorscale": [
             [
              0,
              "#0d0887"
             ],
             [
              0.1111111111111111,
              "#46039f"
             ],
             [
              0.2222222222222222,
              "#7201a8"
             ],
             [
              0.3333333333333333,
              "#9c179e"
             ],
             [
              0.4444444444444444,
              "#bd3786"
             ],
             [
              0.5555555555555556,
              "#d8576b"
             ],
             [
              0.6666666666666666,
              "#ed7953"
             ],
             [
              0.7777777777777778,
              "#fb9f3a"
             ],
             [
              0.8888888888888888,
              "#fdca26"
             ],
             [
              1,
              "#f0f921"
             ]
            ],
            "type": "contour"
           }
          ],
          "contourcarpet": [
           {
            "colorbar": {
             "outlinewidth": 0,
             "ticks": ""
            },
            "type": "contourcarpet"
           }
          ],
          "heatmap": [
           {
            "colorbar": {
             "outlinewidth": 0,
             "ticks": ""
            },
            "colorscale": [
             [
              0,
              "#0d0887"
             ],
             [
              0.1111111111111111,
              "#46039f"
             ],
             [
              0.2222222222222222,
              "#7201a8"
             ],
             [
              0.3333333333333333,
              "#9c179e"
             ],
             [
              0.4444444444444444,
              "#bd3786"
             ],
             [
              0.5555555555555556,
              "#d8576b"
             ],
             [
              0.6666666666666666,
              "#ed7953"
             ],
             [
              0.7777777777777778,
              "#fb9f3a"
             ],
             [
              0.8888888888888888,
              "#fdca26"
             ],
             [
              1,
              "#f0f921"
             ]
            ],
            "type": "heatmap"
           }
          ],
          "heatmapgl": [
           {
            "colorbar": {
             "outlinewidth": 0,
             "ticks": ""
            },
            "colorscale": [
             [
              0,
              "#0d0887"
             ],
             [
              0.1111111111111111,
              "#46039f"
             ],
             [
              0.2222222222222222,
              "#7201a8"
             ],
             [
              0.3333333333333333,
              "#9c179e"
             ],
             [
              0.4444444444444444,
              "#bd3786"
             ],
             [
              0.5555555555555556,
              "#d8576b"
             ],
             [
              0.6666666666666666,
              "#ed7953"
             ],
             [
              0.7777777777777778,
              "#fb9f3a"
             ],
             [
              0.8888888888888888,
              "#fdca26"
             ],
             [
              1,
              "#f0f921"
             ]
            ],
            "type": "heatmapgl"
           }
          ],
          "histogram": [
           {
            "marker": {
             "pattern": {
              "fillmode": "overlay",
              "size": 10,
              "solidity": 0.2
             }
            },
            "type": "histogram"
           }
          ],
          "histogram2d": [
           {
            "colorbar": {
             "outlinewidth": 0,
             "ticks": ""
            },
            "colorscale": [
             [
              0,
              "#0d0887"
             ],
             [
              0.1111111111111111,
              "#46039f"
             ],
             [
              0.2222222222222222,
              "#7201a8"
             ],
             [
              0.3333333333333333,
              "#9c179e"
             ],
             [
              0.4444444444444444,
              "#bd3786"
             ],
             [
              0.5555555555555556,
              "#d8576b"
             ],
             [
              0.6666666666666666,
              "#ed7953"
             ],
             [
              0.7777777777777778,
              "#fb9f3a"
             ],
             [
              0.8888888888888888,
              "#fdca26"
             ],
             [
              1,
              "#f0f921"
             ]
            ],
            "type": "histogram2d"
           }
          ],
          "histogram2dcontour": [
           {
            "colorbar": {
             "outlinewidth": 0,
             "ticks": ""
            },
            "colorscale": [
             [
              0,
              "#0d0887"
             ],
             [
              0.1111111111111111,
              "#46039f"
             ],
             [
              0.2222222222222222,
              "#7201a8"
             ],
             [
              0.3333333333333333,
              "#9c179e"
             ],
             [
              0.4444444444444444,
              "#bd3786"
             ],
             [
              0.5555555555555556,
              "#d8576b"
             ],
             [
              0.6666666666666666,
              "#ed7953"
             ],
             [
              0.7777777777777778,
              "#fb9f3a"
             ],
             [
              0.8888888888888888,
              "#fdca26"
             ],
             [
              1,
              "#f0f921"
             ]
            ],
            "type": "histogram2dcontour"
           }
          ],
          "mesh3d": [
           {
            "colorbar": {
             "outlinewidth": 0,
             "ticks": ""
            },
            "type": "mesh3d"
           }
          ],
          "parcoords": [
           {
            "line": {
             "colorbar": {
              "outlinewidth": 0,
              "ticks": ""
             }
            },
            "type": "parcoords"
           }
          ],
          "pie": [
           {
            "automargin": true,
            "type": "pie"
           }
          ],
          "scatter": [
           {
            "fillpattern": {
             "fillmode": "overlay",
             "size": 10,
             "solidity": 0.2
            },
            "type": "scatter"
           }
          ],
          "scatter3d": [
           {
            "line": {
             "colorbar": {
              "outlinewidth": 0,
              "ticks": ""
             }
            },
            "marker": {
             "colorbar": {
              "outlinewidth": 0,
              "ticks": ""
             }
            },
            "type": "scatter3d"
           }
          ],
          "scattercarpet": [
           {
            "marker": {
             "colorbar": {
              "outlinewidth": 0,
              "ticks": ""
             }
            },
            "type": "scattercarpet"
           }
          ],
          "scattergeo": [
           {
            "marker": {
             "colorbar": {
              "outlinewidth": 0,
              "ticks": ""
             }
            },
            "type": "scattergeo"
           }
          ],
          "scattergl": [
           {
            "marker": {
             "colorbar": {
              "outlinewidth": 0,
              "ticks": ""
             }
            },
            "type": "scattergl"
           }
          ],
          "scattermapbox": [
           {
            "marker": {
             "colorbar": {
              "outlinewidth": 0,
              "ticks": ""
             }
            },
            "type": "scattermapbox"
           }
          ],
          "scatterpolar": [
           {
            "marker": {
             "colorbar": {
              "outlinewidth": 0,
              "ticks": ""
             }
            },
            "type": "scatterpolar"
           }
          ],
          "scatterpolargl": [
           {
            "marker": {
             "colorbar": {
              "outlinewidth": 0,
              "ticks": ""
             }
            },
            "type": "scatterpolargl"
           }
          ],
          "scatterternary": [
           {
            "marker": {
             "colorbar": {
              "outlinewidth": 0,
              "ticks": ""
             }
            },
            "type": "scatterternary"
           }
          ],
          "surface": [
           {
            "colorbar": {
             "outlinewidth": 0,
             "ticks": ""
            },
            "colorscale": [
             [
              0,
              "#0d0887"
             ],
             [
              0.1111111111111111,
              "#46039f"
             ],
             [
              0.2222222222222222,
              "#7201a8"
             ],
             [
              0.3333333333333333,
              "#9c179e"
             ],
             [
              0.4444444444444444,
              "#bd3786"
             ],
             [
              0.5555555555555556,
              "#d8576b"
             ],
             [
              0.6666666666666666,
              "#ed7953"
             ],
             [
              0.7777777777777778,
              "#fb9f3a"
             ],
             [
              0.8888888888888888,
              "#fdca26"
             ],
             [
              1,
              "#f0f921"
             ]
            ],
            "type": "surface"
           }
          ],
          "table": [
           {
            "cells": {
             "fill": {
              "color": "#EBF0F8"
             },
             "line": {
              "color": "white"
             }
            },
            "header": {
             "fill": {
              "color": "#C8D4E3"
             },
             "line": {
              "color": "white"
             }
            },
            "type": "table"
           }
          ]
         },
         "layout": {
          "annotationdefaults": {
           "arrowcolor": "#2a3f5f",
           "arrowhead": 0,
           "arrowwidth": 1
          },
          "autotypenumbers": "strict",
          "coloraxis": {
           "colorbar": {
            "outlinewidth": 0,
            "ticks": ""
           }
          },
          "colorscale": {
           "diverging": [
            [
             0,
             "#8e0152"
            ],
            [
             0.1,
             "#c51b7d"
            ],
            [
             0.2,
             "#de77ae"
            ],
            [
             0.3,
             "#f1b6da"
            ],
            [
             0.4,
             "#fde0ef"
            ],
            [
             0.5,
             "#f7f7f7"
            ],
            [
             0.6,
             "#e6f5d0"
            ],
            [
             0.7,
             "#b8e186"
            ],
            [
             0.8,
             "#7fbc41"
            ],
            [
             0.9,
             "#4d9221"
            ],
            [
             1,
             "#276419"
            ]
           ],
           "sequential": [
            [
             0,
             "#0d0887"
            ],
            [
             0.1111111111111111,
             "#46039f"
            ],
            [
             0.2222222222222222,
             "#7201a8"
            ],
            [
             0.3333333333333333,
             "#9c179e"
            ],
            [
             0.4444444444444444,
             "#bd3786"
            ],
            [
             0.5555555555555556,
             "#d8576b"
            ],
            [
             0.6666666666666666,
             "#ed7953"
            ],
            [
             0.7777777777777778,
             "#fb9f3a"
            ],
            [
             0.8888888888888888,
             "#fdca26"
            ],
            [
             1,
             "#f0f921"
            ]
           ],
           "sequentialminus": [
            [
             0,
             "#0d0887"
            ],
            [
             0.1111111111111111,
             "#46039f"
            ],
            [
             0.2222222222222222,
             "#7201a8"
            ],
            [
             0.3333333333333333,
             "#9c179e"
            ],
            [
             0.4444444444444444,
             "#bd3786"
            ],
            [
             0.5555555555555556,
             "#d8576b"
            ],
            [
             0.6666666666666666,
             "#ed7953"
            ],
            [
             0.7777777777777778,
             "#fb9f3a"
            ],
            [
             0.8888888888888888,
             "#fdca26"
            ],
            [
             1,
             "#f0f921"
            ]
           ]
          },
          "colorway": [
           "#636efa",
           "#EF553B",
           "#00cc96",
           "#ab63fa",
           "#FFA15A",
           "#19d3f3",
           "#FF6692",
           "#B6E880",
           "#FF97FF",
           "#FECB52"
          ],
          "font": {
           "color": "#2a3f5f"
          },
          "geo": {
           "bgcolor": "white",
           "lakecolor": "white",
           "landcolor": "#E5ECF6",
           "showlakes": true,
           "showland": true,
           "subunitcolor": "white"
          },
          "hoverlabel": {
           "align": "left"
          },
          "hovermode": "closest",
          "mapbox": {
           "style": "light"
          },
          "paper_bgcolor": "white",
          "plot_bgcolor": "#E5ECF6",
          "polar": {
           "angularaxis": {
            "gridcolor": "white",
            "linecolor": "white",
            "ticks": ""
           },
           "bgcolor": "#E5ECF6",
           "radialaxis": {
            "gridcolor": "white",
            "linecolor": "white",
            "ticks": ""
           }
          },
          "scene": {
           "xaxis": {
            "backgroundcolor": "#E5ECF6",
            "gridcolor": "white",
            "gridwidth": 2,
            "linecolor": "white",
            "showbackground": true,
            "ticks": "",
            "zerolinecolor": "white"
           },
           "yaxis": {
            "backgroundcolor": "#E5ECF6",
            "gridcolor": "white",
            "gridwidth": 2,
            "linecolor": "white",
            "showbackground": true,
            "ticks": "",
            "zerolinecolor": "white"
           },
           "zaxis": {
            "backgroundcolor": "#E5ECF6",
            "gridcolor": "white",
            "gridwidth": 2,
            "linecolor": "white",
            "showbackground": true,
            "ticks": "",
            "zerolinecolor": "white"
           }
          },
          "shapedefaults": {
           "line": {
            "color": "#2a3f5f"
           }
          },
          "ternary": {
           "aaxis": {
            "gridcolor": "white",
            "linecolor": "white",
            "ticks": ""
           },
           "baxis": {
            "gridcolor": "white",
            "linecolor": "white",
            "ticks": ""
           },
           "bgcolor": "#E5ECF6",
           "caxis": {
            "gridcolor": "white",
            "linecolor": "white",
            "ticks": ""
           }
          },
          "title": {
           "x": 0.05
          },
          "xaxis": {
           "automargin": true,
           "gridcolor": "white",
           "linecolor": "white",
           "ticks": "",
           "title": {
            "standoff": 15
           },
           "zerolinecolor": "white",
           "zerolinewidth": 2
          },
          "yaxis": {
           "automargin": true,
           "gridcolor": "white",
           "linecolor": "white",
           "ticks": "",
           "title": {
            "standoff": 15
           },
           "zerolinecolor": "white",
           "zerolinewidth": 2
          }
         }
        },
        "title": {
         "text": "Effluent pH as a function of FeCl3 and NaOH consumption"
        },
        "width": 800
       }
      }
     },
     "metadata": {},
     "output_type": "display_data"
    }
   ],
   "source": [
    "x = results['FeCl3(L/d)']\n",
    "y = results['NaOH(L/d)']\n",
    "z = results['pH []']\n",
    "\n",
    "# Create the interactive 3D scatter plot\n",
    "fig = go.Figure(data=[go.Scatter3d(x=x, y=y, z=z, mode='markers',\n",
    "                                   marker=dict(size=5))])\n",
    "\n",
    "# Update the layout of the plot with axis titles\n",
    "fig.update_layout(title='Effluent pH as a function of FeCl3 and NaOH consumption',\n",
    "                  scene=dict(\n",
    "                      xaxis_title='FeCl3 (L/d)',\n",
    "                      yaxis_title='NaOH 5N (L/d)',\n",
    "                      zaxis_title='pH'\n",
    "                  ))\n",
    "\n",
    "# Adjust the size of the plot\n",
    "fig.update_layout(width=800, height=600)\n",
    "\n",
    "# Show the plot\n",
    "fig.show()\n"
   ]
  },
  {
   "cell_type": "markdown",
   "metadata": {},
   "source": [
    "## Identify the FeCl3 and NaOH combinations that ensure compliance with local regulatory standards for effluent quality: \n",
    "\n",
    "- Filter rows where the 'TP' (Total Phosphorus) is less than 5 and the 'pH' is greater than or equal to 6. \n",
    "- Note that other parameters such as NTK and DQO already meet the local regulatory constraints (*).\n",
    "\n",
    "(*) Decreto 253/979. Uruguay, 1979."
   ]
  },
  {
   "cell_type": "code",
   "execution_count": 16,
   "metadata": {},
   "outputs": [],
   "source": [
    "compliant_effluent_df =results[(results['P - Total P [mgP/L]'] < 5) & (results['pH []'] >= 6)]"
   ]
  },
  {
   "cell_type": "code",
   "execution_count": 18,
   "metadata": {},
   "outputs": [
    {
     "data": {
      "application/vnd.plotly.v1+json": {
       "config": {
        "plotlyServerURL": "https://plot.ly"
       },
       "data": [
        {
         "marker": {
          "size": 5
         },
         "mode": "markers",
         "name": "Effluent",
         "type": "scatter3d",
         "x": [
          944,
          680,
          979,
          841,
          626,
          447,
          978,
          1087,
          406,
          849,
          714,
          876,
          603,
          850,
          664,
          1141,
          965,
          1174,
          852,
          814,
          691,
          798,
          1084,
          845,
          705,
          1162,
          848,
          749,
          1164,
          1097,
          672,
          444,
          606,
          1000,
          959,
          706,
          977,
          407,
          925,
          709,
          1080,
          481,
          585,
          1132,
          802,
          512,
          991,
          606,
          1006,
          899,
          781,
          427,
          786,
          1167,
          998,
          1195,
          1112,
          715,
          476,
          573,
          1105,
          810,
          477,
          1070,
          849,
          781,
          553,
          585,
          865,
          1192,
          753,
          1166,
          1148,
          1164,
          546,
          630,
          973,
          1172,
          450,
          602,
          1003,
          721,
          608,
          481,
          857,
          611,
          761,
          1087,
          1189,
          501,
          878,
          1063,
          1005,
          664,
          927,
          1145,
          491,
          1057,
          593,
          559,
          426,
          898,
          1115,
          840,
          517,
          411,
          959,
          797,
          848,
          463,
          484,
          670,
          1151,
          886,
          1158,
          559,
          822,
          647,
          526,
          684,
          754,
          501,
          500,
          480,
          828,
          719,
          873,
          943,
          806,
          1017,
          461,
          640,
          912,
          825,
          452,
          1094,
          944,
          890,
          401,
          1043,
          646,
          725,
          952,
          647,
          782,
          1102,
          491,
          400,
          863,
          976,
          794,
          609,
          737,
          749,
          936,
          1170,
          603,
          834,
          698,
          599,
          558,
          603,
          1019,
          707,
          715,
          1121,
          419,
          901,
          937,
          934,
          402,
          466,
          1197,
          560,
          1105,
          808,
          661,
          859,
          1149,
          468,
          1161,
          502,
          431,
          1072,
          775,
          672,
          682,
          716,
          469,
          716,
          1097,
          638,
          733,
          622,
          604,
          1000,
          980,
          951,
          697,
          778,
          623,
          897,
          892,
          854,
          747,
          550,
          777,
          946,
          1072,
          730,
          905,
          1196,
          729,
          1033,
          1146,
          495,
          883,
          1074,
          851,
          486,
          902,
          468,
          832,
          1090,
          420,
          927,
          1011,
          747,
          933,
          839,
          619,
          1182,
          491,
          1160,
          787,
          937,
          896,
          975,
          929,
          705,
          500,
          792,
          407,
          680,
          1172,
          728,
          909,
          443,
          993,
          652,
          576,
          867,
          739,
          814,
          1110,
          940,
          549,
          1169,
          964,
          1038,
          700,
          1071,
          577,
          802,
          741,
          753,
          609,
          455,
          1187,
          952,
          724,
          789,
          1079,
          1126,
          816,
          627,
          419,
          1007,
          752,
          747,
          761,
          747,
          829,
          586,
          980,
          1156,
          1070,
          465,
          565,
          997,
          543,
          629,
          496,
          583,
          510,
          1174,
          575,
          694,
          660,
          553,
          410,
          808,
          443,
          931,
          1042,
          1133,
          751,
          552,
          762,
          1149,
          638,
          662,
          1141,
          487,
          1038,
          683,
          830,
          981,
          777,
          794,
          771,
          1159,
          974,
          612,
          621,
          788,
          837,
          1089,
          1093,
          486,
          826,
          1002,
          769,
          517,
          925,
          932,
          498,
          942,
          766,
          442,
          1129,
          726,
          966,
          605,
          711,
          1124,
          992,
          780,
          1150,
          918,
          915,
          732,
          499,
          961,
          546,
          1172,
          939,
          951,
          826,
          579,
          1111,
          1056,
          1067,
          1001,
          1081,
          680,
          1137,
          949,
          845,
          1003
         ],
         "y": [
          1600,
          589,
          1006,
          357,
          1616,
          759,
          1143,
          7,
          661,
          1553,
          482,
          341,
          842,
          249,
          1002,
          1119,
          1467,
          367,
          1537,
          1748,
          1644,
          537,
          1014,
          586,
          645,
          1524,
          763,
          959,
          1425,
          523,
          1154,
          1540,
          580,
          542,
          740,
          475,
          1638,
          777,
          1158,
          1273,
          1347,
          1376,
          1632,
          600,
          1000,
          1056,
          1331,
          23,
          1133,
          1728,
          112,
          1193,
          1349,
          1195,
          1098,
          730,
          384,
          57,
          946,
          1051,
          280,
          958,
          772,
          46,
          861,
          33,
          700,
          1562,
          1059,
          1720,
          344,
          661,
          1387,
          1640,
          272,
          888,
          889,
          72,
          335,
          792,
          266,
          97,
          125,
          1728,
          101,
          1388,
          357,
          1504,
          346,
          148,
          304,
          1093,
          1564,
          1160,
          44,
          593,
          468,
          1717,
          497,
          1216,
          1437,
          648,
          833,
          1060,
          405,
          455,
          605,
          654,
          1463,
          392,
          320,
          842,
          1024,
          1192,
          448,
          915,
          1383,
          1669,
          1006,
          754,
          207,
          1532,
          718,
          1505,
          918,
          496,
          856,
          482,
          223,
          632,
          1444,
          207,
          590,
          688,
          267,
          668,
          583,
          794,
          190,
          1435,
          1273,
          200,
          1067,
          221,
          1558,
          723,
          692,
          172,
          1394,
          656,
          1299,
          949,
          1208,
          161,
          1640,
          981,
          707,
          1071,
          219,
          1721,
          1361,
          763,
          737,
          1170,
          1236,
          839,
          534,
          1727,
          284,
          230,
          1017,
          756,
          311,
          1500,
          414,
          328,
          188,
          292,
          1085,
          1464,
          1427,
          1436,
          1602,
          736,
          1637,
          893,
          750,
          165,
          805,
          746,
          1614,
          677,
          744,
          153,
          1621,
          425,
          1608,
          1724,
          1097,
          129,
          479,
          1190,
          304,
          1161,
          1420,
          422,
          886,
          780,
          377,
          390,
          1616,
          1019,
          986,
          1241,
          1036,
          1718,
          258,
          1728,
          1413,
          442,
          1252,
          387,
          977,
          587,
          1022,
          978,
          420,
          1521,
          997,
          477,
          815,
          1339,
          801,
          827,
          458,
          1569,
          1342,
          489,
          638,
          1290,
          718,
          1095,
          932,
          176,
          243,
          1139,
          366,
          1165,
          1241,
          546,
          1320,
          597,
          1265,
          138,
          297,
          204,
          635,
          1596,
          1570,
          1166,
          497,
          585,
          1232,
          342,
          47,
          1124,
          1092,
          699,
          856,
          1126,
          1012,
          399,
          289,
          1112,
          99,
          682,
          1725,
          1522,
          945,
          1267,
          648,
          8,
          1681,
          1412,
          1228,
          359,
          1509,
          1580,
          393,
          1336,
          196,
          856,
          1093,
          1558,
          952,
          1025,
          1436,
          1407,
          1062,
          1605,
          1187,
          85,
          563,
          712,
          440,
          977,
          1247,
          1667,
          1031,
          1644,
          1188,
          1361,
          1072,
          177,
          543,
          1672,
          673,
          586,
          643,
          873,
          1702,
          504,
          618,
          746,
          347,
          635,
          163,
          702,
          1529,
          1075,
          1551,
          1274,
          1026,
          1244,
          1242,
          1240,
          994,
          1690,
          1197,
          1670,
          1018,
          924,
          1653,
          933,
          391,
          1354,
          119,
          889,
          885,
          310,
          967,
          1418,
          812,
          43,
          1398,
          243,
          113,
          1308,
          488,
          1320,
          452,
          113,
          83,
          1605,
          468,
          1072,
          1101,
          1218,
          32,
          1130
         ],
         "z": [
          4.96,
          4.58,
          6.23,
          14.96,
          24.56,
          9.96,
          4,
          23.06,
          10.08,
          6.95,
          6.47,
          16.33,
          5.78,
          16.98,
          5.66,
          11.33,
          4.33,
          22.13,
          6.51,
          18.66,
          24.36,
          9.3,
          11.16,
          10.33,
          4.5,
          3.85,
          5.86,
          4.64,
          5.12,
          19.57,
          6.99,
          24.6,
          5.03,
          16.9,
          11.84,
          6.25,
          4.74,
          13.53,
          4.11,
          7.65,
          3.92,
          24.58,
          24.59,
          19.48,
          4.41,
          15.87,
          4.06,
          13.14,
          4.62,
          8.83,
          17.09,
          24.56,
          5.98,
          10.77,
          4.99,
          19.41,
          21.16,
          16.07,
          14.29,
          9.96,
          21.82,
          4.33,
          8.65,
          22.75,
          4.21,
          18.17,
          5.91,
          24.58,
          4.22,
          3.87,
          11.94,
          19.54,
          5.24,
          3.88,
          5.18,
          5.59,
          8.94,
          23.41,
          6.36,
          5.57,
          20.32,
          15.59,
          10.9,
          24.6,
          19.1,
          22.21,
          11.99,
          3.95,
          22.42,
          5.56,
          16.96,
          8.25,
          4.31,
          7.43,
          20.99,
          19.82,
          6.06,
          4.34,
          5.02,
          19,
          24.6,
          11.26,
          15.85,
          4.31,
          5.59,
          7.58,
          14.55,
          6.11,
          5.64,
          6.29,
          5.85,
          4.99,
          13.71,
          4.28,
          21.36,
          7.55,
          5.48,
          24.57,
          12.15,
          4.73,
          14.74,
          24.59,
          7.13,
          24.6,
          4.23,
          6.34,
          4.86,
          16.13,
          16.11,
          16.01,
          24.59,
          10.27,
          13.1,
          6.64,
          6.2,
          17.71,
          14.43,
          7.18,
          6.92,
          4,
          12.47,
          13.87,
          4.1,
          10.23,
          12.22,
          17.15,
          7.15,
          6.9,
          4.92,
          14.22,
          5.37,
          6.39,
          5.76,
          15.38,
          5.38,
          15.17,
          5.3,
          4.35,
          12.47,
          24.59,
          24.34,
          5.46,
          14.26,
          6.1,
          6.69,
          15.94,
          7.88,
          8.64,
          18.74,
          19.31,
          24.21,
          8.88,
          22.67,
          24.57,
          20.79,
          14.36,
          11.66,
          16.59,
          12.4,
          24.59,
          4.96,
          24.59,
          24.6,
          16.06,
          17.09,
          5.1,
          4.73,
          14.22,
          9.77,
          4.54,
          4.01,
          4.93,
          4.46,
          10.82,
          24.58,
          18.5,
          4.59,
          5.97,
          5.69,
          16.75,
          4.8,
          4.23,
          17.34,
          4.38,
          9.53,
          5.28,
          4.4,
          10.34,
          20.54,
          9.8,
          5.9,
          15.4,
          4.84,
          3.99,
          13.28,
          24.6,
          17.74,
          4.27,
          5.19,
          6.07,
          4.29,
          6.2,
          4.26,
          18.67,
          23.61,
          4.58,
          18.83,
          14.07,
          4.46,
          12.56,
          5.44,
          8.02,
          8.53,
          17.29,
          10.77,
          4.88,
          4.47,
          16.97,
          12.79,
          8.31,
          7.13,
          4.62,
          20.96,
          12.69,
          22.76,
          5.43,
          16.91,
          24.5,
          3.99,
          4.69,
          22.47,
          11.07,
          6.31,
          17.6,
          21.77,
          19.72,
          5.73,
          3.85,
          4.6,
          5.24,
          5.39,
          18.22,
          17.83,
          13.89,
          16.95,
          5.03,
          8.77,
          8.42,
          17.63,
          4.03,
          4.95,
          12.21,
          21.4,
          10.82,
          18.17,
          5.02,
          24.6,
          4.22,
          4.6,
          6.1,
          4.68,
          17.66,
          13.36,
          24.29,
          4.02,
          21.96,
          3.99,
          24.6,
          5.12,
          4.05,
          5.74,
          5.46,
          19.55,
          24.58,
          11.41,
          14.53,
          24.49,
          14,
          6.2,
          24.59,
          24.57,
          18.16,
          7.43,
          11.25,
          19.3,
          13.93,
          5.79,
          24.6,
          4.69,
          3.91,
          9.73,
          15.13,
          12.35,
          5.64,
          17.93,
          24.51,
          7.3,
          15.62,
          5.43,
          4.32,
          21.06,
          20.93,
          14.84,
          5.3,
          5.46,
          6.16,
          17.85,
          17.09,
          3.95,
          19.72,
          8.18,
          3.99,
          4.63,
          24.01,
          4.18,
          4.16,
          14.31,
          5.78,
          5.19,
          24.6,
          12.97,
          4.73,
          4.96,
          6.35,
          8.84,
          4.92,
          21.4,
          4.39,
          16.12,
          17.95,
          4.38,
          10.72,
          8.36,
          21.52,
          24.53,
          22.76,
          20.6,
          4.16,
          11.78,
          22.18,
          20.56,
          22.27,
          22.54,
          4.42,
          19.82,
          5.84,
          11.55,
          4.09,
          19.61,
          4.57
         ]
        },
        {
         "marker": {
          "size": 5
         },
         "mode": "markers",
         "name": "Compliant effluent",
         "type": "scatter3d",
         "x": [
          944,
          965,
          749,
          977,
          802,
          991,
          810,
          865,
          1005,
          1057,
          840,
          670,
          886,
          684,
          1043,
          863,
          834,
          682,
          716,
          1097,
          638,
          980,
          897,
          854,
          777,
          729,
          1074,
          902,
          832,
          937,
          896,
          792,
          964,
          724,
          1007,
          752,
          1070,
          997,
          762,
          1149,
          1093,
          769,
          925,
          932,
          726,
          966,
          780,
          951,
          1001
         ],
         "y": [
          1600,
          1467,
          959,
          1638,
          1000,
          1331,
          958,
          1059,
          1564,
          1717,
          1060,
          842,
          1192,
          754,
          1435,
          1394,
          1071,
          750,
          746,
          1614,
          677,
          1608,
          1190,
          1161,
          886,
          986,
          1728,
          1252,
          977,
          1569,
          1342,
          1095,
          1570,
          1012,
          1522,
          945,
          1509,
          1336,
          1031,
          1644,
          1529,
          1026,
          1242,
          1240,
          924,
          1653,
          889,
          1308,
          1605
         ],
         "z": [
          4.96,
          4.33,
          4.64,
          4.74,
          4.41,
          4.06,
          4.33,
          4.22,
          4.31,
          4.34,
          4.31,
          4.99,
          4.28,
          4.73,
          4,
          4.92,
          4.35,
          4.73,
          4.54,
          4.01,
          4.93,
          4.59,
          4.23,
          4.38,
          4.4,
          4.84,
          4.27,
          4.29,
          4.26,
          4.88,
          4.47,
          4.62,
          4.6,
          4.95,
          4.22,
          4.6,
          3.99,
          4.05,
          4.69,
          3.91,
          3.95,
          4.63,
          4.18,
          4.16,
          4.73,
          4.96,
          4.39,
          4.16,
          4.42
         ]
        }
       ],
       "layout": {
        "height": 600,
        "scene": {
         "xaxis": {
          "title": {
           "text": "FeCl3 (L/d)"
          }
         },
         "yaxis": {
          "title": {
           "text": "NaOH (L/d)"
          }
         },
         "zaxis": {
          "title": {
           "text": "TP (mg-P/L)"
          }
         }
        },
        "template": {
         "data": {
          "bar": [
           {
            "error_x": {
             "color": "#2a3f5f"
            },
            "error_y": {
             "color": "#2a3f5f"
            },
            "marker": {
             "line": {
              "color": "#E5ECF6",
              "width": 0.5
             },
             "pattern": {
              "fillmode": "overlay",
              "size": 10,
              "solidity": 0.2
             }
            },
            "type": "bar"
           }
          ],
          "barpolar": [
           {
            "marker": {
             "line": {
              "color": "#E5ECF6",
              "width": 0.5
             },
             "pattern": {
              "fillmode": "overlay",
              "size": 10,
              "solidity": 0.2
             }
            },
            "type": "barpolar"
           }
          ],
          "carpet": [
           {
            "aaxis": {
             "endlinecolor": "#2a3f5f",
             "gridcolor": "white",
             "linecolor": "white",
             "minorgridcolor": "white",
             "startlinecolor": "#2a3f5f"
            },
            "baxis": {
             "endlinecolor": "#2a3f5f",
             "gridcolor": "white",
             "linecolor": "white",
             "minorgridcolor": "white",
             "startlinecolor": "#2a3f5f"
            },
            "type": "carpet"
           }
          ],
          "choropleth": [
           {
            "colorbar": {
             "outlinewidth": 0,
             "ticks": ""
            },
            "type": "choropleth"
           }
          ],
          "contour": [
           {
            "colorbar": {
             "outlinewidth": 0,
             "ticks": ""
            },
            "colorscale": [
             [
              0,
              "#0d0887"
             ],
             [
              0.1111111111111111,
              "#46039f"
             ],
             [
              0.2222222222222222,
              "#7201a8"
             ],
             [
              0.3333333333333333,
              "#9c179e"
             ],
             [
              0.4444444444444444,
              "#bd3786"
             ],
             [
              0.5555555555555556,
              "#d8576b"
             ],
             [
              0.6666666666666666,
              "#ed7953"
             ],
             [
              0.7777777777777778,
              "#fb9f3a"
             ],
             [
              0.8888888888888888,
              "#fdca26"
             ],
             [
              1,
              "#f0f921"
             ]
            ],
            "type": "contour"
           }
          ],
          "contourcarpet": [
           {
            "colorbar": {
             "outlinewidth": 0,
             "ticks": ""
            },
            "type": "contourcarpet"
           }
          ],
          "heatmap": [
           {
            "colorbar": {
             "outlinewidth": 0,
             "ticks": ""
            },
            "colorscale": [
             [
              0,
              "#0d0887"
             ],
             [
              0.1111111111111111,
              "#46039f"
             ],
             [
              0.2222222222222222,
              "#7201a8"
             ],
             [
              0.3333333333333333,
              "#9c179e"
             ],
             [
              0.4444444444444444,
              "#bd3786"
             ],
             [
              0.5555555555555556,
              "#d8576b"
             ],
             [
              0.6666666666666666,
              "#ed7953"
             ],
             [
              0.7777777777777778,
              "#fb9f3a"
             ],
             [
              0.8888888888888888,
              "#fdca26"
             ],
             [
              1,
              "#f0f921"
             ]
            ],
            "type": "heatmap"
           }
          ],
          "heatmapgl": [
           {
            "colorbar": {
             "outlinewidth": 0,
             "ticks": ""
            },
            "colorscale": [
             [
              0,
              "#0d0887"
             ],
             [
              0.1111111111111111,
              "#46039f"
             ],
             [
              0.2222222222222222,
              "#7201a8"
             ],
             [
              0.3333333333333333,
              "#9c179e"
             ],
             [
              0.4444444444444444,
              "#bd3786"
             ],
             [
              0.5555555555555556,
              "#d8576b"
             ],
             [
              0.6666666666666666,
              "#ed7953"
             ],
             [
              0.7777777777777778,
              "#fb9f3a"
             ],
             [
              0.8888888888888888,
              "#fdca26"
             ],
             [
              1,
              "#f0f921"
             ]
            ],
            "type": "heatmapgl"
           }
          ],
          "histogram": [
           {
            "marker": {
             "pattern": {
              "fillmode": "overlay",
              "size": 10,
              "solidity": 0.2
             }
            },
            "type": "histogram"
           }
          ],
          "histogram2d": [
           {
            "colorbar": {
             "outlinewidth": 0,
             "ticks": ""
            },
            "colorscale": [
             [
              0,
              "#0d0887"
             ],
             [
              0.1111111111111111,
              "#46039f"
             ],
             [
              0.2222222222222222,
              "#7201a8"
             ],
             [
              0.3333333333333333,
              "#9c179e"
             ],
             [
              0.4444444444444444,
              "#bd3786"
             ],
             [
              0.5555555555555556,
              "#d8576b"
             ],
             [
              0.6666666666666666,
              "#ed7953"
             ],
             [
              0.7777777777777778,
              "#fb9f3a"
             ],
             [
              0.8888888888888888,
              "#fdca26"
             ],
             [
              1,
              "#f0f921"
             ]
            ],
            "type": "histogram2d"
           }
          ],
          "histogram2dcontour": [
           {
            "colorbar": {
             "outlinewidth": 0,
             "ticks": ""
            },
            "colorscale": [
             [
              0,
              "#0d0887"
             ],
             [
              0.1111111111111111,
              "#46039f"
             ],
             [
              0.2222222222222222,
              "#7201a8"
             ],
             [
              0.3333333333333333,
              "#9c179e"
             ],
             [
              0.4444444444444444,
              "#bd3786"
             ],
             [
              0.5555555555555556,
              "#d8576b"
             ],
             [
              0.6666666666666666,
              "#ed7953"
             ],
             [
              0.7777777777777778,
              "#fb9f3a"
             ],
             [
              0.8888888888888888,
              "#fdca26"
             ],
             [
              1,
              "#f0f921"
             ]
            ],
            "type": "histogram2dcontour"
           }
          ],
          "mesh3d": [
           {
            "colorbar": {
             "outlinewidth": 0,
             "ticks": ""
            },
            "type": "mesh3d"
           }
          ],
          "parcoords": [
           {
            "line": {
             "colorbar": {
              "outlinewidth": 0,
              "ticks": ""
             }
            },
            "type": "parcoords"
           }
          ],
          "pie": [
           {
            "automargin": true,
            "type": "pie"
           }
          ],
          "scatter": [
           {
            "fillpattern": {
             "fillmode": "overlay",
             "size": 10,
             "solidity": 0.2
            },
            "type": "scatter"
           }
          ],
          "scatter3d": [
           {
            "line": {
             "colorbar": {
              "outlinewidth": 0,
              "ticks": ""
             }
            },
            "marker": {
             "colorbar": {
              "outlinewidth": 0,
              "ticks": ""
             }
            },
            "type": "scatter3d"
           }
          ],
          "scattercarpet": [
           {
            "marker": {
             "colorbar": {
              "outlinewidth": 0,
              "ticks": ""
             }
            },
            "type": "scattercarpet"
           }
          ],
          "scattergeo": [
           {
            "marker": {
             "colorbar": {
              "outlinewidth": 0,
              "ticks": ""
             }
            },
            "type": "scattergeo"
           }
          ],
          "scattergl": [
           {
            "marker": {
             "colorbar": {
              "outlinewidth": 0,
              "ticks": ""
             }
            },
            "type": "scattergl"
           }
          ],
          "scattermapbox": [
           {
            "marker": {
             "colorbar": {
              "outlinewidth": 0,
              "ticks": ""
             }
            },
            "type": "scattermapbox"
           }
          ],
          "scatterpolar": [
           {
            "marker": {
             "colorbar": {
              "outlinewidth": 0,
              "ticks": ""
             }
            },
            "type": "scatterpolar"
           }
          ],
          "scatterpolargl": [
           {
            "marker": {
             "colorbar": {
              "outlinewidth": 0,
              "ticks": ""
             }
            },
            "type": "scatterpolargl"
           }
          ],
          "scatterternary": [
           {
            "marker": {
             "colorbar": {
              "outlinewidth": 0,
              "ticks": ""
             }
            },
            "type": "scatterternary"
           }
          ],
          "surface": [
           {
            "colorbar": {
             "outlinewidth": 0,
             "ticks": ""
            },
            "colorscale": [
             [
              0,
              "#0d0887"
             ],
             [
              0.1111111111111111,
              "#46039f"
             ],
             [
              0.2222222222222222,
              "#7201a8"
             ],
             [
              0.3333333333333333,
              "#9c179e"
             ],
             [
              0.4444444444444444,
              "#bd3786"
             ],
             [
              0.5555555555555556,
              "#d8576b"
             ],
             [
              0.6666666666666666,
              "#ed7953"
             ],
             [
              0.7777777777777778,
              "#fb9f3a"
             ],
             [
              0.8888888888888888,
              "#fdca26"
             ],
             [
              1,
              "#f0f921"
             ]
            ],
            "type": "surface"
           }
          ],
          "table": [
           {
            "cells": {
             "fill": {
              "color": "#EBF0F8"
             },
             "line": {
              "color": "white"
             }
            },
            "header": {
             "fill": {
              "color": "#C8D4E3"
             },
             "line": {
              "color": "white"
             }
            },
            "type": "table"
           }
          ]
         },
         "layout": {
          "annotationdefaults": {
           "arrowcolor": "#2a3f5f",
           "arrowhead": 0,
           "arrowwidth": 1
          },
          "autotypenumbers": "strict",
          "coloraxis": {
           "colorbar": {
            "outlinewidth": 0,
            "ticks": ""
           }
          },
          "colorscale": {
           "diverging": [
            [
             0,
             "#8e0152"
            ],
            [
             0.1,
             "#c51b7d"
            ],
            [
             0.2,
             "#de77ae"
            ],
            [
             0.3,
             "#f1b6da"
            ],
            [
             0.4,
             "#fde0ef"
            ],
            [
             0.5,
             "#f7f7f7"
            ],
            [
             0.6,
             "#e6f5d0"
            ],
            [
             0.7,
             "#b8e186"
            ],
            [
             0.8,
             "#7fbc41"
            ],
            [
             0.9,
             "#4d9221"
            ],
            [
             1,
             "#276419"
            ]
           ],
           "sequential": [
            [
             0,
             "#0d0887"
            ],
            [
             0.1111111111111111,
             "#46039f"
            ],
            [
             0.2222222222222222,
             "#7201a8"
            ],
            [
             0.3333333333333333,
             "#9c179e"
            ],
            [
             0.4444444444444444,
             "#bd3786"
            ],
            [
             0.5555555555555556,
             "#d8576b"
            ],
            [
             0.6666666666666666,
             "#ed7953"
            ],
            [
             0.7777777777777778,
             "#fb9f3a"
            ],
            [
             0.8888888888888888,
             "#fdca26"
            ],
            [
             1,
             "#f0f921"
            ]
           ],
           "sequentialminus": [
            [
             0,
             "#0d0887"
            ],
            [
             0.1111111111111111,
             "#46039f"
            ],
            [
             0.2222222222222222,
             "#7201a8"
            ],
            [
             0.3333333333333333,
             "#9c179e"
            ],
            [
             0.4444444444444444,
             "#bd3786"
            ],
            [
             0.5555555555555556,
             "#d8576b"
            ],
            [
             0.6666666666666666,
             "#ed7953"
            ],
            [
             0.7777777777777778,
             "#fb9f3a"
            ],
            [
             0.8888888888888888,
             "#fdca26"
            ],
            [
             1,
             "#f0f921"
            ]
           ]
          },
          "colorway": [
           "#636efa",
           "#EF553B",
           "#00cc96",
           "#ab63fa",
           "#FFA15A",
           "#19d3f3",
           "#FF6692",
           "#B6E880",
           "#FF97FF",
           "#FECB52"
          ],
          "font": {
           "color": "#2a3f5f"
          },
          "geo": {
           "bgcolor": "white",
           "lakecolor": "white",
           "landcolor": "#E5ECF6",
           "showlakes": true,
           "showland": true,
           "subunitcolor": "white"
          },
          "hoverlabel": {
           "align": "left"
          },
          "hovermode": "closest",
          "mapbox": {
           "style": "light"
          },
          "paper_bgcolor": "white",
          "plot_bgcolor": "#E5ECF6",
          "polar": {
           "angularaxis": {
            "gridcolor": "white",
            "linecolor": "white",
            "ticks": ""
           },
           "bgcolor": "#E5ECF6",
           "radialaxis": {
            "gridcolor": "white",
            "linecolor": "white",
            "ticks": ""
           }
          },
          "scene": {
           "xaxis": {
            "backgroundcolor": "#E5ECF6",
            "gridcolor": "white",
            "gridwidth": 2,
            "linecolor": "white",
            "showbackground": true,
            "ticks": "",
            "zerolinecolor": "white"
           },
           "yaxis": {
            "backgroundcolor": "#E5ECF6",
            "gridcolor": "white",
            "gridwidth": 2,
            "linecolor": "white",
            "showbackground": true,
            "ticks": "",
            "zerolinecolor": "white"
           },
           "zaxis": {
            "backgroundcolor": "#E5ECF6",
            "gridcolor": "white",
            "gridwidth": 2,
            "linecolor": "white",
            "showbackground": true,
            "ticks": "",
            "zerolinecolor": "white"
           }
          },
          "shapedefaults": {
           "line": {
            "color": "#2a3f5f"
           }
          },
          "ternary": {
           "aaxis": {
            "gridcolor": "white",
            "linecolor": "white",
            "ticks": ""
           },
           "baxis": {
            "gridcolor": "white",
            "linecolor": "white",
            "ticks": ""
           },
           "bgcolor": "#E5ECF6",
           "caxis": {
            "gridcolor": "white",
            "linecolor": "white",
            "ticks": ""
           }
          },
          "title": {
           "x": 0.05
          },
          "xaxis": {
           "automargin": true,
           "gridcolor": "white",
           "linecolor": "white",
           "ticks": "",
           "title": {
            "standoff": 15
           },
           "zerolinecolor": "white",
           "zerolinewidth": 2
          },
          "yaxis": {
           "automargin": true,
           "gridcolor": "white",
           "linecolor": "white",
           "ticks": "",
           "title": {
            "standoff": 15
           },
           "zerolinecolor": "white",
           "zerolinewidth": 2
          }
         }
        },
        "title": {
         "text": "Effluent TP as a function of FeCl3 and NaOH consumption"
        },
        "width": 800
       }
      }
     },
     "metadata": {},
     "output_type": "display_data"
    }
   ],
   "source": [
    "x = results['FeCl3(L/d)']\n",
    "y = results['NaOH(L/d)']\n",
    "z = results['P - Total P [mgP/L]']\n",
    "\n",
    "a = compliant_effluent_df['FeCl3(L/d)']\n",
    "b = compliant_effluent_df['NaOH(L/d)']\n",
    "c = compliant_effluent_df['P - Total P [mgP/L]']\n",
    "\n",
    "\n",
    "fig=go.Figure()\n",
    "fig.add_trace(go.Scatter3d(x=x, y=y, z=z, mode='markers',\n",
    "                                   marker=dict(size=5),name='Effluent'))\n",
    "\n",
    "fig.add_trace(go.Scatter3d(x=a, y=b, z=c, mode='markers',\n",
    "                                   marker=dict(size=5),name='Compliant effluent'))\n",
    "\n",
    "fig.update_layout(title='Effluent TP as a function of FeCl3 and NaOH consumption',\n",
    "                  scene=dict(\n",
    "                      xaxis_title='FeCl3 (L/d)',\n",
    "                      yaxis_title='NaOH (L/d)',\n",
    "                      zaxis_title='TP (mg-P/L)'\n",
    "                  ))\n",
    "fig.update_layout(width=800, height=600)\n",
    "\n",
    "fig.show()\n",
    "\n"
   ]
  },
  {
   "cell_type": "markdown",
   "metadata": {},
   "source": [
    "\n",
    "With the presented plot we can observe that different combinations of FeCl3 and NaOH can render the effluent compliant with local regulations. Additionally, other criteria, such as minimizing costs, could be considered to determine the most suitable chemical consumption for the effluent plant.\n",
    "\n",
    "Performing 370 simulations manually may seem daunting, but it can be easily achieved with Bio2Py."
   ]
  }
 ],
 "metadata": {
  "kernelspec": {
   "display_name": "biowin",
   "language": "python",
   "name": "python3"
  },
  "language_info": {
   "codemirror_mode": {
    "name": "ipython",
    "version": 3
   },
   "file_extension": ".py",
   "mimetype": "text/x-python",
   "name": "python",
   "nbconvert_exporter": "python",
   "pygments_lexer": "ipython3",
   "version": "3.12.0"
  }
 },
 "nbformat": 4,
 "nbformat_minor": 2
}
